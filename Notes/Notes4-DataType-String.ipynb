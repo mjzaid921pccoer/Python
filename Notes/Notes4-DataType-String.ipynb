{
 "cells": [
  {
   "cell_type": "markdown",
   "id": "13a4812a",
   "metadata": {},
   "source": [
    "----\n",
    "----\n",
    "# Content\n",
    "Data Type String\n",
    "* Basic\n",
    "    * Introduction\n",
    "    * single line , multi line string\n",
    "    * len() function\n",
    "    * Looping over strings\n",
    "    * 'str'.split() method\n",
    "    * slicing & slice() function\n",
    "    * str.format() method\n",
    "    * string Built-in Methods\n",
    "* Advance\n",
    "    * string package\n",
    "\n",
    "----\n",
    "# ---------------------------------------------------------------------------------------------------------------"
   ]
  },
  {
   "cell_type": "markdown",
   "id": "021e98ed",
   "metadata": {},
   "source": [
    "# Data Type String - Basic\n",
    "# `<class 'str'>`\n",
    "\n",
    "* surrounded by either single quotation marks, or double quotation marks\n",
    "* **Multiline Strings**\n",
    "* surrounded by either three single quotes, or three double quotes\n",
    "* string are array bytes and can be accessed through slicing operation\n",
    "* **strings are immutable** - values cannot be changed (slicing can only access values cannot update/change : \n",
    "```python\n",
    "s='cut'\n",
    "s[0]='p' # gives error\n",
    "# cannot change as\n",
    "'put'\n",
    "``` \n",
    "hence immutable\n",
    "\n"
   ]
  },
  {
   "cell_type": "markdown",
   "id": "368a4af2",
   "metadata": {},
   "source": [
    "**Using single, double, triple quotes in string at some conditions** \n",
    "\n",
    "```python\n",
    "msg = 'I'm a learner'\n",
    "```\n",
    "as we can see this syntax is incorrect for storing ::>I'm a learner<:: string in variable.\n",
    "\n",
    "using double quotes can help doing **correct syntax way**.\n",
    "```python\n",
    "msg = \"I'm a learner\"\n",
    "```\n",
    "\n",
    "what if we need double quotes to be in our string.\n",
    "```python\n",
    "msg = \"I'm a learner in \"python\" programming\"\n",
    "```\n",
    "\n",
    "using triple quotes can help doing **correct syntax way**.\n",
    "```python\n",
    "msg = \"\"\"I'm a learner in \"python\" programming\"\"\"\n",
    "```\n",
    "\n",
    "**Using `\\` in conditions as alternate way for quotes**\n",
    "\n",
    "```python\n",
    ">>>msg = 'I\\'m a learner'\n",
    ">>>msg\n",
    "\"I'm a learner\"\n",
    ">>>msg = \"I \\' m a learner in \\\"python\\\" programming\"\n",
    ">>>msg\n",
    "'I \\'m a learner in \"python\" programming'\n",
    "```\n",
    "**Include Backslash character in strings using `\\\\`**\n",
    "\n",
    "Special Charaters : `\\t`,  `\\n`,  `\\f`,  `\\b` etc.\n",
    "\n",
    "Suppressing special characters using **raw string**\n",
    "r\"I'm a raw string\"\n",
    "R\"I'm a raw string too \\n\"\n",
    "\n",
    "Using Variable & strings statements together using **Formatted Strings**\n",
    "```\n",
    "my_variable = \"any data type\"\n",
    "statement = f\"Formatted string includes variable name inside curly parenthesis which are replaced by actual value holding it right here is my variable {my_variable} in formatted string\"\n",
    "print(statement)\n",
    "```\n",
    "Example\n",
    "```python\n",
    ">>>name = \"jefferson jackson\"\n",
    ">>>says = f\"I am {name},a half of firestrome\"\n",
    ">>>print(says)\n",
    "I am jefferson jackson,a half of firestrome\n",
    "```"
   ]
  },
  {
   "cell_type": "markdown",
   "id": "b74e8205",
   "metadata": {},
   "source": [
    "### Single line String"
   ]
  },
  {
   "cell_type": "code",
   "execution_count": 1,
   "id": "61ddccc0",
   "metadata": {},
   "outputs": [],
   "source": [
    "my_name = \"Bruce Wyane\""
   ]
  },
  {
   "cell_type": "markdown",
   "id": "8966b8e2",
   "metadata": {},
   "source": [
    "### Multi line String"
   ]
  },
  {
   "cell_type": "code",
   "execution_count": 2,
   "id": "c49cc616",
   "metadata": {},
   "outputs": [],
   "source": [
    "about_me = \"\"\"\n",
    "Batman's secret identity is Bruce Wayne, a wealthy American industrialist.\n",
    "As a child, Bruce witnessed the murder of his parents, Dr. Thomas Wayne and Martha Wayne, which ultimately led him to craft the Batman persona and seek justice against criminals.\n",
    "He resides on the outskirts of Gotham City in his personal residence, Wayne Manor.\n",
    "Wayne averts suspicion by acting the part of a superficial playboy idly living off his family's fortune and the profits of Wayne Enterprises, his inherited conglomerate.\n",
    "He supports philanthropic causes through his nonprofit Wayne Foundation, but is more widely known as a celebrity socialite.\n",
    "\"\"\""
   ]
  },
  {
   "cell_type": "markdown",
   "id": "ccccf8d9",
   "metadata": {},
   "source": [
    "### `len()` function\n",
    " returns lenth of charaters present in string / iterator"
   ]
  },
  {
   "cell_type": "code",
   "execution_count": 3,
   "id": "ab1dc9d0",
   "metadata": {},
   "outputs": [
    {
     "name": "stdout",
     "output_type": "stream",
     "text": [
      "Bruce Wyane \n",
      "length : 11\n",
      "\n",
      "Batman's secret identity is Bruce Wayne, a wealthy American industrialist.\n",
      "As a child, Bruce witnessed the murder of his parents, Dr. Thomas Wayne and Martha Wayne, which ultimately led him to craft the Batman persona and seek justice against criminals.\n",
      "He resides on the outskirts of Gotham City in his personal residence, Wayne Manor.\n",
      "Wayne averts suspicion by acting the part of a superficial playboy idly living off his family's fortune and the profits of Wayne Enterprises, his inherited conglomerate.\n",
      "He supports philanthropic causes through his nonprofit Wayne Foundation, but is more widely known as a celebrity socialite.\n",
      " \n",
      "length : 632\n"
     ]
    }
   ],
   "source": [
    "print(my_name,'\\nlength :',len(my_name))\n",
    "print(about_me,'\\nlength :',len(about_me))  "
   ]
  },
  {
   "cell_type": "markdown",
   "id": "c8599a5b",
   "metadata": {},
   "source": [
    "'str' with * operator \n",
    "'str'* num:int\n",
    "created a str repeating string content concatinating num times"
   ]
  },
  {
   "cell_type": "code",
   "execution_count": 4,
   "id": "a5d83301",
   "metadata": {},
   "outputs": [
    {
     "name": "stdout",
     "output_type": "stream",
     "text": [
      "----------------------------------------------------------------------------------------------------\n"
     ]
    }
   ],
   "source": [
    "print(\"-\"*100) # string1 * int_value returns string int times string1"
   ]
  },
  {
   "cell_type": "markdown",
   "id": "06365275",
   "metadata": {},
   "source": [
    "#### looping on string iterable"
   ]
  },
  {
   "cell_type": "code",
   "execution_count": 5,
   "id": "51334d54",
   "metadata": {},
   "outputs": [
    {
     "name": "stdout",
     "output_type": "stream",
     "text": [
      "B\n",
      "r\n",
      "u\n",
      "c\n",
      "e\n",
      " \n",
      "W\n",
      "y\n",
      "a\n",
      "n\n",
      "e\n",
      "----------------------------------------------------------------------------------------------------\n"
     ]
    }
   ],
   "source": [
    "for letters in my_name:\n",
    "    print(letters)\n",
    "\n",
    "print(\"-\"*100) \n"
   ]
  },
  {
   "cell_type": "markdown",
   "id": "aa19a220",
   "metadata": {},
   "source": [
    "### `'iterable'.split(char)` method\n",
    "* splits iterable on default value space character & can be override by passing parameter to split on iterable\n",
    "* returns `<class 'list'>` of separated values as list elements\n",
    "Split a string by blank space (this is the default)"
   ]
  },
  {
   "cell_type": "code",
   "execution_count": 6,
   "id": "5e619175",
   "metadata": {},
   "outputs": [
    {
     "name": "stdout",
     "output_type": "stream",
     "text": [
      "Batman's\n",
      "secret\n",
      "identity\n",
      "is\n",
      "Bruce\n",
      "Wayne,\n",
      "a\n",
      "wealthy\n",
      "American\n",
      "industrialist.\n",
      "As\n",
      "a\n",
      "child,\n",
      "Bruce\n",
      "witnessed\n",
      "the\n",
      "murder\n",
      "of\n",
      "his\n",
      "parents,\n",
      "Dr.\n",
      "Thomas\n",
      "Wayne\n",
      "and\n",
      "Martha\n",
      "Wayne,\n",
      "which\n",
      "ultimately\n",
      "led\n",
      "him\n",
      "to\n",
      "craft\n",
      "the\n",
      "Batman\n",
      "persona\n",
      "and\n",
      "seek\n",
      "justice\n",
      "against\n",
      "criminals.\n",
      "He\n",
      "resides\n",
      "on\n",
      "the\n",
      "outskirts\n",
      "of\n",
      "Gotham\n",
      "City\n",
      "in\n",
      "his\n",
      "personal\n",
      "residence,\n",
      "Wayne\n",
      "Manor.\n",
      "Wayne\n",
      "averts\n",
      "suspicion\n",
      "by\n",
      "acting\n",
      "the\n",
      "part\n",
      "of\n",
      "a\n",
      "superficial\n",
      "playboy\n",
      "idly\n",
      "living\n",
      "off\n",
      "his\n",
      "family's\n",
      "fortune\n",
      "and\n",
      "the\n",
      "profits\n",
      "of\n",
      "Wayne\n",
      "Enterprises,\n",
      "his\n",
      "inherited\n",
      "conglomerate.\n",
      "He\n",
      "supports\n",
      "philanthropic\n",
      "causes\n",
      "through\n",
      "his\n",
      "nonprofit\n",
      "Wayne\n",
      "Foundation,\n",
      "but\n",
      "is\n",
      "more\n",
      "widely\n",
      "known\n",
      "as\n",
      "a\n",
      "celebrity\n",
      "socialite.\n"
     ]
    }
   ],
   "source": [
    "for word in about_me.split():\n",
    "    print(word) \n",
    "    \n",
    "# Split by a specific element (doesn't include the element that was split on)\n",
    "# Example: \n",
    "# about_me.split(\".\")\n",
    "# It splits everytime finds \".\" char in string about_me"
   ]
  },
  {
   "cell_type": "markdown",
   "id": "8416b46e",
   "metadata": {},
   "source": [
    "`split()` method application\n",
    "on accepting space separated input from user"
   ]
  },
  {
   "cell_type": "code",
   "execution_count": 7,
   "id": "2cab668d",
   "metadata": {},
   "outputs": [
    {
     "name": "stdout",
     "output_type": "stream",
     "text": [
      "Enter Your Name (Space Separated)Ajey Nagar\n",
      "Ajey\n",
      "Nagar\n"
     ]
    }
   ],
   "source": [
    "first_name, last_name = input('Enter Your Name (Space Separated)').split()\n",
    "# unpacking is term we implemented on above line i.e. We were aware 2 strings would be come out so we defined LHS\n",
    "# clear concept of packing unpacking will be dicussed in further module.\n",
    "print(first_name)\n",
    "print(last_name)"
   ]
  },
  {
   "cell_type": "markdown",
   "id": "2fe2d737",
   "metadata": {},
   "source": [
    "## Slicing Strings\n",
    "\n",
    "* accessing part of iterable by [] passing value is Slicing.<br>\n",
    "\n",
    "<b>```[start : stop : step]```</b>\n",
    "* 1st parameter remain blank means starting to \"stop-1\" index of string array.\n",
    "* 2nd parameter remain blank means \"start\" to last index of string array.\n",
    "* start = a,\n",
    "* end = b\n",
    "* means from a index to b-1 index in string array\n",
    "* step=1 means forward / step = -1 means reverse\n",
    "\n",
    "\n",
    "Negative Slicing is also available<br>\n",
    "```python\n",
    " 0  1  2  3  4\n",
    "-5 -4 -3 -2 -1\n",
    "[B  r  u  c  e]\n",
    "```"
   ]
  },
  {
   "cell_type": "code",
   "execution_count": 8,
   "id": "d18638b2",
   "metadata": {},
   "outputs": [
    {
     "name": "stdout",
     "output_type": "stream",
     "text": [
      "First Name : Bruce\n",
      "1st 3 letters :Bru\n",
      "last 3 letters :uce\n"
     ]
    }
   ],
   "source": [
    "my_name = \"Bruce\"\n",
    "print(\"First Name : \"+my_name[:5])\n",
    "\n",
    "print(\"1st 3 letters :\"+my_name[0:3])\n",
    "\n",
    "print(\"last 3 letters :\"+my_name[-3::1])"
   ]
  },
  {
   "cell_type": "markdown",
   "id": "801c1757",
   "metadata": {},
   "source": [
    "## `'str'.slice(start, stop, step)` method"
   ]
  },
  {
   "cell_type": "code",
   "execution_count": 9,
   "id": "14f42c13",
   "metadata": {},
   "outputs": [
    {
     "name": "stdout",
     "output_type": "stream",
     "text": [
      "ecurB\n",
      "ecurB\n"
     ]
    }
   ],
   "source": [
    "#Reversing String\n",
    "reverse_slice=slice(-1,-(len(my_name)+1),-1)\n",
    "print(my_name[reverse_slice])\n",
    "# same as\n",
    "print(my_name[::-1])"
   ]
  },
  {
   "cell_type": "markdown",
   "id": "ae3336a7",
   "metadata": {},
   "source": [
    "### Strings are immutable\n",
    "\n",
    "* It's important to note that strings have an important property known as *immutability*. \n",
    "* This means that once a string is created, the elements within it can not be changed or replaced. For example:\n",
    "\n",
    "```python\n",
    ">>>my_name = \"Bruce Wayne\"\n",
    ">>>print(\"last name :\"+my_name[5:len(my_name)+1:1])\n",
    "last name :Wayne\n",
    "    \n",
    "    \n",
    ">>>my_name[5:len(my_name)+1:1]=\"Baner\"\n",
    "TypeError                                 Traceback (most recent call last)\n",
    "<ipython-input-26-976942677f11> in <module>()\n",
    "----> 2 my_name[5:len(my_name)+1:1]=\"Baner\"\n",
    "\n",
    "TypeError: 'str' object does not support item assignment\n",
    "```\n",
    "Error will occur as String object is immutable<br>\n",
    "An immutable object is an object whose state can never be modified after it is created.<br>\n",
    "remember \"Bruce Wayne\" is object we are talking about however `my_name` can be assigned with new object<br>"
   ]
  },
  {
   "cell_type": "code",
   "execution_count": 10,
   "id": "870eaecf",
   "metadata": {},
   "outputs": [
    {
     "name": "stdout",
     "output_type": "stream",
     "text": [
      "AaBbCcDdEeFfGgHhIiJjKkLlMmNnOoPpQqRrSsTtUuVvWwXxYyZz\n",
      "Caps : ABCDEFGHIJKLMNOPQRSTUVWXYZ\n",
      "small reverse :zyxwvutsrqponmlkjihgfedcba\n"
     ]
    }
   ],
   "source": [
    "letters=\"AaBbCcDdEeFfGgHhIiJjKkLlMmNnOoPpQqRrSsTtUuVvWwXxYyZz\"\n",
    "\n",
    "# Grab everything, but go in steps size of 1\n",
    "print(letters[::1])\n",
    "\n",
    "# Grab everything, but go in step sizes of 2\n",
    "print(\"Caps : \"+letters[::2])\n",
    "\n",
    "# We can use this to print a string backwards by -2 steps\n",
    "print(\"small reverse :\"+letters[len(letters):0:-2])"
   ]
  },
  {
   "cell_type": "markdown",
   "id": "f605012a",
   "metadata": {},
   "source": [
    "## Print Formatting\n",
    "\n",
    "We can use the ```.format()``` method to add formatted objects to printed string statements.\n",
    "\n",
    "[check docs](https://docs.python.org/3/library/string.html?highlight=string#string.Formatter.parse)\n",
    "\n",
    "[format specifier.](https://docs.python.org/3/library/string.html#formatspec)\n",
    "\n",
    "The easiest way to show this is through an example:"
   ]
  },
  {
   "cell_type": "code",
   "execution_count": 11,
   "id": "2196e60f",
   "metadata": {},
   "outputs": [
    {
     "data": {
      "text/plain": [
       "'Hello Coder, Happy Learning Python Programming'"
      ]
     },
     "execution_count": 11,
     "metadata": {},
     "output_type": "execute_result"
    }
   ],
   "source": [
    "'Hello {}, Happy Learning {}'.format('Coder','Python Programming')"
   ]
  },
  {
   "cell_type": "markdown",
   "id": "c986904b",
   "metadata": {},
   "source": [
    "## String : Build-in Methods\n",
    "* ```strip()```\n",
    "* ```center()```\n",
    "* ```count()```\n",
    "* ```find()```\n",
    "* `rfind()`\n",
    "* `index()`\n",
    "* `rindex()`\n",
    "* ```replace()```\n",
    "* `startswith()`\n",
    "* ```endswith()```\n",
    "\n",
    "* ```isaplha()```\n",
    "* `isdecimal()`\n",
    "* ```isdigit()```\n",
    "* ```isnumeric()```\n",
    "* ```isalnum()```\n",
    "* `isspace()`\n",
    "* `isasci`()`\n",
    "\n",
    "* ```split()```\n",
    "\n",
    "* ```capitalise()```\n",
    "* ```upper()```\n",
    "* ```isupper()```\n",
    "* ```lower()```\n",
    "* ```islower()```\n",
    "* `title()`\n",
    "* `istitle()`\n",
    "* `swapcase()`\n",
    "* `join()`\n",
    "* `splitlines()`\n",
    "* ```expandtabs()```\n",
    "* `casefold()`\n",
    "\n",
    "* ```encode()```\n",
    "* ```decode()```\n"
   ]
  },
  {
   "cell_type": "markdown",
   "id": "78d75dee",
   "metadata": {},
   "source": [
    "### * `str.isidentifier()` method\n",
    "Return True if the string is a valid identifier according to the language definition\n",
    "\n",
    "```python\n",
    ">>>from keywords import iskeyword\n",
    ">>> 'def'.isidentifier(), iskeyword('def')\n",
    "True, True\n",
    "```"
   ]
  },
  {
   "cell_type": "markdown",
   "id": "88d561f2",
   "metadata": {},
   "source": [
    "### 1. `str.strip()` method\n",
    "removes 1st space from string if present"
   ]
  },
  {
   "cell_type": "code",
   "execution_count": 12,
   "id": "a79a5598",
   "metadata": {},
   "outputs": [
    {
     "name": "stdout",
     "output_type": "stream",
     "text": [
      "13\n",
      "bruce banner \n",
      " 12\n"
     ]
    }
   ],
   "source": [
    "my_name = \" bruce banner\"\n",
    "print(len(my_name))\n",
    "\n",
    "\n",
    "my_name = my_name.strip()\n",
    "print(my_name,\"\\n\",len(my_name))"
   ]
  },
  {
   "cell_type": "markdown",
   "id": "cbdcdf86",
   "metadata": {},
   "source": [
    "### 2. `str.center(width,fill)` method\n",
    "width is length of str returned after operation,\n",
    "\n",
    "fill is character which is used to adjust for centralizing str\n",
    "\n",
    "Return centered in a string of length width. Padding is done using the specified fillchar (default is an ASCII space). The original string is returned if width is less than or equal to len(s)."
   ]
  },
  {
   "cell_type": "code",
   "execution_count": 13,
   "id": "60f5a7a8",
   "metadata": {},
   "outputs": [
    {
     "name": "stdout",
     "output_type": "stream",
     "text": [
      "____bruce banner____\n"
     ]
    }
   ],
   "source": [
    "print(my_name.center(20, '_'))\n",
    "#since len(my_name) is 12 : center function returns 20 length str where my_name is centerlize adjusting 4 _ before & after."
   ]
  },
  {
   "cell_type": "markdown",
   "id": "ae0eef97",
   "metadata": {},
   "source": [
    "### 3. `str.count(sub, start, end)` method\n",
    "Return the number of non-overlapping occurrences of substring sub in the range [start, end]. Optional arguments start and end are interpreted as in slice notation."
   ]
  },
  {
   "cell_type": "code",
   "execution_count": 14,
   "id": "fd7e4281",
   "metadata": {},
   "outputs": [
    {
     "name": "stdout",
     "output_type": "stream",
     "text": [
      "2\n"
     ]
    }
   ],
   "source": [
    "print(my_name.count('n'))"
   ]
  },
  {
   "cell_type": "markdown",
   "id": "57579756",
   "metadata": {},
   "source": [
    "### 4. `str.find(sub, start, end)` method\n",
    "Return the lowest index in the string where substring sub is found within the slice s[start:end]. <br>\n",
    "Optional arguments start and end are interpreted as in slice notation. <br>\n",
    "Return -1 if sub is not found."
   ]
  },
  {
   "cell_type": "code",
   "execution_count": 15,
   "id": "081d388a",
   "metadata": {},
   "outputs": [
    {
     "name": "stdout",
     "output_type": "stream",
     "text": [
      "52\n",
      "American\n"
     ]
    }
   ],
   "source": [
    "substring = \"American\"\n",
    "at = about_me.find(substring)\n",
    "print(at)\n",
    "print(about_me[at:at+len(substring)])"
   ]
  },
  {
   "cell_type": "code",
   "execution_count": 16,
   "id": "cdfedb6c",
   "metadata": {},
   "outputs": [
    {
     "name": "stdout",
     "output_type": "stream",
     "text": [
      "-1\n"
     ]
    }
   ],
   "source": [
    "substring = \"Indian\"\n",
    "at = about_me.find(substring)\n",
    "print(at)"
   ]
  },
  {
   "cell_type": "markdown",
   "id": "82a6648e",
   "metadata": {},
   "source": [
    "### 5. `str.index(sub, start, end)` method\n",
    "Like `find()`, but `raise ValueError` when the substring is not found."
   ]
  },
  {
   "cell_type": "code",
   "execution_count": 17,
   "id": "21be8bf1",
   "metadata": {},
   "outputs": [
    {
     "name": "stdout",
     "output_type": "stream",
     "text": [
      "52\n",
      "American\n"
     ]
    }
   ],
   "source": [
    "substring = \"American\"\n",
    "at = about_me.index(substring)\n",
    "print(at)\n",
    "print(about_me[at:at+len(substring)])"
   ]
  },
  {
   "cell_type": "code",
   "execution_count": 18,
   "id": "f6af769a",
   "metadata": {},
   "outputs": [
    {
     "ename": "ValueError",
     "evalue": "substring not found",
     "output_type": "error",
     "traceback": [
      "\u001b[1;31m---------------------------------------------------------------------------\u001b[0m",
      "\u001b[1;31mValueError\u001b[0m                                Traceback (most recent call last)",
      "\u001b[1;32m<ipython-input-18-e7652efc5823>\u001b[0m in \u001b[0;36m<module>\u001b[1;34m\u001b[0m\n\u001b[0;32m      1\u001b[0m \u001b[0msubstring\u001b[0m \u001b[1;33m=\u001b[0m \u001b[1;34m\"Indian\"\u001b[0m\u001b[1;33m\u001b[0m\u001b[1;33m\u001b[0m\u001b[0m\n\u001b[1;32m----> 2\u001b[1;33m \u001b[0mat\u001b[0m \u001b[1;33m=\u001b[0m \u001b[0mabout_me\u001b[0m\u001b[1;33m.\u001b[0m\u001b[0mindex\u001b[0m\u001b[1;33m(\u001b[0m\u001b[0msubstring\u001b[0m\u001b[1;33m)\u001b[0m\u001b[1;33m\u001b[0m\u001b[1;33m\u001b[0m\u001b[0m\n\u001b[0m\u001b[0;32m      3\u001b[0m \u001b[0mprint\u001b[0m\u001b[1;33m(\u001b[0m\u001b[0mat\u001b[0m\u001b[1;33m)\u001b[0m\u001b[1;33m\u001b[0m\u001b[1;33m\u001b[0m\u001b[0m\n",
      "\u001b[1;31mValueError\u001b[0m: substring not found"
     ]
    }
   ],
   "source": [
    "substring = \"Indian\"\n",
    "at = about_me.index(substring)\n",
    "print(at)"
   ]
  },
  {
   "cell_type": "markdown",
   "id": "fc32328f",
   "metadata": {},
   "source": [
    "### 6. `str.replace(old, new, count)` method\n",
    "Return a copy of the string with all occurrences of substring old replaced by new. <br>\n",
    "If the optional argument count is given, only the first count occurrences are replaced."
   ]
  },
  {
   "cell_type": "code",
   "execution_count": 19,
   "id": "bb2e57a0",
   "metadata": {},
   "outputs": [
    {
     "data": {
      "text/plain": [
       "\"\\nBatman's secret identity is Bruce Wayne, a wealthy American industrialist.\\nAs a child, Bruce witnessed the murder of his parents, Dr. Thomas Wayne and Martha Wayne, which ultimately led him to craft the Batman persona and seek justice against criminals.\\nHe resides on the outskirts of Gotham City in his personal residence, Wayne Manor.\\nWayne averts suspicion by acting the part of a superficial playboy idly living off his family's fortune and the profits of Wayne Enterprises, his inherited conglomerate.\\nHe supports philanthropic causes through his nonprofit Wayne Foundation, but is more widely known as a celebrity socialite.\\n\""
      ]
     },
     "execution_count": 19,
     "metadata": {},
     "output_type": "execute_result"
    }
   ],
   "source": [
    "new_about_me= about_me.replace('\\t','\\n')\n",
    "new_about_me"
   ]
  },
  {
   "cell_type": "markdown",
   "id": "062258e4",
   "metadata": {},
   "source": [
    "### 7. `str.startswith(prefix, start, end)` method\n",
    "Return True if string starts with the prefix, otherwise return False.<br>\n",
    "prefix can also be a tuple of prefixes to look for."
   ]
  },
  {
   "cell_type": "code",
   "execution_count": 20,
   "id": "1987e87e",
   "metadata": {},
   "outputs": [
    {
     "data": {
      "text/plain": [
       "True"
      ]
     },
     "execution_count": 20,
     "metadata": {},
     "output_type": "execute_result"
    }
   ],
   "source": [
    "\"raj's\".startswith(\"raj\")"
   ]
  },
  {
   "cell_type": "markdown",
   "id": "6c6114c9",
   "metadata": {},
   "source": [
    "### 8. `str.endswith(suffix, start, end)` method\n",
    "Return True if the string ends with the specified suffix,"
   ]
  },
  {
   "cell_type": "code",
   "execution_count": 21,
   "id": "8809738f",
   "metadata": {},
   "outputs": [
    {
     "data": {
      "text/plain": [
       "True"
      ]
     },
     "execution_count": 21,
     "metadata": {},
     "output_type": "execute_result"
    }
   ],
   "source": [
    "\"raj's\".endswith(\"'s\")"
   ]
  },
  {
   "cell_type": "markdown",
   "id": "1f687351",
   "metadata": {},
   "source": [
    "### 9. `str.isalpha()` method\n",
    "Return True if all characters in the string are alphabetic and there is at least one character, False otherwise"
   ]
  },
  {
   "cell_type": "code",
   "execution_count": 22,
   "id": "f75f398c",
   "metadata": {},
   "outputs": [
    {
     "data": {
      "text/plain": [
       "True"
      ]
     },
     "execution_count": 22,
     "metadata": {},
     "output_type": "execute_result"
    }
   ],
   "source": [
    "alphabet = 'abcdefghijklmnopqrstuvwxyz' + 'ABCDEFGHIJKLMNOPQRSTUVWXYZ'\n",
    "alphabet.isalpha()"
   ]
  },
  {
   "cell_type": "code",
   "execution_count": 23,
   "id": "4e386566",
   "metadata": {},
   "outputs": [
    {
     "data": {
      "text/plain": [
       "False"
      ]
     },
     "execution_count": 23,
     "metadata": {},
     "output_type": "execute_result"
    }
   ],
   "source": [
    "check = alphabet + '10'\n",
    "check.isalpha()"
   ]
  },
  {
   "cell_type": "markdown",
   "id": "4414f589",
   "metadata": {},
   "source": [
    "### 10. `str.isdecimal()` method\n",
    "Return True if all characters in the string are decimal characters and there is at least one character, False otherwise."
   ]
  },
  {
   "cell_type": "code",
   "execution_count": 24,
   "id": "391f8297",
   "metadata": {},
   "outputs": [
    {
     "name": "stdout",
     "output_type": "stream",
     "text": [
      "True\n",
      "False\n"
     ]
    }
   ],
   "source": [
    "a = \"\\u0030\" #unicode for 0\n",
    "b = \"\\u0047\" #unicode for G\n",
    "\n",
    "print(a.isdecimal())\n",
    "print(b.isdecimal())"
   ]
  },
  {
   "cell_type": "markdown",
   "id": "28f21a37",
   "metadata": {},
   "source": [
    "### 11. `str.isdigit()` method\n",
    "Return True if all characters in the string are digits and there is at least one character, False otherwise. <br>\n",
    "Digits include decimal characters and digits that need special handling, such as the compatibility superscript digits."
   ]
  },
  {
   "cell_type": "code",
   "execution_count": 25,
   "id": "fb07d5c7",
   "metadata": {},
   "outputs": [
    {
     "name": "stdout",
     "output_type": "stream",
     "text": [
      "True\n",
      "True\n",
      "True\n"
     ]
    }
   ],
   "source": [
    "print('10000'.isdigit())\n",
    "a = \"\\u0030\" #unicode for 0\n",
    "b = \"\\u00B2\" #unicode for ²\n",
    "\n",
    "print(a.isdigit())\n",
    "print(b.isdigit())"
   ]
  },
  {
   "cell_type": "markdown",
   "id": "6cdbaa8f",
   "metadata": {},
   "source": [
    "### 12. `str.isnumeric()` method\n",
    "Return True if all characters in the string are numeric characters, and there is at least one character, False otherwise. <br>\n",
    "Numeric characters include digit characters, and all characters that have the Unicode numeric value property"
   ]
  },
  {
   "cell_type": "code",
   "execution_count": 26,
   "id": "cd280d60",
   "metadata": {},
   "outputs": [
    {
     "name": "stdout",
     "output_type": "stream",
     "text": [
      "True\n",
      "True\n",
      "False\n",
      "False\n",
      "True\n",
      "False\n"
     ]
    }
   ],
   "source": [
    "a = \"\\u0030\" #unicode for 0\n",
    "b = \"\\u00B2\" #unicode for ²\n",
    "c = \"10km2\"\n",
    "d = \"-1\"\n",
    "e = \"1\"\n",
    "f = \"1.5\"\n",
    "\n",
    "print(a.isnumeric())\n",
    "print(b.isnumeric())\n",
    "print(c.isnumeric())\n",
    "print(d.isnumeric())\n",
    "print(e.isnumeric())\n",
    "print(f.isnumeric())"
   ]
  },
  {
   "cell_type": "markdown",
   "id": "9272bb9b",
   "metadata": {},
   "source": [
    "### 13. `str.isalnum()` method\n",
    "Return True if all characters in the string are alphanumeric and there is at least one character, False otherwise.<br>\n",
    "A character c is alphanumeric if one of the following returns True: c.isalpha(), c.isdecimal(), c.isdigit(), or c.isnumeric()."
   ]
  },
  {
   "cell_type": "code",
   "execution_count": 27,
   "id": "4dbe0e78",
   "metadata": {},
   "outputs": [
    {
     "name": "stdout",
     "output_type": "stream",
     "text": [
      "False\n",
      "True\n"
     ]
    }
   ],
   "source": [
    "print(\"Year 2021\".isalnum())\n",
    "print(\"Year2021\".isalnum())"
   ]
  },
  {
   "cell_type": "markdown",
   "id": "0021dede",
   "metadata": {},
   "source": [
    "### 14. `str.isspace()` method\n",
    "Return True if there are only whitespace characters in the string and there is at least one character, False otherwise."
   ]
  },
  {
   "cell_type": "code",
   "execution_count": 28,
   "id": "79ec7702",
   "metadata": {},
   "outputs": [
    {
     "name": "stdout",
     "output_type": "stream",
     "text": [
      "True\n",
      "False\n"
     ]
    }
   ],
   "source": [
    "print(\" \".isspace())\n",
    "print(\"Year 2021\".isspace())"
   ]
  },
  {
   "cell_type": "markdown",
   "id": "d14114b5",
   "metadata": {},
   "source": [
    "### 15. `str.isascii()` method\n",
    "Return True if the string is empty or all characters in the string are ASCII, False otherwise. <br>\n",
    "ASCII characters have code points in the range U+0000-U+007F."
   ]
  },
  {
   "cell_type": "code",
   "execution_count": 29,
   "id": "252d3d2d",
   "metadata": {},
   "outputs": [
    {
     "name": "stdout",
     "output_type": "stream",
     "text": [
      "True\n",
      "True\n",
      "False\n",
      "False\n",
      "False\n"
     ]
    }
   ],
   "source": [
    "mystr = '/u00e2' # Unicode of â\n",
    "print(mystr.isascii())\n",
    "\n",
    "mystr = '/u00f8' # Unicode of ø\n",
    "print(mystr.isascii())\n",
    "\n",
    "mystr = 'õ'  \n",
    "print(mystr.isascii())\n",
    "\n",
    "mystr = 'Å' \n",
    "print(mystr.isascii())\n",
    "\n",
    "mystr = 'ß'   # German letter\n",
    "print(mystr.isascii())"
   ]
  },
  {
   "cell_type": "markdown",
   "id": "8e28e3a4",
   "metadata": {},
   "source": [
    "## Case Related"
   ]
  },
  {
   "cell_type": "markdown",
   "id": "2740ea93",
   "metadata": {},
   "source": [
    "### 16. `str.capitalize()` method\n",
    "Return a copy of the string with its first character capitalized and the rest lowercased.\n",
    "\n"
   ]
  },
  {
   "cell_type": "code",
   "execution_count": 30,
   "id": "eac8c0d4",
   "metadata": {},
   "outputs": [
    {
     "name": "stdout",
     "output_type": "stream",
     "text": [
      "Bruce wyane\n"
     ]
    }
   ],
   "source": [
    "print(\"bruce wyane\".capitalize())"
   ]
  },
  {
   "cell_type": "markdown",
   "id": "9287096d",
   "metadata": {},
   "source": [
    "### 17. `str.upper()` method\n",
    "Return a copy of the string with all the cased characters 4 converted to uppercase."
   ]
  },
  {
   "cell_type": "code",
   "execution_count": 31,
   "id": "5bc2e429",
   "metadata": {},
   "outputs": [
    {
     "name": "stdout",
     "output_type": "stream",
     "text": [
      "BRUCE WYANE\n"
     ]
    }
   ],
   "source": [
    "print(\"bruce wyane\".upper())"
   ]
  },
  {
   "cell_type": "markdown",
   "id": "eec84a23",
   "metadata": {},
   "source": [
    "### 18. `str.isupper()` method\n",
    "Return True if all the string are uppercase and there is at least one cased character, False otherwise."
   ]
  },
  {
   "cell_type": "code",
   "execution_count": 32,
   "id": "94f5fc8c",
   "metadata": {},
   "outputs": [
    {
     "name": "stdout",
     "output_type": "stream",
     "text": [
      "True\n",
      "False\n"
     ]
    }
   ],
   "source": [
    "print(\"BRUCE WYANE\".isupper())\n",
    "print(\"Bruce wyane\".isupper())"
   ]
  },
  {
   "cell_type": "markdown",
   "id": "4fe1587a",
   "metadata": {},
   "source": [
    "### 19. `str.lower()` method\n",
    "Return a copy of the string with all the cased characters converted to lowercase."
   ]
  },
  {
   "cell_type": "code",
   "execution_count": 33,
   "id": "c6e693c2",
   "metadata": {},
   "outputs": [
    {
     "name": "stdout",
     "output_type": "stream",
     "text": [
      "bruce wyane\n"
     ]
    }
   ],
   "source": [
    "print(\"BRUCE WYANE\".lower())"
   ]
  },
  {
   "cell_type": "markdown",
   "id": "869b085e",
   "metadata": {},
   "source": [
    "### 20. `str.islower()` method\n",
    "Return True if all cased characters 4 in the string are lowercase and there is at least one cased character, False otherwise."
   ]
  },
  {
   "cell_type": "code",
   "execution_count": 34,
   "id": "517552c2",
   "metadata": {},
   "outputs": [
    {
     "name": "stdout",
     "output_type": "stream",
     "text": [
      "False\n",
      "True\n"
     ]
    }
   ],
   "source": [
    "print(\"Bruce wyane\".islower())\n",
    "print(\"bruce wyane\".islower())"
   ]
  },
  {
   "cell_type": "markdown",
   "id": "dcbf9b14",
   "metadata": {},
   "source": [
    "### 21. `str.title()` method\n",
    "Return a titlecased version of the string where words start with an uppercase character and the remaining characters are lowercase."
   ]
  },
  {
   "cell_type": "code",
   "execution_count": 35,
   "id": "6949102f",
   "metadata": {},
   "outputs": [
    {
     "name": "stdout",
     "output_type": "stream",
     "text": [
      "Bruce Wyane\n"
     ]
    }
   ],
   "source": [
    "print(\"bruce wyane\".title())"
   ]
  },
  {
   "cell_type": "markdown",
   "id": "92a4f049",
   "metadata": {},
   "source": [
    "### 22. `str.istitle()` method\n",
    "Return True if the string is a titlecased string and there is at least one character, \n",
    "<br>for example uppercase characters may only follow uncased characters and lowercase characters only cased ones. <br>\n",
    "Return False otherwise."
   ]
  },
  {
   "cell_type": "code",
   "execution_count": 36,
   "id": "e2c85253",
   "metadata": {},
   "outputs": [
    {
     "name": "stdout",
     "output_type": "stream",
     "text": [
      "False\n",
      "True\n"
     ]
    }
   ],
   "source": [
    "print(\"bruce wyane\".istitle())\n",
    "print(\"Bruce Wyane\".istitle())"
   ]
  },
  {
   "cell_type": "markdown",
   "id": "ea597a68",
   "metadata": {},
   "source": [
    "### 23. `str.swapcase()` method\n",
    "Return a copy of the string with uppercase characters converted to lowercase and vice versa."
   ]
  },
  {
   "cell_type": "code",
   "execution_count": 37,
   "id": "587afe83",
   "metadata": {},
   "outputs": [
    {
     "name": "stdout",
     "output_type": "stream",
     "text": [
      "bRUCE wYANE\n"
     ]
    }
   ],
   "source": [
    "name = \"Bruce Wyane\"\n",
    "print(name.swapcase())"
   ]
  },
  {
   "cell_type": "markdown",
   "id": "39563561",
   "metadata": {},
   "source": [
    "### 24. `str.join(iterable)` method\n",
    "Return a string which is the concatenation of the strings in iterable. <br>\n",
    "A TypeError will be raised if there are any non-string values in iterable, including bytes objects. <br>\n",
    "The separator between elements is the string providing this method."
   ]
  },
  {
   "cell_type": "code",
   "execution_count": 38,
   "id": "214bb754",
   "metadata": {},
   "outputs": [
    {
     "name": "stdout",
     "output_type": "stream",
     "text": [
      "['b', 'r', 'u', 'c', 'e', ' ', 'w', 'y', 'a', 'n', 'e']\n",
      "['b', 'r', 'u', 'c', 'e', ' ', 'w', 'y', 'a', 'n', 'e']\n",
      "bruce wyane\n",
      "b_r_u_c_e_ _w_y_a_n_e\n"
     ]
    }
   ],
   "source": [
    "name = list(\"bruce wyane\")\n",
    "print(name)\n",
    "\n",
    "print(str(name))\n",
    "\n",
    "print(\"\".join(name))\n",
    "sep = \"_\"\n",
    "print(sep.join(name))\n"
   ]
  },
  {
   "cell_type": "markdown",
   "id": "f2b703d1",
   "metadata": {},
   "source": [
    "### 25. `str.splitlines()` method\n",
    "Return a list of the lines in the string, breaking at line boundaries."
   ]
  },
  {
   "cell_type": "code",
   "execution_count": 39,
   "id": "8c07d183",
   "metadata": {},
   "outputs": [
    {
     "data": {
      "text/plain": [
       "['Knight of Ghotam.',\n",
       " 'Crimes Lower in Bat Nights.',\n",
       " 'Bat Signal new symbol of fear in Crime.',\n",
       " 'Batsy Batman']"
      ]
     },
     "execution_count": 39,
     "metadata": {},
     "output_type": "execute_result"
    }
   ],
   "source": [
    "desc = \"\"\"Knight of Ghotam.\n",
    "Crimes Lower in Bat Nights.\n",
    "Bat Signal new symbol of fear in Crime.\n",
    "Batsy Batman\"\"\"\n",
    "\n",
    "desc.splitlines()"
   ]
  },
  {
   "cell_type": "markdown",
   "id": "54292d1e",
   "metadata": {},
   "source": [
    "### 26. `str.expandtabs(tabsize=8)` method\n",
    "Return a copy of the string where all tab characters are replaced by one or more spaces, depending on the current column and the given tab size.<br>\n",
    "Tab positions occur every tabsize characters (default is 8, giving tab positions at columns 0, 8, 16 and so on).<br>\n",
    "To expand the string, the current column is set to zero and the string is examined character by character.<br>"
   ]
  },
  {
   "cell_type": "code",
   "execution_count": 40,
   "id": "05c12e92",
   "metadata": {},
   "outputs": [
    {
     "data": {
      "text/plain": [
       "\"Batman's secret identity is Bruce Wayne  a wealthy American industrialist.\\n As a child      Bruce witnessed the murder of his parents       Dr. Thomas Wayne and Martha Wayne       which ultimately led him to craft the Batman persona and seek justice against criminals.\\n He resides on the outskirts of Gotham City in his personal residence    Wayne Manor\""
      ]
     },
     "execution_count": 40,
     "metadata": {},
     "output_type": "execute_result"
    }
   ],
   "source": [
    "about_me = \"Batman's secret identity is Bruce Wayne\\t a wealthy American industrialist.\\n As a child\\t Bruce witnessed the murder of his parents\\t Dr. Thomas Wayne and Martha Wayne\\t which ultimately led him to craft the Batman persona and seek justice against criminals.\\n He resides on the outskirts of Gotham City in his personal residence\\t Wayne Manor\"\n",
    "about_me.expandtabs()"
   ]
  },
  {
   "cell_type": "markdown",
   "id": "f7a1fe11",
   "metadata": {},
   "source": [
    "### 27. `str.casefold()` method\n",
    "Return a casefolded copy of the string. Casefolded strings may be used for caseless matching.\n",
    "```python\n",
    ">>>'ß'.casefold()\n",
    "'ss'\n",
    "```"
   ]
  },
  {
   "cell_type": "markdown",
   "id": "b76fdf68",
   "metadata": {},
   "source": [
    "# ------------------------------------------------------------------------------------------------------------"
   ]
  },
  {
   "cell_type": "markdown",
   "id": "1d8901fe",
   "metadata": {},
   "source": [
    "# Data Type String - Advance\n",
    "## String Package\n",
    "**String Constant**"
   ]
  },
  {
   "cell_type": "code",
   "execution_count": 41,
   "id": "9e5f28a5",
   "metadata": {},
   "outputs": [],
   "source": [
    "import string"
   ]
  },
  {
   "cell_type": "code",
   "execution_count": 42,
   "id": "e0284537",
   "metadata": {},
   "outputs": [
    {
     "data": {
      "text/plain": [
       "'abcdefghijklmnopqrstuvwxyzABCDEFGHIJKLMNOPQRSTUVWXYZ'"
      ]
     },
     "execution_count": 42,
     "metadata": {},
     "output_type": "execute_result"
    }
   ],
   "source": [
    "string.ascii_letters"
   ]
  },
  {
   "cell_type": "code",
   "execution_count": 43,
   "id": "493ed7da",
   "metadata": {},
   "outputs": [
    {
     "data": {
      "text/plain": [
       "'abcdefghijklmnopqrstuvwxyz'"
      ]
     },
     "execution_count": 43,
     "metadata": {},
     "output_type": "execute_result"
    }
   ],
   "source": [
    "string.ascii_lowercase"
   ]
  },
  {
   "cell_type": "code",
   "execution_count": 44,
   "id": "eb5699ae",
   "metadata": {},
   "outputs": [
    {
     "data": {
      "text/plain": [
       "'ABCDEFGHIJKLMNOPQRSTUVWXYZ'"
      ]
     },
     "execution_count": 44,
     "metadata": {},
     "output_type": "execute_result"
    }
   ],
   "source": [
    "string.ascii_uppercase"
   ]
  },
  {
   "cell_type": "code",
   "execution_count": 45,
   "id": "570df193",
   "metadata": {},
   "outputs": [
    {
     "data": {
      "text/plain": [
       "'0123456789'"
      ]
     },
     "execution_count": 45,
     "metadata": {},
     "output_type": "execute_result"
    }
   ],
   "source": [
    "string.digits"
   ]
  },
  {
   "cell_type": "code",
   "execution_count": 46,
   "id": "20ef983d",
   "metadata": {},
   "outputs": [
    {
     "data": {
      "text/plain": [
       "'0123456789abcdefABCDEF'"
      ]
     },
     "execution_count": 46,
     "metadata": {},
     "output_type": "execute_result"
    }
   ],
   "source": [
    "string.hexdigits"
   ]
  },
  {
   "cell_type": "code",
   "execution_count": 47,
   "id": "fdcbd29b",
   "metadata": {},
   "outputs": [
    {
     "data": {
      "text/plain": [
       "'01234567'"
      ]
     },
     "execution_count": 47,
     "metadata": {},
     "output_type": "execute_result"
    }
   ],
   "source": [
    "string.octdigits"
   ]
  },
  {
   "cell_type": "code",
   "execution_count": 48,
   "id": "1041fffb",
   "metadata": {},
   "outputs": [
    {
     "data": {
      "text/plain": [
       "'!\"#$%&\\'()*+,-./:;<=>?@[\\\\]^_`{|}~'"
      ]
     },
     "execution_count": 48,
     "metadata": {},
     "output_type": "execute_result"
    }
   ],
   "source": [
    "string.punctuation"
   ]
  },
  {
   "cell_type": "code",
   "execution_count": 49,
   "id": "33209116",
   "metadata": {},
   "outputs": [
    {
     "data": {
      "text/plain": [
       "'0123456789abcdefghijklmnopqrstuvwxyzABCDEFGHIJKLMNOPQRSTUVWXYZ!\"#$%&\\'()*+,-./:;<=>?@[\\\\]^_`{|}~ \\t\\n\\r\\x0b\\x0c'"
      ]
     },
     "execution_count": 49,
     "metadata": {},
     "output_type": "execute_result"
    }
   ],
   "source": [
    "string.printable"
   ]
  },
  {
   "cell_type": "code",
   "execution_count": null,
   "id": "d29bea45",
   "metadata": {},
   "outputs": [],
   "source": []
  }
 ],
 "metadata": {
  "kernelspec": {
   "display_name": "Python 3",
   "language": "python",
   "name": "python3"
  },
  "language_info": {
   "codemirror_mode": {
    "name": "ipython",
    "version": 3
   },
   "file_extension": ".py",
   "mimetype": "text/x-python",
   "name": "python",
   "nbconvert_exporter": "python",
   "pygments_lexer": "ipython3",
   "version": "3.8.2"
  }
 },
 "nbformat": 4,
 "nbformat_minor": 5
}
