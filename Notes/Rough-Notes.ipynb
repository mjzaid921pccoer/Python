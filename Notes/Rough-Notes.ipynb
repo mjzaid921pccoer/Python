{
 "cells": [
  {
   "cell_type": "markdown",
   "id": "76234376",
   "metadata": {},
   "source": [
    "Error Type\n",
    "* syntax error - parsing error while interpreter parse source code to bytecode before execution.\n",
    "* runtime error / exception \n",
    "[Built in Exceptions](https://docs.python.org/3/library/exceptions.html)\n",
    "\n",
    "user defined exceptions using `raise Exception` keyword or `assert` keyword\n",
    "`raise` - raise exception\n",
    "`assert`- raise exception if certain condition not met."
   ]
  },
  {
   "cell_type": "code",
   "execution_count": 18,
   "id": "f40338e4",
   "metadata": {},
   "outputs": [
    {
     "ename": "Exception",
     "evalue": "I can explain why we encounter an exception here.",
     "output_type": "error",
     "traceback": [
      "\u001b[1;31m---------------------------------------------------------------------------\u001b[0m",
      "\u001b[1;31mException\u001b[0m                                 Traceback (most recent call last)",
      "\u001b[1;32m<ipython-input-18-8c15f1310616>\u001b[0m in \u001b[0;36m<module>\u001b[1;34m\u001b[0m\n\u001b[1;32m----> 1\u001b[1;33m \u001b[1;32mraise\u001b[0m \u001b[0mException\u001b[0m\u001b[1;33m(\u001b[0m\u001b[1;34m\"I can explain why we encounter an exception here.\"\u001b[0m\u001b[1;33m)\u001b[0m\u001b[1;33m\u001b[0m\u001b[1;33m\u001b[0m\u001b[0m\n\u001b[0m",
      "\u001b[1;31mException\u001b[0m: I can explain why we encounter an exception here."
     ]
    }
   ],
   "source": [
    "\n",
    "raise Exception(\"I can explain why we encounter an exception here.\")"
   ]
  },
  {
   "cell_type": "markdown",
   "id": "141523f1",
   "metadata": {},
   "source": [
    "Exception break the code\n",
    "\n"
   ]
  },
  {
   "cell_type": "markdown",
   "id": "41435db1",
   "metadata": {},
   "source": [
    "----\n",
    "Try Catch except else\n",
    "----"
   ]
  },
  {
   "cell_type": "code",
   "execution_count": null,
   "id": "bea57b59",
   "metadata": {
    "collapsed": true
   },
   "outputs": [],
   "source": [
    "\n",
    "def askint():\n",
    "    while True:\n",
    "        try:\n",
    "            val = int(input(\"Please enter an integer: \"))\n",
    "        # except IOError:\n",
    "        except:\n",
    "            print(\"Looks like you did not enter an integer!\")\n",
    "            continue\n",
    "        else:\n",
    "            print(\"Yep that's an integer!\")\n",
    "            print(val)\n",
    "            break\n",
    "        finally:\n",
    "            print(\"Finally, I executed!\")"
   ]
  },
  {
   "cell_type": "code",
   "execution_count": null,
   "id": "523bb215",
   "metadata": {},
   "outputs": [],
   "source": [
    "assert"
   ]
  },
  {
   "cell_type": "code",
   "execution_count": 20,
   "id": "74345b54",
   "metadata": {},
   "outputs": [
    {
     "name": "stdout",
     "output_type": "stream",
     "text": [
      "0.5\n",
      "Divisior being Zero leads to results Infinite value\n",
      "Divisior being One leads no result to Dividend division value\n",
      "done\n"
     ]
    }
   ],
   "source": [
    "def div(a,b):\n",
    "    try :\n",
    "        res = a/b\n",
    "        assert b!=1 # if this condition not met it will assert error\n",
    "    except ZeroDivisionError:\n",
    "        res = \"Divisior being Zero leads to results Infinite value\"\n",
    "    except AssertionError:\n",
    "        res = \"Divisior being One leads no result to Dividend division value\"\n",
    "    return res\n",
    "\n",
    "print(div(1,2))\n",
    "print(div(1,0))\n",
    "print(div(1,1))\n",
    "print(\"done\")"
   ]
  },
  {
   "cell_type": "markdown",
   "id": "85d16c47",
   "metadata": {},
   "source": [
    "Testing & Unittest\n",
    "----\n",
    "\n",
    "* pylint\n",
    "Pylint first lists some styling issues - \n",
    "an extra newline at the end, \n",
    "modules and function definitions with descriptive docstrings, \n",
    "and single characters are a poor choice for variable names.\n",
    "\n",
    "identified an error - \n",
    "a variable called before assignment"
   ]
  },
  {
   "cell_type": "code",
   "execution_count": null,
   "id": "b043092f",
   "metadata": {},
   "outputs": [],
   "source": [
    "! pip install pylint"
   ]
  },
  {
   "cell_type": "code",
   "execution_count": null,
   "id": "d44baf64",
   "metadata": {},
   "outputs": [],
   "source": [
    "%%writefile simple1.py\n",
    "a = 1\n",
    "b = 2\n",
    "print(a)\n",
    "print(B)\n"
   ]
  },
  {
   "cell_type": "code",
   "execution_count": null,
   "id": "397a0283",
   "metadata": {},
   "outputs": [],
   "source": [
    "! pylint simple1.py"
   ]
  },
  {
   "cell_type": "code",
   "execution_count": null,
   "id": "479b34b0",
   "metadata": {},
   "outputs": [],
   "source": [
    "%%writefile simple1.py\n",
    "\"\"\"\n",
    "A very simple script.\n",
    "\"\"\"\n",
    "\n",
    "def myfunc():\n",
    "    \"\"\"\n",
    "    An extremely simple function.\n",
    "    \"\"\"\n",
    "    first = 1\n",
    "    second = 2\n",
    "    print(first)\n",
    "    print(second)\n",
    "\n",
    "myfunc()\n"
   ]
  },
  {
   "cell_type": "code",
   "execution_count": null,
   "id": "856a8105",
   "metadata": {},
   "outputs": [],
   "source": [
    "! pylint simple1.py"
   ]
  },
  {
   "cell_type": "code",
   "execution_count": null,
   "id": "b8bbff08",
   "metadata": {},
   "outputs": [],
   "source": [
    "%%writefile simple2.py\n",
    "\"\"\"\n",
    "A very simple script.\n",
    "\"\"\"\n",
    "\n",
    "def myfunc():\n",
    "    \"\"\"\n",
    "    An extremely simple function.\n",
    "    \"\"\"\n",
    "    first = 1\n",
    "    second = 2\n",
    "    print(first)\n",
    "    print('second')\n",
    "\n",
    "myfunc()\n"
   ]
  },
  {
   "cell_type": "code",
   "execution_count": null,
   "id": "866d7bef",
   "metadata": {},
   "outputs": [],
   "source": [
    "! pylint simple2.py"
   ]
  },
  {
   "cell_type": "markdown",
   "id": "6e3733b5",
   "metadata": {},
   "source": [
    "* unittest"
   ]
  },
  {
   "cell_type": "code",
   "execution_count": null,
   "id": "d045a31d",
   "metadata": {},
   "outputs": [],
   "source": [
    "%%writefile cap.py\n",
    "def cap_text(text):\n",
    "    return text.capitalize()"
   ]
  },
  {
   "cell_type": "code",
   "execution_count": null,
   "id": "a11bc0c0",
   "metadata": {},
   "outputs": [],
   "source": [
    "%%writefile test_cap.py\n",
    "import unittest\n",
    "import cap\n",
    "\n",
    "class TestCap(unittest.TestCase):\n",
    "    \n",
    "    def test_one_word(self):\n",
    "        text = 'python'\n",
    "        result = cap.cap_text(text)\n",
    "        self.assertEqual(result, 'Python')\n",
    "        \n",
    "    def test_multiple_words(self):\n",
    "        text = 'monty python'\n",
    "        result = cap.cap_text(text)\n",
    "        self.assertEqual(result, 'Monty Python')\n",
    "        \n",
    "if __name__ == '__main__':\n",
    "    unittest.main()"
   ]
  },
  {
   "cell_type": "code",
   "execution_count": null,
   "id": "d7b2763c",
   "metadata": {},
   "outputs": [],
   "source": [
    "! python test_cap.py"
   ]
  },
  {
   "cell_type": "code",
   "execution_count": null,
   "id": "787c7707",
   "metadata": {},
   "outputs": [],
   "source": [
    "%%writefile cap.py\n",
    "def cap_text(text):\n",
    "    return text.title() "
   ]
  },
  {
   "cell_type": "code",
   "execution_count": null,
   "id": "232f34d1",
   "metadata": {},
   "outputs": [],
   "source": [
    "! python test_cap.py"
   ]
  },
  {
   "cell_type": "code",
   "execution_count": null,
   "id": "ab4f850a",
   "metadata": {},
   "outputs": [],
   "source": []
  },
  {
   "cell_type": "code",
   "execution_count": null,
   "id": "c7a73381",
   "metadata": {},
   "outputs": [],
   "source": []
  },
  {
   "cell_type": "markdown",
   "id": "6b81d940",
   "metadata": {},
   "source": [
    "# --------------------------------------------------------------------------------------------------------------"
   ]
  },
  {
   "cell_type": "markdown",
   "id": "9e49f176",
   "metadata": {},
   "source": [
    "## range(start,stop,step) function\n",
    "\n",
    "The range function allows you to quickly *generate* a list of integers, this comes in handy a lot, so take note of how to use it!\n",
    "There are 3 parameters you can pass, a start, a stop, and a step size.\n",
    "\n",
    "Note : It is a **generator** function, so to actually get a list out of it, we need to cast it to a list with **list()**. What is a generator? Its a special type of function that will generate information and not need to save it to memory. We haven't talked about functions or generators yet, so just keep this in your notes for now, we will discuss this in much more detail in later on in your training!\n",
    "\n",
    "----"
   ]
  },
  {
   "cell_type": "code",
   "execution_count": 12,
   "id": "ba157dc1",
   "metadata": {},
   "outputs": [
    {
     "data": {
      "text/plain": [
       "<enumerate at 0x18703b20900>"
      ]
     },
     "execution_count": 12,
     "metadata": {},
     "output_type": "execute_result"
    }
   ],
   "source": [
    "enumerate('abcde')    "
   ]
  },
  {
   "cell_type": "markdown",
   "id": "ddc715ca",
   "metadata": {},
   "source": [
    "## enumerate() function\n",
    "\n",
    "Keeping track of how many loops you've gone through is so common, that enumerate was created so you don't need to worry about creating and updating this index_count or loop_count variable\n",
    "\n",
    "```python\n",
    "for letter in 'abcde':\n",
    "    print(\"At index {} the letter is {}\".format(index_count,letter))\n",
    "    index_count += 1\n",
    "    \n",
    "list(enumerate('abcde'))\n",
    "```\n",
    "----\n",
    "### package\n",
    "* collection\n",
    "* datetime\n",
    "* timeit\n",
    "* re\n",
    "* io\n",
    "\n",
    "----\n",
    "\n",
    "## zip() function\n",
    "----\n",
    "\n",
    "## random library\n",
    "* in operator\n",
    "* len()\n",
    "* min()\n",
    "* max()\n",
    "* sum()\n",
    "\n",
    "* iterator.split()\n",
    "----\n",
    "\n"
   ]
  },
  {
   "cell_type": "markdown",
   "id": "0428157c",
   "metadata": {},
   "source": [
    "## Iterators and Generators\n",
    "\n",
    "Generator functions allow us to write a function that can send back a value and then later resume to pick up where it left off.\n",
    "This type of function is a generator in Python, allowing us to generate a sequence of values over time.\n",
    "The main difference in syntax will be the use of a ```yield``` statement.\n",
    "\n",
    "a generator function will appear very similar to a normal function.\n",
    "The main difference is when a generator function is compiled they become an object that supports an iteration protocol.\n",
    "That means when they are called in your code they don't actually return a value and then exit.\n",
    "Instead, generator functions will automatically suspend and resume their execution and state around the last point of value generation.\n",
    "The main advantage here is that instead of having to compute an entire series of values up front, the generator computes one value and then suspends its activity awaiting the next instruction.\n",
    "This feature is known as *state suspension*.\n",
    "\n",
    "generators save you a lot of memory for large use cases."
   ]
  },
  {
   "cell_type": "code",
   "execution_count": 1,
   "id": "1f115003",
   "metadata": {},
   "outputs": [
    {
     "name": "stdout",
     "output_type": "stream",
     "text": [
      "<generator object gencubes at 0x00000229EB274EB0>\n",
      "0\n",
      "1\n",
      "8\n",
      "27\n",
      "64\n",
      "125\n",
      "216\n",
      "343\n",
      "512\n",
      "729\n"
     ]
    }
   ],
   "source": [
    "# Generator function for the cube of numbers (power of 3)\n",
    "def gencubes(n):\n",
    "    for num in range(n):\n",
    "        yield num**3\n",
    "        \n",
    "cube10 = gencubes(10)\n",
    "\n",
    "print(cube10)\n",
    "\n",
    "for x in cube10:\n",
    "    print(x)"
   ]
  },
  {
   "cell_type": "code",
   "execution_count": 2,
   "id": "70be3f88",
   "metadata": {},
   "outputs": [
    {
     "name": "stdout",
     "output_type": "stream",
     "text": [
      "0\n",
      "1\n",
      "1\n",
      "2\n",
      "3\n",
      "5\n",
      "8\n",
      "13\n",
      "21\n",
      "34\n"
     ]
    }
   ],
   "source": [
    "def genfibon(n):\n",
    "    \"\"\"\n",
    "    Generate a fibonnaci sequence up to n\n",
    "    \"\"\"\n",
    "    a = 0\n",
    "    b = 1\n",
    "    for i in range(n):\n",
    "        yield a\n",
    "        a,b = b,a+b\n",
    "        \n",
    "for num in genfibon(10):\n",
    "    print(num)"
   ]
  },
  {
   "cell_type": "markdown",
   "id": "692db63c",
   "metadata": {},
   "source": [
    "## next() and iter() built-in functions\n",
    "A key to fully understanding generators is the next() function and the iter() function.\n",
    "\n",
    "The next() function allows us to access the next element in a sequence."
   ]
  },
  {
   "cell_type": "code",
   "execution_count": 3,
   "id": "f287e7e2",
   "metadata": {},
   "outputs": [
    {
     "name": "stdout",
     "output_type": "stream",
     "text": [
      "0\n",
      "1\n",
      "2\n"
     ]
    },
    {
     "ename": "StopIteration",
     "evalue": "",
     "output_type": "error",
     "traceback": [
      "\u001b[1;31m---------------------------------------------------------------------------\u001b[0m",
      "\u001b[1;31mStopIteration\u001b[0m                             Traceback (most recent call last)",
      "\u001b[1;32m<ipython-input-3-b83376ffb01f>\u001b[0m in \u001b[0;36m<module>\u001b[1;34m\u001b[0m\n\u001b[0;32m      7\u001b[0m \u001b[0mprint\u001b[0m\u001b[1;33m(\u001b[0m\u001b[0mnext\u001b[0m\u001b[1;33m(\u001b[0m\u001b[0mg\u001b[0m\u001b[1;33m)\u001b[0m\u001b[1;33m)\u001b[0m\u001b[1;33m\u001b[0m\u001b[1;33m\u001b[0m\u001b[0m\n\u001b[0;32m      8\u001b[0m \u001b[0mprint\u001b[0m\u001b[1;33m(\u001b[0m\u001b[0mnext\u001b[0m\u001b[1;33m(\u001b[0m\u001b[0mg\u001b[0m\u001b[1;33m)\u001b[0m\u001b[1;33m)\u001b[0m\u001b[1;33m\u001b[0m\u001b[1;33m\u001b[0m\u001b[0m\n\u001b[1;32m----> 9\u001b[1;33m \u001b[0mprint\u001b[0m\u001b[1;33m(\u001b[0m\u001b[0mnext\u001b[0m\u001b[1;33m(\u001b[0m\u001b[0mg\u001b[0m\u001b[1;33m)\u001b[0m\u001b[1;33m)\u001b[0m\u001b[1;33m\u001b[0m\u001b[1;33m\u001b[0m\u001b[0m\n\u001b[0m",
      "\u001b[1;31mStopIteration\u001b[0m: "
     ]
    }
   ],
   "source": [
    "def simple_gen():\n",
    "    for x in range(3):\n",
    "        yield x\n",
    "        \n",
    "g = simple_gen()\n",
    "print(next(g))\n",
    "print(next(g))\n",
    "print(next(g))\n",
    "print(next(g))"
   ]
  },
  {
   "cell_type": "markdown",
   "id": "beefe31f",
   "metadata": {},
   "source": [
    "for loop automatically catches this error and stops calling next(). \n",
    "After yielding all the values next() caused a StopIteration error.\n",
    "What this error informs us of is that all the values have been yielded.\n",
    "\n",
    "----\n",
    "## iter() function\n",
    "\n",
    "a string object supports iteration, but we can not directly iterate over it as we could with a generator function.\n",
    "The iter() function allows us to do just that!"
   ]
  },
  {
   "cell_type": "code",
   "execution_count": null,
   "id": "d1e21c31",
   "metadata": {},
   "outputs": [],
   "source": [
    "s = 'hello'\n",
    "next(s)"
   ]
  },
  {
   "cell_type": "code",
   "execution_count": null,
   "id": "95a7ca7b",
   "metadata": {},
   "outputs": [],
   "source": [
    "s_iter = iter(s)\n",
    "next(s_iter)\n",
    "next(s_iter)\n",
    "next(s_iter)\n",
    "next(s_iter)\n",
    "next(s_iter)\n"
   ]
  },
  {
   "cell_type": "markdown",
   "id": "799b63f5",
   "metadata": {},
   "source": [
    "## Generator Comprehension\n"
   ]
  },
  {
   "cell_type": "code",
   "execution_count": null,
   "id": "0a7a12da",
   "metadata": {},
   "outputs": [],
   "source": [
    "my_list = [1,2,3,4,5]\n",
    "\n",
    "gencomp = (item for item in my_list if item > 3)\n",
    "\n",
    "for item in gencomp:\n",
    "    print(item)\n",
    "    \n",
    "print(type(gencomp))"
   ]
  },
  {
   "cell_type": "code",
   "execution_count": null,
   "id": "1f1f4d27",
   "metadata": {},
   "outputs": [],
   "source": []
  },
  {
   "cell_type": "code",
   "execution_count": null,
   "id": "f8e291e8",
   "metadata": {},
   "outputs": [],
   "source": []
  },
  {
   "cell_type": "code",
   "execution_count": null,
   "id": "aafea6dd",
   "metadata": {},
   "outputs": [],
   "source": []
  },
  {
   "cell_type": "code",
   "execution_count": null,
   "id": "7160b73a",
   "metadata": {},
   "outputs": [],
   "source": []
  },
  {
   "cell_type": "code",
   "execution_count": null,
   "id": "4c32a6d0",
   "metadata": {},
   "outputs": [],
   "source": []
  },
  {
   "cell_type": "markdown",
   "id": "18a1936d",
   "metadata": {},
   "source": [
    "# Scope & Namespace\n",
    "\n",
    "the idea of scope can be described by 3 general rules:\n",
    "\n",
    "1. Name assignments will create or change local names by default.\n",
    "2. Name references search (at most) four scopes, these are:\n",
    "    * local\n",
    "    * enclosing functions\n",
    "    * global\n",
    "    * built-in\n",
    "3. Names declared in global and nonlocal statements map assigned names to enclosing module and function scopes.\n",
    "\n",
    "\n",
    "The statement in #2 above can be defined by the LEGB rule.\n",
    "\n",
    "**LEGB Rule:**\n",
    "\n",
    "L: Local — Names assigned in any way within a function (def or lambda), and not declared global in that function.\n",
    "\n",
    "E: Enclosing function locals — Names in the local scope of any and all enclosing functions (def or lambda), from inner to outer.\n",
    "\n",
    "G: Global (module) — Names assigned at the top-level of a module file, or declared global in a def within the file.\n",
    "\n",
    "B: Built-in (Python) — Names preassigned in the built-in names module : open, range, SyntaxError,...\n",
    "\n",
    "----\n",
    "\n",
    "The first time that we print the value of the name **x** with the first line in the function’s body, Python uses the value of the parameter declared in the main block, above the function definition.\n",
    "\n",
    "Next, we assign the value 2 to **x**. The name **x** is local to our function. So, when we change the value of **x** in the function, the **x** defined in the main block remains unaffected.\n",
    "\n",
    "With the last print statement, we display the value of **x** as defined in the main block, thereby confirming that it is actually unaffected by the local assignment within the previously called function.\n",
    "\n",
    "## The <code>global</code> statement\n",
    "If you want to assign a value to a name defined at the top level of the program (i.e. not inside any kind of scope such as functions or classes), then you have to tell Python that the name is not local, but it is global. We do this using the <code>global</code> statement. It is impossible to assign a value to a variable defined outside a function without the global statement.\n",
    "\n",
    "You can use the values of such variables defined outside the function (assuming there is no variable with the same name within the function). However, this is not encouraged and should be avoided since it becomes unclear to the reader of the program as to where that variable’s definition is. Using the <code>global</code> statement makes it amply clear that the variable is defined in an outermost block.\n",
    "\n",
    "\n"
   ]
  },
  {
   "cell_type": "code",
   "execution_count": 4,
   "id": "f1bdddf3",
   "metadata": {},
   "outputs": [
    {
     "name": "stdout",
     "output_type": "stream",
     "text": [
      "Before calling func(), x is:  50\n",
      "This function is now using the global x!\n",
      "Because of global x is:  50\n",
      "Ran func(), changed global x to 2\n",
      "Value of x (outside of func()) is:  2\n"
     ]
    }
   ],
   "source": [
    "x = 50\n",
    "\n",
    "def func():\n",
    "    global x\n",
    "    print('This function is now using the global x!')\n",
    "    print('Because of global x is: ', x)\n",
    "    x = 2\n",
    "    print('Ran func(), changed global x to', x)\n",
    "\n",
    "print('Before calling func(), x is: ', x)\n",
    "func()\n",
    "print('Value of x (outside of func()) is: ', x)"
   ]
  },
  {
   "cell_type": "markdown",
   "id": "876960bc",
   "metadata": {},
   "source": [
    "## Conclusion\n",
    "You should now have a good understanding of Scope (you may have already intuitively felt right about Scope which is great!) One last mention is that you can use the **globals()** and **locals()** functions to check what are your current local and global variables.\n",
    "\n",
    "Another thing to keep in mind is that everything in Python is an object! I can assign variables to functions just like I can with numbers! We will go over this again in the decorator section of the course!\n",
    "\n",
    "----\n",
    "# 3. Underscore in Python\n",
    "\n",
    "## 3.1. **Single Underscore**\n",
    "1. **Holds Result of last Expression** valid variable tough.\n",
    "\n",
    "    According to Python doc, the special identifier ```_``` is used in the interactive interpreter to store the result of the last evaluation. It is stored in the builtin module.\n",
    "    \n",
    "```python\n",
    ">>>'_' in dir(__builtins__)\n",
    "True\n",
    "```\n",
    "\n",
    "2. Programmer can use this as **Temporary variable** \n",
    "\n",
    "3. ```*_```  can be used in extended iterable unpacking representing multiple value.\n",
    "\n",
    "4. **Digit Separator** :- 1,00,000 can be assigned like ```1_00_000```.\n",
    "\n",
    "## 3.2.  **Single pre underscore variables.**\n",
    "\n",
    "1. ```_var``` **intended for internal use**\n",
    "```python\n",
    "from filename import *\n",
    "# inside filename.py variables \"_variableName\" will not be imported : treated as private i.e. Internal variable use.\n",
    "```\n",
    "\n",
    "    while if we really allow the variable to use explicitly then need to follow these.\n",
    "    \n",
    "**Method 1**\n",
    "\n",
    "```python\n",
    "from filename import _variablename\n",
    "print(_variable)\n",
    "# IT WORKS\n",
    "```\n",
    "\n",
    "\n",
    "**Method 2**\n",
    "    \n",
    "```python\n",
    "import filename\n",
    "print(filename._variablename)\n",
    "# IT ALSO WORKS\n",
    "```\n",
    "Programmers can create private variables and methods can still be used from the outside.\n",
    "**single leading underscore is only a naming convention to indicate the variable or function is for internal use**\n",
    "\n",
    "## 3.2.  **Single post underscore variables.**\n",
    "\n",
    "To avoid conflicts with Python keywords. Examples ```global_```.\n",
    "\n",
    "## Double underscore\n",
    "Double leading underscores __var & Double leading and trailing underscores __var__.\n",
    "Patterns with double underscores are more strict. They are either not allowed to be overwritten or need a good reason to do so. Please notice that there is no special meaning for double trailing underscores var__."
   ]
  },
  {
   "cell_type": "code",
   "execution_count": null,
   "id": "fe03c4eb",
   "metadata": {},
   "outputs": [],
   "source": []
  },
  {
   "cell_type": "markdown",
   "id": "07ba3b90",
   "metadata": {},
   "source": [
    "# Statements"
   ]
  },
  {
   "cell_type": "code",
   "execution_count": null,
   "id": "9e866e2c",
   "metadata": {},
   "outputs": [],
   "source": [
    "#indentation important Python Statement\n",
    "#1\n",
    "hungry=True\n",
    "if hungry:\n",
    "\tprint('I am hungry')\n",
    "\tsnack=True\n",
    "\torderOnline=True\n",
    "\tif snack:\n",
    "\t\tprint('have snack')\n",
    "\telif orderOnline:\n",
    "\t\tprint('online ordered')\n",
    "\telse:\n",
    "\t\tprint('No food need to wait')\n",
    "else:\n",
    "\tprint('I am not hungry')\n",
    "#2for loop\n",
    "mylist=[1,'two',3.0]\n",
    "for items_iterator in mylist:\n",
    "\tprint(items_iterator)\n",
    "\n",
    "mynumlist=[1,2,3,4,5,6,7,8,9]\n",
    "list_sum=0\n",
    "for nums in mynumlist:\n",
    "\tlist_sum=list_sum+nums\n",
    "print(list_sum)\n",
    "\n",
    "size=0\n",
    "for _ in mynumlist:\n",
    "\tsize++\n",
    "print(size)\n",
    "\n",
    "mytuplelist=[(1,2),(3,4),(5,6),(7,8),(9,0)]\n",
    "#tuple unpacking\n",
    "for a,b in mytuplelist:\n",
    "\tprint('a=',a)\n",
    "\tprint('b=',b)\n",
    "\n",
    "mydict={'k1':1,'k2':,2'k3':3}\n",
    "for keys in mydict:\n",
    "\tprint(keys)\n",
    "\n",
    "for values in mydict.values():\n",
    "\tprint(values)\n",
    "\n",
    "for keyvaluepairs in mydict.items():\n",
    "\tprint(keyvaluepairs)\n",
    "\n",
    "#unpacking\n",
    "for key,value in mydict.items():\n",
    "\tprint(key,'->',value)\n",
    "\n",
    "\n",
    "#3while loop\n",
    "x=0\n",
    "#x=10\n",
    "while x<5:\n",
    "\tprint(x,' is less than 5')\n",
    "\tx++\n",
    "else:\n",
    "\tprint(x,' is not less than 5')\n",
    "\n",
    "#break,continue,pass vs comment\n",
    "x=[1,2,3,]\n",
    "for i in x:\n",
    "\tpass\n",
    "print('end of script')\n",
    "\n",
    "actor='Akshay'\n",
    "for letter in actor:\n",
    "\tif letter=='a':\n",
    "\t\tcontinue\n",
    "\tprint(letter)\n",
    "\n",
    "for letter in actor:\n",
    "\tif letter=='a':\n",
    "\t\tbreak\n",
    "\tprint(letter)\n",
    "\n",
    "#range function\n",
    "start=0\n",
    "end=10\n",
    "increment=2\n",
    "\n",
    "mylist=[1,2,3,4,5]\n",
    "for num in range(start,end,increment):\n",
    "\tprint(num)\n",
    "mylist=list(range(start,end,increment))\n",
    "\n",
    "#enumerate\n",
    "indexcnt=0\n",
    "word='abcde'\n",
    "for letter in word:\n",
    "\tprint('at index {} the letter is {} that is same without iterator {}'.format(indexcnt,letter,word[indexcnt]))\n",
    "\tindexcnt++\n",
    "#or\n",
    "for letter in enumerate(word):\n",
    "\tprint(letter)\n",
    "\n",
    "for index,letter in enumerate(word):\n",
    "\tprint(index,' : ',letter)\n",
    "\n",
    "#zip function maps tuple item for same index list\n",
    "mylist_chocolate=['cadbury','kitkat','5star']\n",
    "mylist_quote=['aaj Kuch Meetha hojaye','kitkat break banta hai','khao khojao']\n",
    "mylist_price=[100,50,25]\n",
    "for item in zip(mylist_chocolate,mylist_quote,mylist_price):\n",
    "\tprint(item)\n",
    "\n",
    "#in operator\n",
    "if('5star' in mylist_chocolate):\n",
    "\tprint('Yes')\n",
    "if('5' in '5star'):\n",
    "\tprint('Yes')\n",
    "mydict={'mykey':'myvalue'}\n",
    "if('mykey' in mydict ):\n",
    "\tprint('yes')\n",
    "if('myvalue' in mydict.keys() ):\n",
    "\tprint('yes')\n",
    "else:\n",
    "\tprint('No')\n",
    "\n",
    "#min() max()\n",
    "mynumslist=[10,20,30,40,50,60,0,99]\n",
    "print(min(mynumslist))\n",
    "print(max(mynumslist))\n",
    "\n",
    "#random library\n",
    "from random import shuffle\n",
    "mynumslist=[10,20,30,40,50,60,0,99]\n",
    "shuffle(mynumslist)\n",
    "print(mynumslist)\n",
    "\n",
    "from random import radint\n",
    "start=0\n",
    "end=100\n",
    "print(radint(start,end))\n",
    "\n",
    "#user input(): accept all as string\n",
    "#type cast int() float() etc...\n",
    "name=input('enter your name')\n",
    "print('welcome ',name)\n",
    "\n",
    "#list comprehensions :advantage{one line code even if same complexity},disadvantage{readability lost}\n",
    "mystring='hello'\n",
    "mylist=[]\n",
    "for letter in mystring:\n",
    "\tmylist.append(letter)\n",
    "#alternative comprehension\n",
    "mylist=[ iterator for iterator in mystring ]\n",
    "mysqlist=[ x**2 for x in range(1,10) if x%2==0 ]\n",
    "mysq_cube_list=[x**2 if x%2==0 else x**3 for x in range(1,10) ]\n",
    "\n",
    "celcius=[0,10,,20,34.5]\n",
    "fahrenheit=[ ( (9/5)*temp+32) for temp in celcius ]\n",
    "\n",
    "#nested loop in list comprehension\n",
    "\n",
    "#without comprehe\n",
    "mylist=[]\n",
    "for x in [2,3,4]:\n",
    "\tfor y in [9,8,7]:\n",
    "\t\tmylist.append(x*y)\n",
    "#with compreh\n",
    "mylist2=[ x*y for x in [2,3,4] for y in [9,8,7] ]\n",
    "\n",
    "#split() fun\n",
    "mystring='bulave Tujhe yaar aaj meri gailyan basau tere sang mein alag duniya'\n",
    "for word in mystring.split():\n",
    "\tif word[0].lower()=='t':\n",
    "\t\tprint(word)\n",
    "\n",
    "\tif len(word)%2==0:\n",
    "\t\tprint(word)\n",
    "\n",
    "#\n",
    "\"\"\"\n",
    ">>> for num in range(1,101):\n",
    "...     if ((num%3==0) or (num%5==0)): \n",
    "...             print(num,':')\n",
    "...             if(num%3==0):\n",
    "...                     print('Fizz')\n",
    "...             if(num%5==0):\n",
    "...                     print('Buzz')\n",
    "\"\"\"\n",
    "for num in range(1,101):\n",
    "\tif num%3==0 and num%5==0 :\n",
    "\t\tprint('FizzBuzz')\n",
    "\telif num%3==0:\n",
    "\t\tprint('Fizz')\n",
    "\telif num%5==0:\n",
    "\t\tprint('Buzz')\n",
    "\telse:\n",
    "\t\tprint(num)\n",
    "#\n",
    "\n",
    "listed=[word[0] for word in in mystring.split()]\n",
    "#\n",
    "\n",
    "\n"
   ]
  },
  {
   "cell_type": "code",
   "execution_count": null,
   "id": "0a4be304",
   "metadata": {},
   "outputs": [],
   "source": []
  },
  {
   "cell_type": "code",
   "execution_count": null,
   "id": "269bf9e8",
   "metadata": {},
   "outputs": [],
   "source": []
  },
  {
   "cell_type": "code",
   "execution_count": null,
   "id": "cf1271a3",
   "metadata": {},
   "outputs": [],
   "source": []
  },
  {
   "cell_type": "code",
   "execution_count": 1,
   "id": "6b62cbfe",
   "metadata": {},
   "outputs": [
    {
     "name": "stdout",
     "output_type": "stream",
     "text": [
      "node3\n",
      "path4\n",
      "1\n",
      "3\n",
      "2\n",
      "3\n"
     ]
    }
   ],
   "source": [
    "n = int(input())\n",
    "node_list = [i for i in range(1,n+1)]     \n",
    "m = int(input())\n",
    "path = []\n",
    "for _ in range(m):\n",
    "    path.append(int(input()))"
   ]
  },
  {
   "cell_type": "code",
   "execution_count": null,
   "id": "73ab607f",
   "metadata": {},
   "outputs": [],
   "source": [
    "# 1 3 2 3\n",
    "1-3\n",
    "3-2\n",
    "2-3\n",
    "\n",
    "\n",
    "3\n",
    "4\n",
    "1\n",
    "3\n",
    "2\n",
    "3\n"
   ]
  },
  {
   "cell_type": "code",
   "execution_count": 2,
   "id": "3ac4e7b2",
   "metadata": {},
   "outputs": [
    {
     "data": {
      "text/plain": [
       "[1, 2, 3]"
      ]
     },
     "execution_count": 2,
     "metadata": {},
     "output_type": "execute_result"
    }
   ],
   "source": [
    "node_list"
   ]
  },
  {
   "cell_type": "code",
   "execution_count": 3,
   "id": "bfd68a6b",
   "metadata": {},
   "outputs": [
    {
     "data": {
      "text/plain": [
       "[1, 3, 2, 3]"
      ]
     },
     "execution_count": 3,
     "metadata": {},
     "output_type": "execute_result"
    }
   ],
   "source": [
    "path"
   ]
  },
  {
   "cell_type": "code",
   "execution_count": 5,
   "id": "71eda65a",
   "metadata": {},
   "outputs": [
    {
     "data": {
      "text/plain": [
       "0"
      ]
     },
     "execution_count": 5,
     "metadata": {},
     "output_type": "execute_result"
    }
   ],
   "source": [
    "ai = node_list.index(1)\n",
    "ai"
   ]
  },
  {
   "cell_type": "code",
   "execution_count": 6,
   "id": "2696fd32",
   "metadata": {},
   "outputs": [
    {
     "data": {
      "text/plain": [
       "2"
      ]
     },
     "execution_count": 6,
     "metadata": {},
     "output_type": "execute_result"
    }
   ],
   "source": [
    "bi = node_list.index(3)\n",
    "bi"
   ]
  },
  {
   "cell_type": "code",
   "execution_count": 13,
   "id": "d619c6a3",
   "metadata": {},
   "outputs": [],
   "source": [
    "visit = {}\n",
    "for i in range(n):\n",
    "    visit[i]=0"
   ]
  },
  {
   "cell_type": "code",
   "execution_count": 14,
   "id": "98e38908",
   "metadata": {},
   "outputs": [
    {
     "data": {
      "text/plain": [
       "{0: 0, 1: 0, 2: 0}"
      ]
     },
     "execution_count": 14,
     "metadata": {},
     "output_type": "execute_result"
    }
   ],
   "source": [
    "visit"
   ]
  },
  {
   "cell_type": "code",
   "execution_count": 15,
   "id": "57898835",
   "metadata": {},
   "outputs": [],
   "source": [
    "start = ai\n",
    "end = bi\n",
    "\n",
    "while start!=end:\n",
    "    visit[start] += 1\n",
    "    start = (start + 1)%n\n",
    "visit[end] += 1"
   ]
  },
  {
   "cell_type": "code",
   "execution_count": 16,
   "id": "e88d3674",
   "metadata": {},
   "outputs": [
    {
     "data": {
      "text/plain": [
       "{0: 1, 1: 1, 2: 1}"
      ]
     },
     "execution_count": 16,
     "metadata": {},
     "output_type": "execute_result"
    }
   ],
   "source": [
    "visit"
   ]
  },
  {
   "cell_type": "code",
   "execution_count": null,
   "id": "3670dc32",
   "metadata": {},
   "outputs": [],
   "source": [
    "visit = {}\n",
    "for i in range(1,n+1):\n",
    "    visit[i]=0 \n",
    "    \n",
    "    \n",
    "def visitpath(a,b,n):\n",
    "    ai = node_list.index(a)\n",
    "    bi = node_list.index(b)\n",
    "    while ai<=bi:\n",
    "        visit[ai+1] += 1\n",
    "        ai = (ai+1)%n\n",
    "    \n",
    "for i in range(0,m-1):\n",
    "    visitpath(path[i],path[i+1],n)\n",
    "    \n",
    "results = visit.values()\n",
    "maxres = max(results)\n",
    "if(results.count(maxres)>1):\n",
    "    return results.index(min(results))+1\n",
    "else:\n",
    "    return maxres"
   ]
  },
  {
   "cell_type": "code",
   "execution_count": 17,
   "id": "13a432c1",
   "metadata": {},
   "outputs": [],
   "source": [
    "visit = {}\n",
    "for i in range(n):\n",
    "    visit[i]=0\n",
    "    \n",
    "def visits(a,b,n):\n",
    "    start = node_list.index(a)\n",
    "    end = node_list.index(b)\n",
    "\n",
    "    while start!=end:\n",
    "        visit[start] += 1\n",
    "        start = (start + 1)%n\n",
    "    visit[end] += 1"
   ]
  },
  {
   "cell_type": "code",
   "execution_count": 18,
   "id": "5928d69a",
   "metadata": {},
   "outputs": [],
   "source": [
    "for i in range(0,m-1):\n",
    "    visits(path[i],path[i+1],n)"
   ]
  },
  {
   "cell_type": "code",
   "execution_count": 19,
   "id": "c1ffe104",
   "metadata": {},
   "outputs": [
    {
     "data": {
      "text/plain": [
       "{0: 2, 1: 3, 2: 3}"
      ]
     },
     "execution_count": 19,
     "metadata": {},
     "output_type": "execute_result"
    }
   ],
   "source": [
    "visit"
   ]
  },
  {
   "cell_type": "code",
   "execution_count": 21,
   "id": "2c255a81",
   "metadata": {},
   "outputs": [],
   "source": [
    "node_visit = list(visit.values())"
   ]
  },
  {
   "cell_type": "code",
   "execution_count": 22,
   "id": "bbf3157c",
   "metadata": {},
   "outputs": [
    {
     "data": {
      "text/plain": [
       "[2, 3, 3]"
      ]
     },
     "execution_count": 22,
     "metadata": {},
     "output_type": "execute_result"
    }
   ],
   "source": [
    "node_visit"
   ]
  },
  {
   "cell_type": "code",
   "execution_count": null,
   "id": "af48e5c8",
   "metadata": {},
   "outputs": [],
   "source": [
    "resmax = max(node_visit)\n",
    "if (node_visit.count(resmax)>1):\n",
    "    return min(node_visit)\n",
    "else:\n",
    "    return resmax"
   ]
  },
  {
   "cell_type": "code",
   "execution_count": null,
   "id": "304e0e33",
   "metadata": {},
   "outputs": [],
   "source": []
  },
  {
   "cell_type": "code",
   "execution_count": 37,
   "id": "256c7a76",
   "metadata": {},
   "outputs": [
    {
     "name": "stdout",
     "output_type": "stream",
     "text": [
      "10\n",
      "4\n",
      "1\n",
      "5\n",
      "10\n",
      "5\n"
     ]
    },
    {
     "data": {
      "text/plain": [
       "5"
      ]
     },
     "execution_count": 37,
     "metadata": {},
     "output_type": "execute_result"
    }
   ],
   "source": [
    "def solution():\n",
    "    n = int(input())\n",
    "    node_list = [i for i in range(1,n+1)]     \n",
    "    m = int(input())\n",
    "    path = []\n",
    "    for _ in range(m):\n",
    "        path.append(int(input()))\n",
    "\n",
    "    visit = {}\n",
    "    for i in range(n):\n",
    "        visit[i]=0\n",
    "\n",
    "    def visits(a,b,n):\n",
    "        start = node_list.index(a)\n",
    "        end = node_list.index(b)\n",
    "\n",
    "        while start!=end:\n",
    "            visit[start] += 1\n",
    "            start = (start + 1)%n\n",
    "        visit[end] += 1\n",
    "\n",
    "    for i in range(0,m-1):\n",
    "        visits(path[i],path[i+1],n)\n",
    "\n",
    "    node_visit = list(visit.values())\n",
    "\n",
    "    resmax = max(node_visit)\n",
    "    if (node_visit.count(resmax)>1):\n",
    "        return node_visit.index(min(node_visit))+1\n",
    "    else:\n",
    "        return node_visit.index(resmax)+1\n",
    "    \n",
    "result= solution()\n",
    "print(result)"
   ]
  },
  {
   "cell_type": "code",
   "execution_count": 36,
   "id": "f126b4ca",
   "metadata": {},
   "outputs": [
    {
     "name": "stdout",
     "output_type": "stream",
     "text": [
      "10\n",
      "4\n",
      "1\n",
      "5\n",
      "10\n",
      "5\n"
     ]
    },
    {
     "data": {
      "text/plain": [
       "5"
      ]
     },
     "execution_count": 36,
     "metadata": {},
     "output_type": "execute_result"
    }
   ],
   "source": [
    "10\n",
    "4\n",
    "1\n",
    "5\n",
    "10\n",
    "5"
   ]
  },
  {
   "cell_type": "code",
   "execution_count": 32,
   "id": "da87489b",
   "metadata": {},
   "outputs": [
    {
     "data": {
      "text/plain": [
       "4"
      ]
     },
     "execution_count": 32,
     "metadata": {},
     "output_type": "execute_result"
    }
   ],
   "source": [
    "node_visit.index(result)+1"
   ]
  },
  {
   "cell_type": "code",
   "execution_count": 33,
   "id": "222e5bf1",
   "metadata": {},
   "outputs": [
    {
     "data": {
      "text/plain": [
       "[2, 2, 2, 2, 3, 1, 1, 1, 1, 2]"
      ]
     },
     "execution_count": 33,
     "metadata": {},
     "output_type": "execute_result"
    }
   ],
   "source": [
    "node_visit"
   ]
  },
  {
   "cell_type": "code",
   "execution_count": null,
   "id": "0fb15a49",
   "metadata": {},
   "outputs": [],
   "source": []
  },
  {
   "cell_type": "code",
   "execution_count": null,
   "id": "487457c7",
   "metadata": {},
   "outputs": [],
   "source": []
  },
  {
   "cell_type": "code",
   "execution_count": null,
   "id": "51d3306f",
   "metadata": {},
   "outputs": [],
   "source": [
    "x = int(input())\n",
    "n = int(input())\n",
    "arr = []\n",
    "for _ in range(n):\n",
    "    arr.append(int(input()))\n",
    "    \n",
    "q = int(input())\n",
    "query = []\n",
    "for _ in range(q):\n",
    "    query.append(int(input()))"
   ]
  },
  {
   "cell_type": "code",
   "execution_count": null,
   "id": "be73a630",
   "metadata": {},
   "outputs": [],
   "source": [
    "x = 9\n",
    "n = 4\n",
    "arr = [9,8,9,9]\n",
    "q = 4\n",
    "query = [7,3,7,6]"
   ]
  }
 ],
 "metadata": {
  "kernelspec": {
   "display_name": "Python 3",
   "language": "python",
   "name": "python3"
  },
  "language_info": {
   "codemirror_mode": {
    "name": "ipython",
    "version": 3
   },
   "file_extension": ".py",
   "mimetype": "text/x-python",
   "name": "python",
   "nbconvert_exporter": "python",
   "pygments_lexer": "ipython3",
   "version": "3.8.2"
  }
 },
 "nbformat": 4,
 "nbformat_minor": 5
}
