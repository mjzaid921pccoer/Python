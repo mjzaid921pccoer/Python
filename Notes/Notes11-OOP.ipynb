{
 "cells": [
  {
   "cell_type": "markdown",
   "id": "01331359",
   "metadata": {},
   "source": [
    "----\n",
    "----\n",
    "# Content\n",
    "Object Oriented Programming\n",
    "* Introduction\n",
    "    * creating class\n",
    "        * attribute\n",
    "        * methods\n",
    "        * initializer : constructor\n",
    "        * destructor\n",
    "    * instantiating class\n",
    "    * Methods\n",
    "    * Decorators\n",
    "    * revision examples\n",
    "* Pillars of OOP\n",
    "    * Encapsulation\n",
    "        * Access Specifier\n",
    "    * Inheritance\n",
    "    * Abstraction\n",
    "    * Polymorphism\n",
    "\n",
    "----\n",
    "# ---------------------------------------------------------------------------------------------------------------"
   ]
  },
  {
   "cell_type": "markdown",
   "id": "6a8f8042",
   "metadata": {},
   "source": [
    "# * Object Oriented programming\n",
    "\n",
    "Important terms \n",
    "1. class\n",
    "2. attributes\n",
    "3. method\n",
    "4. object\n",
    "\n",
    "**Object Oriented programming (OOP)** is a programming paradigm that relies on the concept of **classes** and **objects**. \n",
    "\n",
    "Type of programming that breaks things into object which interacts with each other.\n",
    "Objects are created from blue print of logic structure known as **class**, classes have **attributes** that stores data & **behaviours** that performs on data.\n",
    "Reusability Encouraged by following D.R.Y(Don't Repeat Yourself) Concept.\n",
    "\n",
    "\n",
    "Instantiating : Creating a new object from a class\n",
    "\n",
    "* Classes are used to create **user-defined data structures**.\n",
    "\n",
    "* It is used to structure a software program into simple, reusable pieces of **code blueprints** (usually called **classes**), which are used to create individual instances of **objects**.\n",
    "\n",
    "* While the **class** is the blueprint, an instance is an **object** that is built from a class and contains real data. that is A **class** is an abstract blueprint used to create more specific, concrete **objects**.\n",
    "\n",
    "* Characteristic for data inside blueprint is a **Attribute**.\n",
    "\n",
    "* **Classes** can also contain functions, called **methods** available only to objects of that type. that is **Classes** define functions called **methods**, which identify the behaviors and actions that an object created from the class can perform with its data.\n",
    "\n",
    "From classes we can construct instances. An instance is a specific object created from a particular class\n",
    "\n",
    "*Python class names are written in CapitalizedWords notation by convention.*\n",
    "## **In Python, everything is an object**.\n",
    "\n",
    "\n",
    "* class is the main unit of the program\n",
    "* follows bottom up approach\n",
    "* data protection can be achieved\n",
    "* can handle complex & big projects\n",
    "\n",
    "```python\n",
    ">>>print(type(1))\n",
    "<class 'int'>\n",
    "\n",
    ">>>print(type(\"\"))\n",
    "<class 'str'>\n",
    "\n",
    ">>>print(type([]))\n",
    "<class 'list'>\n",
    "\n",
    ">>>print(type(()))\n",
    "<class 'tuple'>\n",
    "\n",
    ">>>print(type({}))\n",
    "<class 'dict'>\n",
    "\n",
    ">>>print(type(set()))\n",
    "<class 'set'>\n",
    "```\n",
    "\n",
    "### class attributes and methods\n",
    "* An **attribute** is a characteristic of an object. \n",
    "    1. class attribute \n",
    "    2. object attribute - instance attribute\n",
    "* A **method** is an operation we can perform with the object.\n",
    "\n",
    "----\n",
    "\n",
    "## * Creating a class\n",
    "\n",
    "```\n",
    "# blueprint\n",
    "class PascelCaseClassName:\n",
    "    # class attribute\n",
    "    \n",
    "    # Initializer\n",
    "    # object attribute\n",
    "    \n",
    "    # Methods\n",
    "    # Getter / Setter : property -- (prefered : decorator function)\n",
    "    # Class Methods : deals with class attribute\n",
    "    # Object / Instance Methods : deals with object attribute, requires 'self' parameter.\n",
    "    # Static Methods : utility functions    \n",
    "```"
   ]
  },
  {
   "cell_type": "code",
   "execution_count": 1,
   "id": "b8f2be6a",
   "metadata": {},
   "outputs": [],
   "source": [
    "class Car:\n",
    "    __brand = \"BMW\" # class attribute\n",
    "    \n",
    "    # class attribute{\n",
    "    # * defined outside __init__ methods\n",
    "    # * no prefix  needed\n",
    "    # * accessing syntax :\n",
    "    # * inside class : directly with classAttributeName\n",
    "    # * outside class : ClassName.classAttributeName\n",
    "    # * updation in attribute affects globally on class since it is same attribute shared between all instances\n",
    "    #}\n",
    "    \n",
    "    # in order to keep the attribute private from user we use (double underscore)__ before object attributes.\n",
    "    \n",
    "    def __init__(self, model, color, price): #Initialiser - object method\n",
    "        self.__model = model\n",
    "        self.__color = color\n",
    "        self.__price = price\n",
    "        \n",
    "        # initialiser method : Initialise object attributes with initial values \n",
    "        # called 1st default automatically whenever object from class is created\n",
    "        # like constructor in c++/java.\n",
    "        \n",
    "        # self parameter : reference to current instance of a class \n",
    "        # self is a pointer to the memory address where each object of the class is stored.\n",
    "        # first parameter for any method in class \n",
    "        # access attributes & methods \n",
    "        # adds attribute to method\n",
    "        \n",
    "        # object attribute or instance attribute{\n",
    "        # * defined inside methods\n",
    "        # * self prefix needed\n",
    "        # * accessing syntax :\n",
    "        # * inside class : self.objectAttributeName\n",
    "        # * outside class : objectName.objectAttributeName\n",
    "        # * updation in attribute value is affected locally i.e. to object\n",
    "        #}\n",
    "        \n",
    "    \n",
    "    # class methods : Getter Property\n",
    "    def getBrand(CarClass):\n",
    "        return CarClass.__brand\n",
    "    \n",
    "    # object methods : Getter Property\n",
    "    def getModel(self):\n",
    "        return self.__model\n",
    "    \n",
    "    def getColor(self):\n",
    "        return self.__color\n",
    "    \n",
    "    def getPrice(self):\n",
    "        return self.__price\n",
    "    \n",
    "    # class methods : Setter Property\n",
    "    def setBrand(CarClass, brand):\n",
    "        CarClass.__brand = brand\n",
    "    \n",
    "    # object methods : Setter Property\n",
    "    def setModel(self, model):\n",
    "        self.__model = model\n",
    "    \n",
    "    def setColor(self, color):\n",
    "        self.__color = color\n",
    "    \n",
    "    def setPrice(self, price):\n",
    "        self.__price = price\n",
    "        \n",
    "    def details(self):\n",
    "        return f\"Brand new {Car.__brand} car : {self.__model} Model, {self.__color}Colour, {self.__price}/-\"\n",
    "    \n",
    "    def __del__(self):\n",
    "        # Destructors are called when an object gets destroyed        \n",
    "        print(\"Destructor called\")"
   ]
  },
  {
   "cell_type": "markdown",
   "id": "396cb97e",
   "metadata": {},
   "source": [
    "### * Constructor / Initializer `__init__` method\n",
    "The `__init__` method is used to define and initialize the attributes / variables. This `__init__` method is known as\n",
    "Constructor and the variables are known as attributes. Note that, the self keyword is used in the `init method` along with the name of the variables. Further All the methods, should have first parameter as `self` inside the class. Although we can replace the word `self` with any other word, but it is **good practice** to use the word `self` as convention.\n",
    "**Modules** part further will explain the application.\n",
    "https://readthedocs.org/projects/pythonguide/downloads/pdf/latest/\n",
    "\n",
    "### * Destructor `__del__` method\n",
    "The `__init__` method is invoked when object is created; whereas `__del__` is always invoked at the end of the\n",
    "code.\n",
    "\n",
    "Python has a garbage collector that handles memory management automatically.\n",
    "A reference to objects is also deleted when the object goes out of reference or when the program ends.\n",
    "The `del` command is also known as 'destructor'."
   ]
  },
  {
   "cell_type": "markdown",
   "id": "68072740",
   "metadata": {},
   "source": [
    "## * Instantiating : Creating a new object from a class"
   ]
  },
  {
   "cell_type": "code",
   "execution_count": 2,
   "id": "27cf513e",
   "metadata": {},
   "outputs": [],
   "source": [
    "car1 = Car(\"EV\", \"Black\", 10_00_000)"
   ]
  },
  {
   "cell_type": "markdown",
   "id": "b36e3c6a",
   "metadata": {},
   "source": [
    "## * Access Specifiers\n",
    "### public : default all variables are in public access\n",
    "### private : `__` double underscore - hides access from user\n",
    "\n",
    "There is not concept of private attribute in Python. All the attributes and methods are accessible to end users. But there is a convention used in Python programming i.e. if a variable or method name starts with `_` single underscore, then users should not directly access to it; there must be some methods provided by the class-author to access that variable or method.  Similarly, `__` is designed for renaming the attribute with class name i.e. the attribute is automatically renamed as `_className__attributeName`. This is used to avoid conflict in the attribute names in different classes, and is useful at the time of inheritance, when (parent and child class - inheritance will explain those terms) has same attribute name.\n",
    "\n",
    "### protected : `_` single underscore -\n",
    "----\n",
    "\n",
    "\n",
    "getter setter methods will help access "
   ]
  },
  {
   "cell_type": "code",
   "execution_count": 3,
   "id": "d6c63753",
   "metadata": {},
   "outputs": [
    {
     "ename": "AttributeError",
     "evalue": "'Car' object has no attribute '__brand'",
     "output_type": "error",
     "traceback": [
      "\u001b[1;31m---------------------------------------------------------------------------\u001b[0m",
      "\u001b[1;31mAttributeError\u001b[0m                            Traceback (most recent call last)",
      "\u001b[1;32m<ipython-input-3-7de7bfdf8b13>\u001b[0m in \u001b[0;36m<module>\u001b[1;34m\u001b[0m\n\u001b[1;32m----> 1\u001b[1;33m \u001b[0mcar1\u001b[0m\u001b[1;33m.\u001b[0m\u001b[0m__brand\u001b[0m\u001b[1;33m\u001b[0m\u001b[1;33m\u001b[0m\u001b[0m\n\u001b[0m",
      "\u001b[1;31mAttributeError\u001b[0m: 'Car' object has no attribute '__brand'"
     ]
    }
   ],
   "source": [
    "car1.__brand"
   ]
  },
  {
   "cell_type": "code",
   "execution_count": 4,
   "id": "1b57bb95",
   "metadata": {},
   "outputs": [
    {
     "ename": "AttributeError",
     "evalue": "'Car' object has no attribute '__model'",
     "output_type": "error",
     "traceback": [
      "\u001b[1;31m---------------------------------------------------------------------------\u001b[0m",
      "\u001b[1;31mAttributeError\u001b[0m                            Traceback (most recent call last)",
      "\u001b[1;32m<ipython-input-4-0be1067fe5bf>\u001b[0m in \u001b[0;36m<module>\u001b[1;34m\u001b[0m\n\u001b[1;32m----> 1\u001b[1;33m \u001b[0mcar1\u001b[0m\u001b[1;33m.\u001b[0m\u001b[0m__model\u001b[0m\u001b[1;33m\u001b[0m\u001b[1;33m\u001b[0m\u001b[0m\n\u001b[0m",
      "\u001b[1;31mAttributeError\u001b[0m: 'Car' object has no attribute '__model'"
     ]
    }
   ],
   "source": [
    "car1.__model"
   ]
  },
  {
   "cell_type": "code",
   "execution_count": 5,
   "id": "efc80bb4",
   "metadata": {},
   "outputs": [
    {
     "ename": "AttributeError",
     "evalue": "'Car' object has no attribute 'color'",
     "output_type": "error",
     "traceback": [
      "\u001b[1;31m---------------------------------------------------------------------------\u001b[0m",
      "\u001b[1;31mAttributeError\u001b[0m                            Traceback (most recent call last)",
      "\u001b[1;32m<ipython-input-5-a3c13e3a44a4>\u001b[0m in \u001b[0;36m<module>\u001b[1;34m\u001b[0m\n\u001b[1;32m----> 1\u001b[1;33m \u001b[0mcar1\u001b[0m\u001b[1;33m.\u001b[0m\u001b[0mcolor\u001b[0m\u001b[1;33m\u001b[0m\u001b[1;33m\u001b[0m\u001b[0m\n\u001b[0m",
      "\u001b[1;31mAttributeError\u001b[0m: 'Car' object has no attribute 'color'"
     ]
    }
   ],
   "source": [
    "car1.color"
   ]
  },
  {
   "cell_type": "markdown",
   "id": "5eafeb0d",
   "metadata": {},
   "source": [
    "## * Methods \n",
    "* **class methods** - dealing with `__brand` class attribute\n",
    "    * getter method property\n",
    "    * setter method property"
   ]
  },
  {
   "cell_type": "code",
   "execution_count": 6,
   "id": "6400c189",
   "metadata": {},
   "outputs": [
    {
     "data": {
      "text/plain": [
       "'BMW'"
      ]
     },
     "execution_count": 6,
     "metadata": {},
     "output_type": "execute_result"
    }
   ],
   "source": [
    "# getter class method\n",
    "car1.getBrand()"
   ]
  },
  {
   "cell_type": "code",
   "execution_count": 7,
   "id": "d4638c20",
   "metadata": {},
   "outputs": [],
   "source": [
    "# setter class method\n",
    "car1.setBrand(\"Tata\")"
   ]
  },
  {
   "cell_type": "code",
   "execution_count": 8,
   "id": "9f7e23bc",
   "metadata": {},
   "outputs": [
    {
     "data": {
      "text/plain": [
       "'Tata'"
      ]
     },
     "execution_count": 8,
     "metadata": {},
     "output_type": "execute_result"
    }
   ],
   "source": [
    "car1.getBrand()"
   ]
  },
  {
   "cell_type": "markdown",
   "id": "b78d2c64",
   "metadata": {},
   "source": [
    "* **object method** or **instance method** - dealing with `__model`, `__color`, `__price` object attribute\n",
    "    * getter method property\n",
    "    * setter method property"
   ]
  },
  {
   "cell_type": "code",
   "execution_count": 9,
   "id": "3ae6c8cf",
   "metadata": {},
   "outputs": [
    {
     "data": {
      "text/plain": [
       "'EV'"
      ]
     },
     "execution_count": 9,
     "metadata": {},
     "output_type": "execute_result"
    }
   ],
   "source": [
    "# getter class method\n",
    "car1.getModel()"
   ]
  },
  {
   "cell_type": "code",
   "execution_count": 10,
   "id": "c1a4d4ef",
   "metadata": {},
   "outputs": [
    {
     "data": {
      "text/plain": [
       "'EV+'"
      ]
     },
     "execution_count": 10,
     "metadata": {},
     "output_type": "execute_result"
    }
   ],
   "source": [
    "# setter class method\n",
    "car1.setModel('EV+')\n",
    "car1.getModel()"
   ]
  },
  {
   "cell_type": "code",
   "execution_count": 11,
   "id": "51afd87b",
   "metadata": {},
   "outputs": [
    {
     "name": "stdout",
     "output_type": "stream",
     "text": [
      "Black, 1000000\n"
     ]
    }
   ],
   "source": [
    "print(f\"{car1.getColor()}, {car1.getPrice()}\")"
   ]
  },
  {
   "cell_type": "code",
   "execution_count": 12,
   "id": "3917f91e",
   "metadata": {},
   "outputs": [
    {
     "name": "stdout",
     "output_type": "stream",
     "text": [
      "White, 800000.0\n"
     ]
    }
   ],
   "source": [
    "car1.setColor(\"White\")\n",
    "car1.setPrice(car1.getPrice()*0.8)\n",
    "print(f\"{car1.getColor()}, {car1.getPrice()}\")"
   ]
  },
  {
   "cell_type": "code",
   "execution_count": 13,
   "id": "86ca7500",
   "metadata": {},
   "outputs": [
    {
     "data": {
      "text/plain": [
       "'Brand new BMW car : EV+ Model, WhiteColour, 800000.0/-'"
      ]
     },
     "execution_count": 13,
     "metadata": {},
     "output_type": "execute_result"
    }
   ],
   "source": [
    "car1.details()"
   ]
  },
  {
   "cell_type": "code",
   "execution_count": 14,
   "id": "ef4ac4a4",
   "metadata": {},
   "outputs": [
    {
     "name": "stdout",
     "output_type": "stream",
     "text": [
      "Destructor called\n"
     ]
    }
   ],
   "source": [
    "del car1"
   ]
  },
  {
   "cell_type": "markdown",
   "id": "67e3bb32",
   "metadata": {},
   "source": [
    "* **```__init__()```** - It is like Constructor, as soon as we instantiate Class, this special methods is invoked / gets called.\n",
    "* **```__str__()```, ```__len__()```,```__del__()```**,  - special methods are defined by their use of underscores. They allow us to use Python specific functions on objects created through our class.\n",
    "```__del__()``` - is like destructor.\n",
    "\n",
    "* Special methods\n",
    "    * `__init__`\n",
    "    * `__del__`\n",
    "    * `__str__`\n",
    "    * `__call__`\n",
    "    * `__dict__`\n",
    "    * `__doc__`\n",
    "    * `__setattr__`\n",
    "    * `__getattr__`\n",
    "\n",
    "\n",
    "## * Decorator\n",
    "A decorator simply wrapped the function and modified its behavior.\n",
    "\n",
    "Decorator is a higher order function like `map`, `filter`\n",
    "\n",
    "a function that takes another function as input\n",
    "it extends the behaviour of input function without modifying it.\n",
    "\n",
    "A decorator simply wrapped the function and modified its behavior."
   ]
  },
  {
   "cell_type": "code",
   "execution_count": 15,
   "id": "c934f3b9",
   "metadata": {},
   "outputs": [
    {
     "name": "stdout",
     "output_type": "stream",
     "text": [
      "Hum First Hum First \n",
      "Magic of decorator\n",
      "Last\n"
     ]
    }
   ],
   "source": [
    "def decorator_func(input_func):\n",
    "    def wrapper_func():\n",
    "        print(\"Hum First \"*2)\n",
    "        input_func()\n",
    "        print(\"Last\")\n",
    "    return wrapper_func\n",
    "\n",
    "def magic_print():\n",
    "    print(\"Magic of decorator\")\n",
    "    \n",
    "magic = decorator_func(magic_print)\n",
    "magic()"
   ]
  },
  {
   "cell_type": "code",
   "execution_count": 16,
   "id": "54072b1e",
   "metadata": {},
   "outputs": [
    {
     "name": "stdout",
     "output_type": "stream",
     "text": [
      "Hum First Hum First \n",
      "Magic of decorator\n",
      "Last\n"
     ]
    }
   ],
   "source": [
    "def decorator_func(input_func):\n",
    "    def wrapper_func():\n",
    "        print(\"Hum First \"*2)\n",
    "        input_func()\n",
    "        print(\"Last\")\n",
    "    return wrapper_func\n",
    "\n",
    "@decorator_func\n",
    "def magic_print():\n",
    "    print(\"Magic of decorator\")\n",
    "    \n",
    "magic = magic_print\n",
    "magic()"
   ]
  },
  {
   "cell_type": "markdown",
   "id": "b3bafe81",
   "metadata": {},
   "source": [
    "**Built-in Decorators**\n",
    "* `@property`\n",
    "* `@classmethod`\n",
    "* `@staticmethon`\n",
    "\n",
    "`@property` decorator\n",
    "\n",
    "```python\n",
    "class Car:\n",
    "    def __init__(self,color):\n",
    "        self.__color = color\n",
    "        \n",
    "    @property\n",
    "    def color(self):\n",
    "        return self.__color\n",
    "    \n",
    "    @color.setter\n",
    "    def color(self, color):\n",
    "        self.__color = color\n",
    "        \n",
    "car1 = Car('Black')\n",
    "print(car1.color)\n",
    "car1.color = 'White'\n",
    "print(car1.color)\n",
    "```\n",
    "`@classmethod` decorator\n",
    "\n",
    "one of parameter in class method is car itself.\n",
    "\n",
    "`@staticmethod` decorator\n",
    "\n",
    "deals with class attributes knowing nothing about class itself.\n",
    "no access to class or object\n",
    "utility function\n",
    "\n",
    "----\n",
    "re-defining class with \n",
    "* attribute\n",
    "    * class attribute\n",
    "    * object attribute\n",
    "* methods\n",
    "    * class method\n",
    "    * object methods\n",
    "    \n",
    "some decorator for getter setter property, classmethod, static method."
   ]
  },
  {
   "cell_type": "code",
   "execution_count": 17,
   "id": "6e7fc1e9",
   "metadata": {},
   "outputs": [],
   "source": [
    "class Car:\n",
    "    __brand = \"BMW\" \n",
    "    \n",
    "    def __init__(self, model, color, price): #Initialiser - object method\n",
    "        self.__model = model\n",
    "        self.__color = color\n",
    "        self.__price = price\n",
    "        \n",
    "    @property\n",
    "    def brand(CarClass):\n",
    "        return CarClass.__brand\n",
    "    \n",
    "    @brand.setter\n",
    "    def brand(ClassCar, brand):\n",
    "        ClassCar.__brand = brand\n",
    "        \n",
    "    @property\n",
    "    def model(self):\n",
    "        return self.__model\n",
    "    \n",
    "    @model.setter\n",
    "    def model(self, model):\n",
    "        self.__model = model\n",
    "        \n",
    "    @property\n",
    "    def color(self):\n",
    "        return self.__color\n",
    "    \n",
    "    @color.setter\n",
    "    def color(self, color):\n",
    "        self.__color = color\n",
    "        \n",
    "    @property\n",
    "    def price(self):\n",
    "        return self.__price\n",
    "    \n",
    "    @price.setter\n",
    "    def price(self, price):\n",
    "        self.__price = price\n",
    "    \n",
    "    def details(self):\n",
    "        return f\"Brand new {Car.__brand} car : {self.__model} Model, {self.__color}Colour, {self.__price}/-\"\n",
    "    \n",
    "    @classmethod\n",
    "    def brandDetails(classname):\n",
    "        return f\"Car is of '{classname.__brand}' Brand\"\n",
    "    \n",
    "    @staticmethod\n",
    "    def discount(costprice, discount):\n",
    "        return costprice*(1-(discount*0.01))"
   ]
  },
  {
   "cell_type": "code",
   "execution_count": 18,
   "id": "42061446",
   "metadata": {},
   "outputs": [
    {
     "name": "stdout",
     "output_type": "stream",
     "text": [
      "BMW, EV, Black, 1000000\n"
     ]
    }
   ],
   "source": [
    "car1 = Car(\"EV\", \"Black\", 10_00_000)\n",
    "print(f\"{car1.brand}, {car1.model}, {car1.color}, {car1.price}\")"
   ]
  },
  {
   "cell_type": "code",
   "execution_count": 19,
   "id": "93385cc9",
   "metadata": {},
   "outputs": [
    {
     "data": {
      "text/plain": [
       "\"Car is of 'BMW' Brand\""
      ]
     },
     "execution_count": 19,
     "metadata": {},
     "output_type": "execute_result"
    }
   ],
   "source": [
    "car1.brandDetails()"
   ]
  },
  {
   "cell_type": "code",
   "execution_count": 20,
   "id": "cc9cdf6e",
   "metadata": {},
   "outputs": [
    {
     "data": {
      "text/plain": [
       "'Brand new BMW car : EV Model, BlackColour, 1000000/-'"
      ]
     },
     "execution_count": 20,
     "metadata": {},
     "output_type": "execute_result"
    }
   ],
   "source": [
    "car1.details()"
   ]
  },
  {
   "cell_type": "code",
   "execution_count": 21,
   "id": "79f46359",
   "metadata": {},
   "outputs": [
    {
     "name": "stdout",
     "output_type": "stream",
     "text": [
      "Tata, EV+, White, 800000\n"
     ]
    },
    {
     "data": {
      "text/plain": [
       "'Brand new BMW car : EV+ Model, WhiteColour, 800000/-'"
      ]
     },
     "execution_count": 21,
     "metadata": {},
     "output_type": "execute_result"
    }
   ],
   "source": [
    "car1.brand = \"Tata\"\n",
    "car1.model = \"EV+\"\n",
    "car1.color = \"White\"\n",
    "car1.price = 800_000\n",
    "\n",
    "\n",
    "print(f\"{car1.brand}, {car1.model}, {car1.color}, {car1.price}\")\n",
    "car1.details()"
   ]
  },
  {
   "cell_type": "markdown",
   "id": "747e5204",
   "metadata": {},
   "source": [
    "----\n",
    "#### * Revision - OOP\n",
    "\n",
    "* **Object:** The instance of a class / it’s the working entity of a class.\n",
    "\n",
    "* **Class:** This is the model or standard about the capability of what an object can do\n",
    "\n",
    "* **Method:** Can modify a class state that would apply across all the instances of the class\n",
    "\n",
    "* **Instance:** These are like Objects, however, let’s think about it in these terms: A blueprint for a car design is the class description, all the cars manufactured from that blueprint are objects of that class. Your car that has been made from that blueprint is an instance of that class.\n",
    "\n",
    "**Examples Revision**"
   ]
  },
  {
   "cell_type": "code",
   "execution_count": 22,
   "id": "19c7f71c",
   "metadata": {},
   "outputs": [
    {
     "name": "stdout",
     "output_type": "stream",
     "text": [
      "got a new Developer\n",
      "<class '__main__.Developer'> c++Programmer\n",
      "ajay sharma is a c++ Programmer of 29 years old.\n",
      "ajay sharma is a c++ Programmer of 30 years old.\n",
      "Developer removed\n",
      "----------------------------------------------------------------------------------------------------\n",
      "got a new Developer\n",
      "<class '__main__.Developer'> pythonProgrammer\n",
      "aryan kumar is a python Programmer of 26 years old.\n",
      "aryan kumar is a python Programmer of 27 years old.\n",
      "Developer removed\n"
     ]
    }
   ],
   "source": [
    "# example 1 \n",
    "class Developer:\n",
    "    alias = \"Programmer\"\n",
    "    def __init__(self,arg1):\n",
    "        self.technology = arg1\n",
    "        self.name = str()\n",
    "        self.age = int()\n",
    "        print(\"got a new Developer\")\n",
    "        \n",
    "    def set_name(self,Name : str):\n",
    "        self.name = Name\n",
    "        \n",
    "    def set_age(self,Age : int):\n",
    "        self.age = Age\n",
    "        \n",
    "    def set_technology(self,Technology : str):\n",
    "        self.technology = Technology\n",
    "        \n",
    "    def get_name(self):\n",
    "        return self.name\n",
    "    \n",
    "    def get_age(self):\n",
    "        return self.age\n",
    "    \n",
    "    def get_technology(self):\n",
    "        return self.technology\n",
    "        \n",
    "    def __str__(self):\n",
    "        return \"{} is a {} {} of {} years old.\".format(self.get_name(),self.get_technology(), self.alias, self.get_age())\n",
    "    \n",
    "    def __del__(self):\n",
    "        print(\"Developer removed\")\n",
    "\n",
    "Ajay = Developer('c++')\n",
    "Ajay.name = 'ajay sharma'\n",
    "Ajay.age = 29\n",
    "print(type(Ajay), Ajay.technology + Ajay.alias)\n",
    "print(Ajay)\n",
    "Ajay.set_age(30)\n",
    "print(Ajay)\n",
    "\n",
    "del Ajay\n",
    "\n",
    "print(\"-\"*100)\n",
    "\n",
    "Aryan = Developer('python')\n",
    "Aryan.name = 'aryan kumar'\n",
    "Aryan.age = 26\n",
    "print(type(Aryan), Aryan.technology + Aryan.alias)\n",
    "print(Aryan)\n",
    "Aryan.set_age(27)\n",
    "print(Aryan)\n",
    "\n",
    "del Aryan"
   ]
  },
  {
   "cell_type": "code",
   "execution_count": 23,
   "id": "ec49df9d",
   "metadata": {},
   "outputs": [
    {
     "name": "stdout",
     "output_type": "stream",
     "text": [
      "Radius is:  1\n",
      "Area is:  3.14\n",
      "Circumference is:  6.28\n",
      "----------------------------------------------------------------------------------------------------\n",
      "Radius is:  2\n",
      "Area is:  12.56\n",
      "Circumference is:  12.56\n"
     ]
    }
   ],
   "source": [
    "# example 2 \n",
    "class Circle:\n",
    "    pi = 3.14\n",
    "\n",
    "    # Circle gets instantiated with a radius (default is 1)\n",
    "    def __init__(self, radius=1):\n",
    "        self.radius = radius \n",
    "        self.area = radius * radius * Circle.pi\n",
    "\n",
    "    # Method for resetting Radius\n",
    "    def setRadius(self, new_radius):\n",
    "        self.radius = new_radius\n",
    "        self.area = new_radius * new_radius * self.pi\n",
    "\n",
    "    # Method for getting Circumference\n",
    "    def getCircumference(self):\n",
    "        return self.radius * self.pi * 2\n",
    "\n",
    "\n",
    "c = Circle()\n",
    "\n",
    "print('Radius is: ',c.radius)\n",
    "print('Area is: ',c.area)\n",
    "print('Circumference is: ',c.getCircumference())\n",
    "\n",
    "print(\"-\"*100)\n",
    "\n",
    "c.setRadius(2)\n",
    "\n",
    "print('Radius is: ',c.radius)\n",
    "print('Area is: ',c.area)\n",
    "print('Circumference is: ',c.getCircumference())"
   ]
  },
  {
   "cell_type": "markdown",
   "id": "29a05b38",
   "metadata": {},
   "source": [
    "\n",
    "----\n",
    "\n",
    "## * The Four Principles / Pillar of Object-Oriented-Programming (OOP):\n",
    "### 1. Encapsulation\n",
    "Encapsulation is accomplished when each object maintains a private state, inside a class.\n",
    "Other objects can not access this state directly, instead, they can only invoke a list of public functions.\n",
    "The object manages its own state via these functions and no other class can alter it unless explicitly allowed.\n",
    "In order to communicate with the object, you will need to utilize the methods provided.\n",
    "\n",
    "_Real World Example_ : <br>\n",
    "A capsule's medicine doesn't expose to outside environment world.\n",
    "### 2. Inheritance\n",
    "Inheritance is the ability of one object to acquire some/all properties of another object.\n",
    "You can reuse the fields and methods of the existing class.\n",
    "Inheritance is a way to form new classes using classes that have already been defined.\n",
    "The newly formed classes are called derived classes, the classes that we derive from are called base classes.\n",
    "Important benefits of inheritance are code reuse and reduction of complexity of a program.\n",
    "The derived classes (descendants) override or extend the functionality of base classes (ancestors).\n",
    "\n",
    "_Real World Example_ : <br>\n",
    "Inheriting parents property by a child.\n",
    "### 3. Abstraction\n",
    "Abstraction is an extension of encapsulation.\n",
    "It is the process of selecting data from a larger pool to show only the relevant details to the object.\n",
    "The process of fetching/removing/selecting the user information from a larger pool is referred to as Abstraction.\n",
    "One of the advantages of Abstraction is being able to apply the same information you used on the application level with little or no modification.\n",
    "\n",
    "_Real World Example_ : <br>\n",
    "Gear shifting mechanism or clutch / accelerator - User not necessarily need to know about all this mechanism while driving car **User only focus on functionality or implementation**.\n",
    "### 4. Polymorphism\n",
    "polymorphism refers to the way in which different object classes can share the same method name, and those methods can be called from the same place even though a variety of different objects might be passed in.\n",
    "\n",
    "_Real World Example_ : <br>\n",
    "Design for **sports car engine** play role optimizing power for **speed** while **tractor / truck engine** play role optimizing power for **high power performance**.\n"
   ]
  },
  {
   "cell_type": "markdown",
   "id": "5bf9e25b",
   "metadata": {},
   "source": [
    "----\n",
    "## * Encapsulation\n",
    "\n",
    "In order to keep the attribute **private** from user we use **__** (double underscore) before object attributes or methods."
   ]
  },
  {
   "cell_type": "code",
   "execution_count": 24,
   "id": "d7f8ffa6",
   "metadata": {},
   "outputs": [],
   "source": [
    "# without encapsulation\n",
    "class Car:\n",
    "    brand = \"BMW\"\n",
    "    def __init__(self,price):\n",
    "        self.price = price\n",
    "        \n",
    "    def branding(self):\n",
    "        return f\"A {Car.brand} Brand Car\"\n",
    "    \n",
    "    def detail(self):\n",
    "        return self.branding()"
   ]
  },
  {
   "cell_type": "code",
   "execution_count": 25,
   "id": "8bec1e32",
   "metadata": {},
   "outputs": [],
   "source": [
    "c1 = Car(10)"
   ]
  },
  {
   "cell_type": "code",
   "execution_count": 26,
   "id": "32b3e817",
   "metadata": {},
   "outputs": [
    {
     "data": {
      "text/plain": [
       "'BMW'"
      ]
     },
     "execution_count": 26,
     "metadata": {},
     "output_type": "execute_result"
    }
   ],
   "source": [
    "c1.brand"
   ]
  },
  {
   "cell_type": "code",
   "execution_count": 27,
   "id": "7eff158a",
   "metadata": {},
   "outputs": [
    {
     "data": {
      "text/plain": [
       "10"
      ]
     },
     "execution_count": 27,
     "metadata": {},
     "output_type": "execute_result"
    }
   ],
   "source": [
    "c1.price"
   ]
  },
  {
   "cell_type": "code",
   "execution_count": 28,
   "id": "d69b9a0c",
   "metadata": {},
   "outputs": [
    {
     "data": {
      "text/plain": [
       "'A BMW Brand Car'"
      ]
     },
     "execution_count": 28,
     "metadata": {},
     "output_type": "execute_result"
    }
   ],
   "source": [
    "c1.branding()"
   ]
  },
  {
   "cell_type": "code",
   "execution_count": 29,
   "id": "50b8fde6",
   "metadata": {},
   "outputs": [],
   "source": [
    "# with encapsulation\n",
    "class Car:\n",
    "    __brand = \"BMW\"\n",
    "    def __init__(self,price):\n",
    "        self.__price = price\n",
    "        \n",
    "    def __branding(self):\n",
    "        return f\"A {Car.__brand} Brand Car\"\n",
    "    \n",
    "    def detail(self):\n",
    "        return self.__branding()"
   ]
  },
  {
   "cell_type": "code",
   "execution_count": 30,
   "id": "8308e755",
   "metadata": {},
   "outputs": [],
   "source": [
    "c1 = Car(10)"
   ]
  },
  {
   "cell_type": "code",
   "execution_count": 31,
   "id": "728408eb",
   "metadata": {},
   "outputs": [
    {
     "ename": "AttributeError",
     "evalue": "'Car' object has no attribute 'brand'",
     "output_type": "error",
     "traceback": [
      "\u001b[1;31m---------------------------------------------------------------------------\u001b[0m",
      "\u001b[1;31mAttributeError\u001b[0m                            Traceback (most recent call last)",
      "\u001b[1;32m<ipython-input-31-4c4c3d7e2c1a>\u001b[0m in \u001b[0;36m<module>\u001b[1;34m\u001b[0m\n\u001b[1;32m----> 1\u001b[1;33m \u001b[0mc1\u001b[0m\u001b[1;33m.\u001b[0m\u001b[0mbrand\u001b[0m\u001b[1;33m\u001b[0m\u001b[1;33m\u001b[0m\u001b[0m\n\u001b[0m",
      "\u001b[1;31mAttributeError\u001b[0m: 'Car' object has no attribute 'brand'"
     ]
    }
   ],
   "source": [
    "c1.brand"
   ]
  },
  {
   "cell_type": "code",
   "execution_count": 32,
   "id": "f146c053",
   "metadata": {},
   "outputs": [
    {
     "ename": "AttributeError",
     "evalue": "'Car' object has no attribute '__brand'",
     "output_type": "error",
     "traceback": [
      "\u001b[1;31m---------------------------------------------------------------------------\u001b[0m",
      "\u001b[1;31mAttributeError\u001b[0m                            Traceback (most recent call last)",
      "\u001b[1;32m<ipython-input-32-b5130afd9c19>\u001b[0m in \u001b[0;36m<module>\u001b[1;34m\u001b[0m\n\u001b[1;32m----> 1\u001b[1;33m \u001b[0mc1\u001b[0m\u001b[1;33m.\u001b[0m\u001b[0m__brand\u001b[0m\u001b[1;33m\u001b[0m\u001b[1;33m\u001b[0m\u001b[0m\n\u001b[0m",
      "\u001b[1;31mAttributeError\u001b[0m: 'Car' object has no attribute '__brand'"
     ]
    }
   ],
   "source": [
    "c1.__brand"
   ]
  },
  {
   "cell_type": "code",
   "execution_count": 33,
   "id": "ca730b04",
   "metadata": {},
   "outputs": [
    {
     "ename": "AttributeError",
     "evalue": "'Car' object has no attribute 'price'",
     "output_type": "error",
     "traceback": [
      "\u001b[1;31m---------------------------------------------------------------------------\u001b[0m",
      "\u001b[1;31mAttributeError\u001b[0m                            Traceback (most recent call last)",
      "\u001b[1;32m<ipython-input-33-3694a07dc4c6>\u001b[0m in \u001b[0;36m<module>\u001b[1;34m\u001b[0m\n\u001b[1;32m----> 1\u001b[1;33m \u001b[0mc1\u001b[0m\u001b[1;33m.\u001b[0m\u001b[0mprice\u001b[0m\u001b[1;33m\u001b[0m\u001b[1;33m\u001b[0m\u001b[0m\n\u001b[0m",
      "\u001b[1;31mAttributeError\u001b[0m: 'Car' object has no attribute 'price'"
     ]
    }
   ],
   "source": [
    "c1.price"
   ]
  },
  {
   "cell_type": "code",
   "execution_count": 34,
   "id": "7223cabd",
   "metadata": {},
   "outputs": [
    {
     "ename": "AttributeError",
     "evalue": "'Car' object has no attribute '__price'",
     "output_type": "error",
     "traceback": [
      "\u001b[1;31m---------------------------------------------------------------------------\u001b[0m",
      "\u001b[1;31mAttributeError\u001b[0m                            Traceback (most recent call last)",
      "\u001b[1;32m<ipython-input-34-6e588ad6941e>\u001b[0m in \u001b[0;36m<module>\u001b[1;34m\u001b[0m\n\u001b[1;32m----> 1\u001b[1;33m \u001b[0mc1\u001b[0m\u001b[1;33m.\u001b[0m\u001b[0m__price\u001b[0m\u001b[1;33m\u001b[0m\u001b[1;33m\u001b[0m\u001b[0m\n\u001b[0m",
      "\u001b[1;31mAttributeError\u001b[0m: 'Car' object has no attribute '__price'"
     ]
    }
   ],
   "source": [
    "c1.__price"
   ]
  },
  {
   "cell_type": "code",
   "execution_count": null,
   "id": "2c1aca1d",
   "metadata": {},
   "outputs": [],
   "source": [
    "c1.__branding()"
   ]
  },
  {
   "cell_type": "markdown",
   "id": "6103b535",
   "metadata": {},
   "source": [
    "----\n",
    "## * Inheritance\n",
    "The transfer of characteristics of a class to other classes that are derived from it.\n",
    "Inheritance is the capability of one class to derive or inherit the properties from another class.\n",
    "\n",
    "\n",
    "* It provides reusability of a code, allows us to add more features to a class without modifying it.\n",
    "* The class from which a class inherits is called the **parent class**, **base class** or **super class**.\n",
    "* A class which inherits from a superclass is called a **child class**, also called **derived class**, **sub class** or **heir class**.\n",
    "* the child class acquires the properties and can access all the data members and functions defined in the parent class. A child class can also provide its specific implementation to the functions of the parent class.\n",
    "* It is transitive in nature, which means that if class B inherits from another class A, then all the subclasses of B would automatically inherit from class A.\n",
    "* represents real-world relationships well.\n",
    "\n",
    "\n",
    "Inheritance models what is called an **`IS A`** relationship. This means that when you have a Derived class that inherits from a Base class, you created a relationship where Derived is a specialized version of Base.\n",
    "Derived class extends properties of Base Class.\n",
    "\n",
    "Syntax\n",
    "```\n",
    "class <BaseClass1>:\n",
    "    <Body of base class1>\n",
    "    \n",
    "class <BaseClass2>:\n",
    "    <Body of base class2>\n",
    "\n",
    ".\n",
    ".\n",
    ".\n",
    "\n",
    "class <BaseClassN>:\n",
    "    <Body of base classN>\n",
    "\n",
    "class <DerivedClass>( <BaseClass1>, <BaseClass2>, ..., <BaseClassN>):\n",
    "Body of derived class\n",
    " \n",
    "```\n",
    "Constructor of subclasses always called to a constructor of parent class to initialize value\n",
    "for the attributes in the parent class, then it start assign value for its attributes.\n",
    "\n",
    "\n",
    "Python creates a MRO (method resolution order) for multiple inheritance, and if it can not be\n",
    "created then error will be reported.[124/206 https://readthedocs.org/projects/pythonguide/downloads/pdf/latest/]\n",
    "\n",
    "\n",
    "\"Object type comparisons should always use isinstance() instead of comparing types directly.\""
   ]
  },
  {
   "cell_type": "code",
   "execution_count": 36,
   "id": "27f76a9f",
   "metadata": {},
   "outputs": [
    {
     "name": "stdout",
     "output_type": "stream",
     "text": [
      "Road {self.mode} car here\n",
      "sea & <bound method Cruise.get_duration of <__main__.Cruise object at 0x000001E21645D2B0>> days on Crise\n",
      "{self.mode} cruise {self.name} here {self.duration} days package\n",
      "sea & <bound method Cruise.get_duration of <__main__.Cruise object at 0x000001E21645DA30>> days on Full Moon Cruise\n",
      "{self.mode} cruise {self.name} here {self.duration} days package\n"
     ]
    }
   ],
   "source": [
    "class Vehicle:\n",
    "    \n",
    "    def __init__(self, mode = \"Road\"):\n",
    "        self.mode = mode\n",
    "        \n",
    "    def get_mode(self):\n",
    "        return self.mode\n",
    "    \n",
    "    def set_mode(self, mode):\n",
    "        self.mode = mode\n",
    "        \n",
    "    def getinfo(self):\n",
    "        return \"{self.mode} vehicle here\"\n",
    "        \n",
    "class Car(Vehicle):\n",
    "    # child class without __init__() method : inherits all attributes of the parent class\n",
    "    def getinfo(self):\n",
    "        return \"{self.mode} car here\"\n",
    "    \n",
    "class Cruise(Vehicle):\n",
    "    def __init__(self, mode=\"sea\", name = \"Crise\", duration=3):\n",
    "        Vehicle.__init__(self,mode)\n",
    "        self.name = name\n",
    "        self.duration = duration\n",
    "        \n",
    "    def get_name(self):\n",
    "        return self.name\n",
    "        \n",
    "    def get_duration(self):\n",
    "        return self.duration\n",
    "    \n",
    "    def set_duration(self):\n",
    "        self.duration = duration\n",
    "        \n",
    "    def getinfo(self):\n",
    "        return \"{self.mode} cruise {self.name} here {self.duration} days package\"\n",
    "        \n",
    "ms800 = Car()\n",
    "print(ms800.get_mode(),ms800.getinfo())\n",
    "partyBoat = Cruise()\n",
    "fullMoon = Cruise(\"sea\",\"Full Moon Cruise\", 2)\n",
    "\n",
    "print(f'{partyBoat.get_mode()} & {partyBoat.get_duration} days on {partyBoat.get_name()}')\n",
    "print(partyBoat.getinfo())\n",
    "print(f'{fullMoon.get_mode()} & {fullMoon.get_duration} days on {fullMoon.get_name()}')\n",
    "print(fullMoon.getinfo())"
   ]
  },
  {
   "cell_type": "code",
   "execution_count": null,
   "id": "31092aec",
   "metadata": {},
   "outputs": [],
   "source": []
  },
  {
   "cell_type": "markdown",
   "id": "0a67b47d",
   "metadata": {},
   "source": [
    "----\n",
    "## * Abstraction\n",
    "\n",
    "User is familiar with that \"what function does\" but they don't know \"how it does.\"\n",
    "\n",
    "hide internal details & reveal only functionality requirement\n",
    "\n",
    "abstraction can be achieved by using **abstract classes and methods** in our programs.\n",
    "\n",
    "Python does not provide abstract classes. Python comes with a module that provides the base for defining Abstract Base classes(ABC) and that module name is ABC. `ABC` works by decorating methods of the base class as abstract and then registering concrete classes as implementations of the abstract base. A method becomes abstract when decorated with the keyword `@abstractmethod`. \n",
    "\n",
    "**Abstract Class** \n",
    "* class which contain 1 or more abstract methods.\n",
    "\n",
    "* An Abstract class can contain the both method normal and abstract method.\n",
    "\n",
    "* Abstract methods do not contain any implementation\n",
    "\n",
    "* all the implementations can be defined in the methods of sub-classes that inherit the abstract class\n",
    "\n",
    "* meant to be the blueprint of the other class.\n",
    "\n",
    "* helpful to provide the standard interface for different implementations of components\n",
    "\n",
    "\n",
    "* Abstract Class cannot be instantiated - \n",
    "\n",
    "    * Abstract classes are incomplete because they have methods that have nobody. If python allows creating an object for abstract classes then using that object if anyone calls the abstract method, but there is no actual implementation to invoke. So we use an abstract class as a template and according to the need, we extend it and build on it before we can use it. Due to the fact, an abstract class is not a concrete class, it cannot be instantiated. When we create an object for the abstract class it raises an error. \n",
    "\n",
    "\n",
    "* **Python provides the `abc`-*abstract base class* module to use the abstraction in the Python program.**\n",
    "\n",
    "**Abstract Base Class**\n",
    "* An abstract base class is the common application program of the interface for a set of subclasses. \n",
    "* It can be used by the third-party, which will provide the implementations such as with plugins. \n",
    "* It is also beneficial when we work with the large code-base hard to remember all the classes.\n",
    "\n",
    "The ABC works by decorating methods of the base class as abstract. \n",
    "It registers concrete classes as the implementation of the abstract base. \n",
    "use the `@abstractmethod` decorator to define an abstract method or if we don't provide the definition to the method, it automatically becomes the abstract method.\n"
   ]
  },
  {
   "cell_type": "code",
   "execution_count": 37,
   "id": "a847b8db",
   "metadata": {},
   "outputs": [
    {
     "name": "stdout",
     "output_type": "stream",
     "text": [
      "Shape Square, Perimeter : 20, Area : 25\n",
      "Shape Triangle, Perimeter : 10.7, Area : 5.359803517853988\n"
     ]
    }
   ],
   "source": [
    "# abc - abstract base class\n",
    "from abc import ABC, abstractmethod\n",
    "\n",
    "class Shape(ABC):\n",
    "    \n",
    "    @abstractmethod\n",
    "    def area(self):\n",
    "        pass\n",
    "    \n",
    "    @abstractmethod\n",
    "    def perimeter(self):\n",
    "        pass\n",
    "    \n",
    "class Square(Shape):\n",
    "    def __init__(self,side):\n",
    "        self.__side = side\n",
    "        \n",
    "    def area(self):\n",
    "        return self.__side**2\n",
    "    \n",
    "    def perimeter(self):\n",
    "        return 4*self.__side\n",
    "    \n",
    "class Triangle(Shape):\n",
    "    def __init__(self, a, b, c):\n",
    "        self.__a = a\n",
    "        self.__b = b\n",
    "        self.__c = c\n",
    "        \n",
    "        \n",
    "    def area(self):\n",
    "        s = (self.__a + self.__b+ self.__c)*0.5 #semi-perimeter   \n",
    "        exp = s * (s - self.__a) * (s - self.__b) * (s - self.__c) # Heron's Formula\n",
    "        return pow(exp,0.5)\n",
    "    \n",
    "    def perimeter(self):\n",
    "        return self.__a + self.__b + self.__c\n",
    "        \n",
    "        \n",
    "# myshape = Shape() # it will not give error if : ABC & abstractmethod decorator removed\n",
    "shape1 = Square(5)\n",
    "print(f'Shape Square, Perimeter : {shape1.perimeter()}, Area : {shape1.area()}')\n",
    "shape2 = Triangle(3.2, 3.5, 4)\n",
    "print(f'Shape Triangle, Perimeter : {shape2.perimeter()}, Area : {shape2.area()}')"
   ]
  },
  {
   "cell_type": "markdown",
   "id": "ac08329c",
   "metadata": {},
   "source": [
    "----\n",
    "## * Polymorphism\n",
    "\n",
    "ability to take or have various form.\n",
    "allows to define method in child class with same name as methods in parent class but doing things differently.\n",
    "\n",
    "\n",
    "`__init__()` function, the child class will no longer inherit the parent's `__init__()` function\n",
    "The child's `__init__()` function overrides the inheritance of the parent's `__init__()` function.\n",
    "To keep the inheritance of the parent's `__init__()` function, add a call to the parent's `__init__()` function.\n",
    "Below Animal Dog class example will explain some of this points."
   ]
  },
  {
   "cell_type": "code",
   "execution_count": 38,
   "id": "f8c3db7f",
   "metadata": {},
   "outputs": [
    {
     "name": "stdout",
     "output_type": "stream",
     "text": [
      "Fido says Woof!\n",
      "Isis says Meow!\n"
     ]
    }
   ],
   "source": [
    "# Polymorphism\n",
    "class Animal:\n",
    "    def __init__(self, name):    # Constructor of the class\n",
    "        self.name = name\n",
    "\n",
    "    def speak(self):              # Abstract method, defined by convention only\n",
    "        raise NotImplementedError(\"Subclass must implement abstract method\")\n",
    "\n",
    "\n",
    "class Dog(Animal):\n",
    "    \n",
    "    def speak(self):\n",
    "        return self.name+' says Woof!'\n",
    "    \n",
    "class Cat(Animal):\n",
    "\n",
    "    def speak(self):\n",
    "        return self.name+' says Meow!'\n",
    "    \n",
    "fido = Dog('Fido')\n",
    "isis = Cat('Isis')\n",
    "\n",
    "for pet in [fido,isis]:\n",
    "    print(pet.speak())"
   ]
  },
  {
   "cell_type": "code",
   "execution_count": null,
   "id": "e6c6062a",
   "metadata": {},
   "outputs": [],
   "source": []
  },
  {
   "cell_type": "code",
   "execution_count": null,
   "id": "28e902f2",
   "metadata": {},
   "outputs": [],
   "source": []
  },
  {
   "cell_type": "code",
   "execution_count": null,
   "id": "3c2a0fcc",
   "metadata": {},
   "outputs": [],
   "source": []
  },
  {
   "cell_type": "markdown",
   "id": "e9d2ff8c",
   "metadata": {},
   "source": [
    "# ------------------------------------------------------------------------------------------------------------\n",
    "----\n",
    "----\n",
    "----\n",
    "----\n",
    "# ------------------------------------------------------------------------------------------------------------"
   ]
  },
  {
   "cell_type": "code",
   "execution_count": 39,
   "id": "e71e8802",
   "metadata": {},
   "outputs": [
    {
     "name": "stdout",
     "output_type": "stream",
     "text": [
      "vehicle\n",
      "car\n",
      "Car : BMW Fuel : petrol Seating Capacity : 5 Price : INR. 5000000 /-\n",
      "car removed\n",
      "vehicle removed\n",
      "----------------------------------------------------------------------------------------------------\n",
      "vehicle\n",
      "car\n",
      "Car : Tesla Fuel : electric Seating Capacity : 4 Price : INR. 6000000 /-\n",
      "car removed\n",
      "vehicle removed\n"
     ]
    }
   ],
   "source": [
    "## Inheritance\n",
    "class Vehicle:\n",
    "    \n",
    "    def __init__(self):\n",
    "        self.fuel = None\n",
    "        self.wheeler = None\n",
    "        self.seater = None\n",
    "        self.brand = None\n",
    "        self.price = None\n",
    "        print(\"vehicle\")\n",
    "        \n",
    "    def get_fuel(self):\n",
    "        return self.fuel\n",
    "    \n",
    "    def get_wheeler(self):\n",
    "        return self.wheeler\n",
    "    \n",
    "    def get_seater(self):\n",
    "        return self.seater\n",
    "    \n",
    "    def get_price(self):\n",
    "        return self.price\n",
    "    \n",
    "    def __del__(self):\n",
    "        print(\"vehicle removed\")\n",
    "        \n",
    "class Car(Vehicle):\n",
    "    \n",
    "    def __init__(self):\n",
    "        Vehicle.__init__(self)\n",
    "        print(\"car\")\n",
    "        \n",
    "    def set_specs(self,Fuel,Wheeler,Seater,Brand,Price):\n",
    "        self.fuel = Fuel\n",
    "        self.wheeler = Wheeler\n",
    "        self.seater =Seater \n",
    "        self.brand =Brand \n",
    "        self.price = Price\n",
    "        \n",
    "    def get_brand(self):\n",
    "        return self.brand\n",
    "    \n",
    "    def get_price(self):\n",
    "        return \"INR. {} /-\".format(self.price)\n",
    "    \n",
    "    def __str__(self):\n",
    "        return \"Car : {} Fuel : {} Seating Capacity : {} Price : {}\".format(self.get_brand(),Vehicle.get_fuel(self),Vehicle.get_seater(self),self.get_price())\n",
    "    \n",
    "    def __del__(self):\n",
    "        print(\"car removed\")\n",
    "        Vehicle.__del__(self)\n",
    "        \n",
    "        \n",
    "        \n",
    "bmw_3 = Car()\n",
    "bmw_3.set_specs('petrol',4,5,'BMW',50_00_000)\n",
    "bmw_3.get_fuel()\n",
    "print(bmw_3)\n",
    "del bmw_3\n",
    "\n",
    "print(\"-\"*100)\n",
    "\n",
    "tesla = Car()\n",
    "tesla.set_specs('electric',4,4,'Tesla',60_00_000)\n",
    "tesla.get_fuel()\n",
    "print(tesla)\n",
    "del tesla"
   ]
  },
  {
   "cell_type": "markdown",
   "id": "7dd6f9d8",
   "metadata": {},
   "source": [
    "### ```super()``` function / keyword for same inheritance"
   ]
  },
  {
   "cell_type": "code",
   "execution_count": 40,
   "id": "58b9d1aa",
   "metadata": {},
   "outputs": [
    {
     "name": "stdout",
     "output_type": "stream",
     "text": [
      "vehicle\n",
      "car\n",
      "Car : BMW Fuel : petrol Seating Capacity : 5 Price : INR. 5000000 /-\n",
      "car removed\n",
      "vehicle removed\n",
      "----------------------------------------------------------------------------------------------------\n",
      "vehicle\n",
      "car\n",
      "Car : Tesla Fuel : electric Seating Capacity : 4 Price : INR. 6000000 /-\n",
      "car removed\n",
      "vehicle removed\n"
     ]
    }
   ],
   "source": [
    "## Inheritance by super keyword\n",
    "class Vehicle:\n",
    "    \n",
    "    def __init__(self):\n",
    "        self.fuel = None\n",
    "        self.wheeler = None\n",
    "        self.seater = None\n",
    "        self.brand = None\n",
    "        self.price = None\n",
    "        print(\"vehicle\")\n",
    "        \n",
    "    def get_fuel(self):\n",
    "        return self.fuel\n",
    "    \n",
    "    def get_wheeler(self):\n",
    "        return self.wheeler\n",
    "    \n",
    "    def get_seater(self):\n",
    "        return self.seater\n",
    "    \n",
    "    def get_price(self):\n",
    "        return self.price\n",
    "    \n",
    "    def __del__(self):\n",
    "        print(\"vehicle removed\")\n",
    "        \n",
    "class Car(Vehicle):\n",
    "    \n",
    "    def __init__(self):\n",
    "        super().__init__()\n",
    "        print(\"car\")\n",
    "        \n",
    "    def set_specs(self,Fuel,Wheeler,Seater,Brand,Price):\n",
    "        self.fuel = Fuel\n",
    "        self.wheeler = Wheeler\n",
    "        self.seater =Seater \n",
    "        self.brand =Brand \n",
    "        self.price = Price\n",
    "        \n",
    "    def get_brand(self):\n",
    "        return self.brand\n",
    "    \n",
    "    def get_price(self):\n",
    "        return \"INR. {} /-\".format(self.price)\n",
    "    \n",
    "    def __str__(self):\n",
    "        return \"Car : {} Fuel : {} Seating Capacity : {} Price : {}\".format(self.get_brand(),super().get_fuel(),super().get_seater(),self.get_price())\n",
    "    \n",
    "    def __del__(self):\n",
    "        print(\"car removed\")\n",
    "        Vehicle.__del__(self)\n",
    "        \n",
    "        \n",
    "        \n",
    "bmw_3 = Car()\n",
    "bmw_3.set_specs('petrol',4,5,'BMW',50_00_000)\n",
    "bmw_3.get_fuel()\n",
    "print(bmw_3)\n",
    "del bmw_3\n",
    "\n",
    "print(\"-\"*100)\n",
    "\n",
    "tesla = Car()\n",
    "tesla.set_specs('electric',4,4,'Tesla',60_00_000)\n",
    "tesla.get_fuel()\n",
    "print(tesla)\n",
    "del tesla"
   ]
  },
  {
   "cell_type": "markdown",
   "id": "43820dae",
   "metadata": {},
   "source": [
    "Inheritance\n",
    "\n",
    "sometime we want to extend class functionality without modifying it.\n",
    "\n",
    "method overriding - modifying implementation from method in parent class to child class\n",
    "`super()` - if we want to reuse the method that we overrode from parent class then we use super function\n",
    "\n",
    "\n",
    "class P1\n",
    "class P2\n",
    "\n",
    "- multiple inheritance\n",
    "class C1(P1,P2)"
   ]
  },
  {
   "cell_type": "code",
   "execution_count": null,
   "id": "c3a0bc9f",
   "metadata": {},
   "outputs": [],
   "source": []
  },
  {
   "cell_type": "code",
   "execution_count": null,
   "id": "a5bf39d4",
   "metadata": {},
   "outputs": [],
   "source": []
  },
  {
   "cell_type": "code",
   "execution_count": null,
   "id": "1ed891dc",
   "metadata": {},
   "outputs": [],
   "source": []
  }
 ],
 "metadata": {
  "kernelspec": {
   "display_name": "Python 3",
   "language": "python",
   "name": "python3"
  },
  "language_info": {
   "codemirror_mode": {
    "name": "ipython",
    "version": 3
   },
   "file_extension": ".py",
   "mimetype": "text/x-python",
   "name": "python",
   "nbconvert_exporter": "python",
   "pygments_lexer": "ipython3",
   "version": "3.8.2"
  }
 },
 "nbformat": 4,
 "nbformat_minor": 5
}
