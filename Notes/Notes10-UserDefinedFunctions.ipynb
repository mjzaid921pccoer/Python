{
 "cells": [
  {
   "cell_type": "markdown",
   "id": "da6878e6",
   "metadata": {},
   "source": [
    "----\n",
    "----\n",
    "# Content\n",
    "User Defined Functions\n",
    "* basic functions\n",
    "    * docstring\n",
    "    * arguments : `*args` & `**kwagrs`\n",
    "    * scope\n",
    "* Lambda Functions\n",
    "Libraries\n",
    "* standard libraries\n",
    "----\n",
    "# ---------------------------------------------------------------------------------------------------------------\n"
   ]
  },
  {
   "cell_type": "markdown",
   "id": "8f0c1865",
   "metadata": {},
   "source": [
    "----\n",
    "----\n",
    "# User Defined functions\n",
    "\n",
    "we use `def` keyword to **define** function.\n",
    "\n",
    "triple quotes for [doc strings](https://www.python.org/dev/peps/pep-0257/) of functions\n",
    "```python\n",
    "def function_name(arg1,arg2):\n",
    "    \"\"\"\n",
    "    This is where the function's Document String (docstring) goes\n",
    "    \"\"\"\n",
    "    # Do stuff here\n",
    "    # Return desired result\n",
    "# Function Call\n",
    "function_name(arg1,arg2)\n",
    "```\n",
    "----"
   ]
  },
  {
   "cell_type": "code",
   "execution_count": 1,
   "id": "55be8a72",
   "metadata": {},
   "outputs": [
    {
     "name": "stdout",
     "output_type": "stream",
     "text": [
      "Your Name : Ajey\n",
      "Welcome Ajey\n"
     ]
    }
   ],
   "source": [
    "def greet(user: str):\n",
    "    print(\"Welcome \"+user)\n",
    "    \n",
    "u = input(\"Your Name : \")\n",
    "greet(u)"
   ]
  },
  {
   "cell_type": "code",
   "execution_count": 2,
   "id": "e0b1e035",
   "metadata": {},
   "outputs": [
    {
     "name": "stdout",
     "output_type": "stream",
     "text": [
      "['greet'] ['get_ipython']\n"
     ]
    }
   ],
   "source": [
    "# List of User Defined Function\n",
    "import types\n",
    "userDefined1 = [f.__name__ for f in globals().values() if type(f) == types.FunctionType]\n",
    "userDefined2 = [f.__name__ for f in globals().values() if type(f) == types.MethodType]\n",
    "\n",
    "print(userDefined1,userDefined2)"
   ]
  },
  {
   "cell_type": "code",
   "execution_count": 3,
   "id": "10347dd5",
   "metadata": {},
   "outputs": [],
   "source": [
    "a1 , a2, a3 = 0,0,0"
   ]
  },
  {
   "cell_type": "code",
   "execution_count": 4,
   "id": "17dc95a0",
   "metadata": {},
   "outputs": [
    {
     "name": "stdout",
     "output_type": "stream",
     "text": [
      "['In', 'Out', 'a1', 'a2', 'a3', 'exit', 'get_ipython', 'greet', 'quit', 'types', 'u', 'userDefined1', 'userDefined2']\n"
     ]
    }
   ],
   "source": [
    "# List of variables in file\n",
    "print([variable for variable in dir() if not (variable.startswith('__') or variable.startswith('_'))])"
   ]
  },
  {
   "cell_type": "code",
   "execution_count": 5,
   "id": "8da8ef58",
   "metadata": {},
   "outputs": [],
   "source": [
    "# not_my_data = set(globals())\n",
    "# locals_stored = set(locals())\n",
    "# for name in locals_stored:\n",
    "#     val = eval(name)\n",
    "#     print(name, \"is\", type(val), \"and is equal to \", val)\n",
    "        \n",
    "# globals_stored = set(globals())-not_my_data\n",
    "\n",
    "# for name in globals_stored:\n",
    "\n",
    "#     # Excluding func and not_my_data as they are \n",
    "#     # also considered as a global variable\n",
    "#     if name != \"not_my_data\" and name != \"func\":\n",
    "#         val = eval(name)\n",
    "#         print(name, \"is\", type(val), \"and is equal to \", val)"
   ]
  },
  {
   "cell_type": "markdown",
   "id": "653929f6",
   "metadata": {},
   "source": [
    "\n",
    "```python\n",
    ">>>savings = 15_000\n",
    ">>>def addby10percent():\n",
    ">>>    savings += 0.1*savings\n",
    ">>>    return savings\n",
    ">>>print(addby10percent())\n",
    "UnboundLocalError: local variable 'savings' referenced before assignment.\n",
    "```\n",
    "\n",
    "UnboundLocalError Because the 'savings' variable is a global variable before defining function & inside function treated as local variable\n",
    "We can't modify global variables in functions without passing them as arguments.\n",
    "\n",
    "**\n",
    "\n",
    "**using `global` keyword**\n",
    "```python\n",
    ">>>savings = 15_000\n",
    ">>>def addby10percent():\n",
    ">>>    global savings\n",
    ">>>    savings += 0.1*savings\n",
    ">>>    return savings\n",
    ">>>print(addby10percent())\n",
    "16500.0\n",
    "```"
   ]
  },
  {
   "cell_type": "code",
   "execution_count": 6,
   "id": "097ba553",
   "metadata": {},
   "outputs": [
    {
     "name": "stdout",
     "output_type": "stream",
     "text": [
      "16500.0\n"
     ]
    }
   ],
   "source": [
    "savings = 15_000\n",
    "def addby10percent():\n",
    "    global savings\n",
    "    savings += 0.1*savings\n",
    "    return savings\n",
    "print(addby10percent())"
   ]
  },
  {
   "cell_type": "markdown",
   "id": "986b8e3f",
   "metadata": {},
   "source": [
    "## Arguments / Parameter\n",
    "\n",
    "```\n",
    "def func(parameter):\n",
    "    '''\n",
    "    docstring\n",
    "    '''\n",
    "    statements\n",
    "\n",
    "func(argumet)\n",
    "```\n",
    "\n",
    "Normally Argument & Parameter are same thing when we talk about.<br>\n",
    "Parameter value / variable is a thing mentioned will writing function defination<br>\n",
    "Argument value / variable is a thing where value / variable is passed to function call.\n",
    "\n",
    "* `*args` - non keywords arguments\n",
    "* `**kwargs` - keywords arguments\n",
    "**`*` & `**`  here are unpacking operator**\n",
    "## `*args` \n",
    "Python offers a way to handle arbitrary numbers of positional / *non - keyworded* arguments. Instead of creating a tuple of values, `*args` as iterator.\n",
    "\n",
    "```python\n",
    ">>>def func(*args):\n",
    ">>>    arguments = args\n",
    ">>>    for argno, arg in enumerate(arguments,start=1):\n",
    ">>>        print(argno,arg)\n",
    ">>>func(\"a\",\"b\",\"c\",4,5,6,[789],(10,11),{12:\"Twelve\"})\n",
    "1 a\n",
    "2 b\n",
    "3 c\n",
    "4 4\n",
    "5 5\n",
    "6 6\n",
    "7 [789]\n",
    "8 (10, 11)\n",
    "9 {12: 'Twelve'}\n",
    "```\n",
    "\n",
    "## `**kwargs`\n",
    "\n",
    "Python offers a way to handle arbitrary numbers of *keyworded* arguments. Instead of creating a tuple of values, `**kwargs` builds a dictionary of key/value pairs.\n",
    "\n",
    "```python\n",
    ">>>def func(**kwargs):\n",
    ">>>    for argname, argvalue in kwargs.items():\n",
    ">>>        print(argname,argvalue)\n",
    ">>>func(name='Selvie',series=\"Loki\",character=\"Female-Loki\")\n",
    "name Selvie\n",
    "series Loki\n",
    "character Female-Loki\n",
    "```\n",
    "\n",
    "----\n",
    "\n",
    "### Order of arguments\n",
    "\n",
    "* standard , optional, positional , keyword argument order must be followed\n",
    "* default argument must follow non default argument.\n",
    "* Positional arguments before keywords argument must be present in order. `func(*args,**kwagrs)`\n",
    "\n",
    "```python\n",
    ">>>def func(standard_arg1, standard_arg2, optional_arg3=10, *args, **kwargs):\n",
    ">>>    all_args = []\n",
    ">>>    all_args.append(standard_arg1)\n",
    ">>>    all_args.append(standard_arg2)\n",
    ">>>    all_args.append(optional_arg3)\n",
    ">>>    all_args.extend(args)\n",
    ">>>    all_args.extend(kwargs)\n",
    ">>>    print(all_args)\n",
    ">>>func(0,5,res=0,sum=0)\n",
    ">>>func(0,5,15,20,25,res=0,sum=0)\n",
    "[0, 5, 10, 'res', 'sum']\n",
    "[0, 5, 15, 20, 25, 'res', 'sum']\n",
    "```"
   ]
  },
  {
   "cell_type": "code",
   "execution_count": 7,
   "id": "76c37a6d",
   "metadata": {},
   "outputs": [
    {
     "data": {
      "text/plain": [
       "6.0"
      ]
     },
     "execution_count": 7,
     "metadata": {},
     "output_type": "execute_result"
    }
   ],
   "source": [
    "def myfunc(*args):\n",
    "    return sum(args)*.05\n",
    "\n",
    "myfunc(40,60,20)"
   ]
  },
  {
   "cell_type": "markdown",
   "id": "8f51cd3b",
   "metadata": {},
   "source": []
  },
  {
   "cell_type": "code",
   "execution_count": 8,
   "id": "4ebb6618",
   "metadata": {},
   "outputs": [
    {
     "name": "stdout",
     "output_type": "stream",
     "text": [
      "My favorite fruit is pineapple\n",
      "I don't like fruit\n"
     ]
    }
   ],
   "source": [
    "def myfunc(**kwargs):\n",
    "    if 'fruit' in kwargs:\n",
    "        print(f\"My favorite fruit is {kwargs['fruit']}\")  # review String Formatting and f-strings if this syntax is unfamiliar\n",
    "    else:\n",
    "        print(\"I don't like fruit\")\n",
    "        \n",
    "myfunc(fruit='pineapple')\n",
    "myfunc()"
   ]
  },
  {
   "cell_type": "code",
   "execution_count": 9,
   "id": "963614a4",
   "metadata": {},
   "outputs": [
    {
     "name": "stdout",
     "output_type": "stream",
     "text": [
      "I like eggs and spam and my favorite fruit is cherries\n",
      "May I have some orange juice?\n"
     ]
    }
   ],
   "source": [
    "def myfunc(*args, **kwargs):\n",
    "    if 'fruit' and 'juice' in kwargs:\n",
    "        print(f\"I like {' and '.join(args)} and my favorite fruit is {kwargs['fruit']}\")\n",
    "        print(f\"May I have some {kwargs['juice']} juice?\")\n",
    "    else:\n",
    "        pass\n",
    "        \n",
    "myfunc('eggs','spam',fruit='cherries',juice='orange')\n",
    "# 'eggs','spam' are *args\n",
    "# fruit='cherries',juice='orange' are **kwargs"
   ]
  },
  {
   "cell_type": "markdown",
   "id": "1d89dd7e",
   "metadata": {},
   "source": [
    "## **Note :-**\n",
    "Placing keyworded arguments ahead of positional arguments raises an exception\n",
    "```python\n",
    ">>>myfunc(fruit='cherries',juice='orange','eggs','spam')\n",
    "myfunc(fruit='cherries',juice='orange','eggs','spam')\n",
    "                                          ^\n",
    "SyntaxError: positional argument follows keyword argument\n",
    "```\n",
    "----"
   ]
  },
  {
   "cell_type": "markdown",
   "id": "647c5478",
   "metadata": {},
   "source": [
    "### Lambda Functions : User defined function\n",
    "\n",
    "* Single line function declared with no name\n",
    "* can have any number of arguments\n",
    "* can perform only on expressions\n",
    "\n",
    "syntax\n",
    "```\n",
    "func = lambda parameter1, parameter2 : expression_statement\n",
    "func(value1,value2)\n",
    "```\n",
    "\n",
    "```python\n",
    ">>>checkEven = lambda num : num%2==0\n",
    ">>>checkEven(10)\n",
    "True\n",
    "```"
   ]
  },
  {
   "cell_type": "code",
   "execution_count": null,
   "id": "7c4400f5",
   "metadata": {},
   "outputs": [],
   "source": []
  },
  {
   "cell_type": "markdown",
   "id": "5ae16daa",
   "metadata": {},
   "source": []
  },
  {
   "cell_type": "code",
   "execution_count": null,
   "id": "036e985f",
   "metadata": {},
   "outputs": [],
   "source": []
  },
  {
   "cell_type": "code",
   "execution_count": null,
   "id": "7ab56e42",
   "metadata": {},
   "outputs": [],
   "source": []
  },
  {
   "cell_type": "code",
   "execution_count": null,
   "id": "51514805",
   "metadata": {},
   "outputs": [],
   "source": []
  },
  {
   "cell_type": "markdown",
   "id": "a14c21a1",
   "metadata": {},
   "source": [
    "----\n",
    "# Concepts - ADVANCE"
   ]
  },
  {
   "cell_type": "markdown",
   "id": "9a712ded",
   "metadata": {},
   "source": [
    "# Scope & Namespace\n",
    "\n",
    "the idea of scope can be described by 3 general rules:\n",
    "\n",
    "1. Name assignments will create or change local names by default.\n",
    "2. Name references search (at most) four scopes, these are:\n",
    "    * local\n",
    "    * enclosing functions\n",
    "    * global\n",
    "    * built-in\n",
    "3. Names declared in global and nonlocal statements map assigned names to enclosing module and function scopes.\n",
    "\n",
    "\n",
    "The statement in #2 above can be defined by the LEGB rule.\n",
    "\n",
    "**LEGB Rule:**\n",
    "\n",
    "L: Local — Names assigned in any way within a function (def or lambda), and not declared global in that function.\n",
    "\n",
    "E: Enclosing function locals — Names in the local scope of any and all enclosing functions (def or lambda), from inner to outer.\n",
    "\n",
    "G: Global (module) — Names assigned at the top-level of a module file, or declared global in a def within the file.\n",
    "\n",
    "B: Built-in (Python) — Names preassigned in the built-in names module : open, range, SyntaxError,...\n",
    "\n",
    "----\n",
    "\n",
    "The first time that we print the value of the name **x** with the first line in the function’s body, Python uses the value of the parameter declared in the main block, above the function definition.\n",
    "\n",
    "Next, we assign the value 2 to **x**. The name **x** is local to our function. So, when we change the value of **x** in the function, the **x** defined in the main block remains unaffected.\n",
    "\n",
    "With the last print statement, we display the value of **x** as defined in the main block, thereby confirming that it is actually unaffected by the local assignment within the previously called function.\n",
    "\n",
    "## The <code>global</code> statement\n",
    "If you want to assign a value to a name defined at the top level of the program (i.e. not inside any kind of scope such as functions or classes), then you have to tell Python that the name is not local, but it is global. We do this using the <code>global</code> statement. It is impossible to assign a value to a variable defined outside a function without the global statement.\n",
    "\n",
    "You can use the values of such variables defined outside the function (assuming there is no variable with the same name within the function). However, this is not encouraged and should be avoided since it becomes unclear to the reader of the program as to where that variable’s definition is. Using the <code>global</code> statement makes it amply clear that the variable is defined in an outermost block.\n",
    "\n",
    "\n"
   ]
  },
  {
   "cell_type": "code",
   "execution_count": 10,
   "id": "d1ee3f47",
   "metadata": {},
   "outputs": [
    {
     "name": "stdout",
     "output_type": "stream",
     "text": [
      "Before calling func(), x is:  50\n",
      "This function is now using the global x!\n",
      "Because of global x is:  50\n",
      "Ran func(), changed global x to 2\n",
      "Value of x (outside of func()) is:  2\n"
     ]
    }
   ],
   "source": [
    "x = 50\n",
    "\n",
    "def func():\n",
    "    global x\n",
    "    print('This function is now using the global x!')\n",
    "    print('Because of global x is: ', x)\n",
    "    x = 2\n",
    "    print('Ran func(), changed global x to', x)\n",
    "\n",
    "print('Before calling func(), x is: ', x)\n",
    "func()\n",
    "print('Value of x (outside of func()) is: ', x)"
   ]
  },
  {
   "cell_type": "markdown",
   "id": "a3b49be9",
   "metadata": {},
   "source": [
    "## Conclusion\n",
    "You should now have a good understanding of Scope (you may have already intuitively felt right about Scope which is great!) One last mention is that you can use the **globals()** and **locals()** functions to check what are your current local and global variables.\n",
    "\n",
    "Another thing to keep in mind is that everything in Python is an object! I can assign variables to functions just like I can with numbers! We will go over this again in the decorator section of the course!\n"
   ]
  },
  {
   "cell_type": "markdown",
   "id": "a843e87d",
   "metadata": {},
   "source": [
    "# * Underscore in Python\n",
    "\n",
    "## 1. **Single Underscore**\n",
    "1. **Holds Result of last Expression** valid variable tough.\n",
    "\n",
    "    According to Python doc, the special identifier ```_``` is used in the interactive interpreter to store the result of the last evaluation. It is stored in the builtin module.\n",
    "    \n",
    "```python\n",
    ">>>'_' in dir(__builtins__)\n",
    "True\n",
    "```\n",
    "\n",
    "2. Programmer can use this as **Temporary variable** \n",
    "\n",
    "3. ```*_```  can be used in extended iterable unpacking representing multiple value.\n",
    "\n",
    "4. **Digit Separator** :- 1,00,000 can be assigned like ```1_00_000```.\n",
    "\n",
    "## 2.  **Single pre underscore variables.**\n",
    "\n",
    "1. ```_var``` **intended for internal use**\n",
    "```python\n",
    "from filename import *\n",
    "# inside filename.py variables \"_variableName\" will not be imported : treated as private i.e. Internal variable use.\n",
    "```\n",
    "\n",
    "    while if we really allow the variable to use explicitly then need to follow these.\n",
    "    \n",
    "**Method 1**\n",
    "\n",
    "```python\n",
    "from filename import _variablename\n",
    "print(_variable)\n",
    "# IT WORKS\n",
    "```\n",
    "\n",
    "\n",
    "**Method 2**\n",
    "    \n",
    "```python\n",
    "import filename\n",
    "print(filename._variablename)\n",
    "# IT ALSO WORKS\n",
    "```\n",
    "Programmers can create private variables and methods can still be used from the outside.\n",
    "**single leading underscore is only a naming convention to indicate the variable or function is for internal use**\n",
    "\n",
    "## *  **Single post underscore variables.**\n",
    "\n",
    "To avoid conflicts with Python keywords. Examples ```global_```.\n",
    "\n",
    "## Double underscore\n",
    "Double leading underscores __var & Double leading and trailing underscores __var__.\n",
    "Patterns with double underscores are more strict. They are either not allowed to be overwritten or need a good reason to do so. Please notice that there is no special meaning for double trailing underscores var__."
   ]
  },
  {
   "cell_type": "code",
   "execution_count": null,
   "id": "33c3dc92",
   "metadata": {},
   "outputs": [],
   "source": []
  },
  {
   "cell_type": "code",
   "execution_count": null,
   "id": "6b559052",
   "metadata": {},
   "outputs": [],
   "source": []
  },
  {
   "cell_type": "code",
   "execution_count": null,
   "id": "edc77e8a",
   "metadata": {},
   "outputs": [],
   "source": []
  },
  {
   "cell_type": "code",
   "execution_count": null,
   "id": "383a1c56",
   "metadata": {},
   "outputs": [],
   "source": []
  },
  {
   "cell_type": "code",
   "execution_count": null,
   "id": "99c61abe",
   "metadata": {},
   "outputs": [],
   "source": []
  },
  {
   "cell_type": "code",
   "execution_count": null,
   "id": "3d82bf5a",
   "metadata": {},
   "outputs": [],
   "source": []
  },
  {
   "cell_type": "code",
   "execution_count": null,
   "id": "87aad459",
   "metadata": {},
   "outputs": [],
   "source": []
  },
  {
   "cell_type": "markdown",
   "id": "c77d419a",
   "metadata": {},
   "source": []
  },
  {
   "cell_type": "markdown",
   "id": "ef9c4be9",
   "metadata": {},
   "source": []
  },
  {
   "cell_type": "markdown",
   "id": "4cab9c72",
   "metadata": {},
   "source": [
    "----\n",
    "## Libraries\n",
    " [Standard Python Libraries](https://docs.python.org/3/library/)"
   ]
  },
  {
   "cell_type": "code",
   "execution_count": 11,
   "id": "f6716ab3",
   "metadata": {},
   "outputs": [
    {
     "name": "stdout",
     "output_type": "stream",
     "text": [
      "\n",
      "Please wait a moment while I gather a list of all available modules...\n",
      "\n"
     ]
    },
    {
     "name": "stderr",
     "output_type": "stream",
     "text": [
      "e:\\einstein\\study\\programming\\python\\github\\pyenv\\lib\\site-packages\\IPython\\kernel\\__init__.py:12: ShimWarning: The `IPython.kernel` package has been deprecated since IPython 4.0.You should import from ipykernel or jupyter_client instead.\n",
      "  warn(\"The `IPython.kernel` package has been deprecated since IPython 4.0.\"\n",
      "c:\\users\\dell\\appdata\\local\\programs\\python\\python38\\lib\\pkgutil.py:92: MatplotlibDeprecationWarning: \n",
      "The matplotlib.compat module was deprecated in Matplotlib 3.3 and will be removed two minor releases later.\n",
      "  __import__(info.name)\n",
      "c:\\users\\dell\\appdata\\local\\programs\\python\\python38\\lib\\pkgutil.py:107: VisibleDeprecationWarning: zmq.eventloop.minitornado is deprecated in pyzmq 14.0 and will be removed.\n",
      "    Install tornado itself to use zmq with the tornado IOLoop.\n",
      "    \n",
      "  yield from walk_packages(path, info.name+'.', onerror)\n"
     ]
    },
    {
     "name": "stdout",
     "output_type": "stream",
     "text": [
      "IPython             bleach              mmap                sunau\n",
      "PIL                 builtins            mmapfile            symbol\n",
      "__future__          bz2                 mmsystem            sympyprinting\n",
      "_abc                cProfile            modulefinder        symtable\n",
      "_ast                calendar            msilib              sys\n",
      "_asyncio            cffi                msvcrt              sysconfig\n",
      "_bisect             cgi                 multiprocessing     tabnanny\n",
      "_blake2             cgitb               nbclient            tarfile\n",
      "_bootlocale         chunk               nbconvert           telnetlib\n",
      "_bz2                cmath               nbformat            tempfile\n",
      "_cffi_backend       cmd                 nest_asyncio        terminado\n",
      "_codecs             code                netbios             test\n",
      "_codecs_cn          codecs              netrc               testpath\n",
      "_codecs_hk          codeop              nntplib             tests\n",
      "_codecs_iso2022     collections         notebook            textwrap\n",
      "_codecs_jp          colorama            nt                  this\n",
      "_codecs_kr          colorsys            ntpath              threading\n",
      "_codecs_tw          commctrl            ntsecuritycon       time\n",
      "_collections        compileall          nturl2path          timeit\n",
      "_collections_abc    concurrent          numbers             timer\n",
      "_compat_pickle      configparser        numpy               tkinter\n",
      "_compression        contextlib          odbc                token\n",
      "_contextvars        contextvars         opcode              tokenize\n",
      "_csv                copy                operator            tornado\n",
      "_ctypes             copyreg             optparse            trace\n",
      "_ctypes_test        crypt               os                  traceback\n",
      "_datetime           csv                 packaging           tracemalloc\n",
      "_decimal            ctypes              pandocfilters       traitlets\n",
      "_distutils_hack     curses              parser              tty\n",
      "_dummy_thread       cycler              parso               turtle\n",
      "_elementtree        cythonmagic         pathlib             turtledemo\n",
      "_functools          dataclasses         pdb                 types\n",
      "_hashlib            datetime            perfmon             typing\n",
      "_heapq              dateutil            pickle              unicodedata\n",
      "_imp                dbi                 pickleshare         unittest\n",
      "_io                 dbm                 pickletools         urllib\n",
      "_json               dde                 pip                 uu\n",
      "_locale             decimal             pipes               uuid\n",
      "_lsprof             decorator           pkg_resources       venv\n",
      "_lzma               defusedxml          pkgutil             warnings\n",
      "_markupbase         difflib             platform            wave\n",
      "_md5                dis                 plistlib            wcwidth\n",
      "_msi                distutils           poplib              weakref\n",
      "_multibytecodec     doctest             posixpath           webbrowser\n",
      "_multiprocessing    dummy_threading     pprint              webencodings\n",
      "_opcode             email               profile             wheel\n",
      "_operator           encodings           prometheus_client   widgetsnbextension\n",
      "_osx_support        ensurepip           prompt_toolkit      win2kras\n",
      "_overlapped         entrypoints         pstats              win32api\n",
      "_pickle             enum                pty                 win32clipboard\n",
      "_py_abc             errno               pvectorc            win32com\n",
      "_pydecimal          faulthandler        py_compile          win32con\n",
      "_pyio               filecmp             pyclbr              win32console\n",
      "_pyrsistent_version fileinput           pycparser           win32cred\n",
      "_queue              fnmatch             pydoc               win32crypt\n",
      "_random             formatter           pydoc_data          win32cryptcon\n",
      "_sha1               fractions           pyexpat             win32event\n",
      "_sha256             ftplib              pygments            win32evtlog\n",
      "_sha3               functools           pylab               win32evtlogutil\n",
      "_sha512             gc                  pyparsing           win32file\n",
      "_signal             genericpath         pyrsistent          win32gui\n",
      "_sitebuiltins       getopt              pythoncom           win32gui_struct\n",
      "_socket             getpass             pywin               win32help\n",
      "_sqlite3            gettext             pywin32_bootstrap   win32inet\n",
      "_sre                glob                pywin32_testutil    win32inetcon\n",
      "_ssl                gzip                pywintypes          win32job\n",
      "_stat               hashlib             qtconsole           win32lz\n",
      "_statistics         heapq               qtpy                win32net\n",
      "_string             hmac                queue               win32netcon\n",
      "_strptime           html                quopri              win32pdh\n",
      "_struct             http                random              win32pdhquery\n",
      "_symtable           idlelib             rasutil             win32pdhutil\n",
      "_testbuffer         imaplib             re                  win32pipe\n",
      "_testcapi           imghdr              regcheck            win32print\n",
      "_testconsole        imp                 regutil             win32process\n",
      "_testimportmultiple importlib           reprlib             win32profile\n",
      "_testmultiphase     inspect             rlcompleter         win32ras\n",
      "_thread             io                  rmagic              win32rcparser\n",
      "_threading_local    ipaddress           runpy               win32security\n",
      "_tkinter            ipykernel           sched               win32service\n",
      "_tracemalloc        ipykernel_launcher  scipy               win32serviceutil\n",
      "_virtualenv         ipython_genutils    secrets             win32timezone\n",
      "_warnings           ipywidgets          select              win32trace\n",
      "_weakref            isapi               selectors           win32traceutil\n",
      "_weakrefset         itertools           send2trash          win32transaction\n",
      "_win32sysloader     jedi                servicemanager      win32ts\n",
      "_winapi             jinja2              setuptools          win32ui\n",
      "_winxptheme         json                shelve              win32uiole\n",
      "_xxsubinterpreters  jsonschema          shlex               win32verstamp\n",
      "abc                 jupyter             shutil              win32wnet\n",
      "adodbapi            jupyter_client      signal              winerror\n",
      "afxres              jupyter_console     site                winioctlcon\n",
      "aifc                jupyter_core        six                 winnt\n",
      "antigravity         jupyterlab_pygments smtpd               winperf\n",
      "argon2              jupyterlab_widgets  smtplib             winpty\n",
      "argparse            keyword             sndhdr              winreg\n",
      "array               kiwisolver          socket              winsound\n",
      "ast                 lib2to3             socketserver        winxpgui\n",
      "async_generator     linecache           sqlite3             winxptheme\n",
      "asynchat            locale              sre_compile         wsgiref\n",
      "asyncio             logging             sre_constants       xdrlib\n",
      "asyncore            lzma                sre_parse           xml\n",
      "atexit              mailbox             ssl                 xmlrpc\n",
      "attr                mailcap             sspi                xxsubtype\n",
      "audioop             markupsafe          sspicon             zipapp\n",
      "autoreload          marshal             stat                zipfile\n",
      "backcall            math                statistics          zipimport\n",
      "base64              matplotlib          storemagic          zlib\n",
      "bdb                 matplotlib_inline   string              zmq\n",
      "binascii            matplotlib_venn     stringprep          \n",
      "binhex              mimetypes           struct              \n",
      "bisect              mistune             subprocess          \n",
      "\n",
      "Enter any module name to get more help.  Or, type \"modules spam\" to search\n",
      "for modules whose name or summary contain the string \"spam\".\n",
      "\n"
     ]
    }
   ],
   "source": [
    "help(\"modules\")"
   ]
  },
  {
   "cell_type": "code",
   "execution_count": 12,
   "id": "5ad9671d",
   "metadata": {},
   "outputs": [
    {
     "name": "stdout",
     "output_type": "stream",
     "text": [
      "66 ('_abc', '_ast', '_bisect', '_blake2', '_codecs', '_codecs_cn', '_codecs_hk', '_codecs_iso2022', '_codecs_jp', '_codecs_kr', '_codecs_tw', '_collections', '_contextvars', '_csv', '_datetime', '_functools', '_heapq', '_imp', '_io', '_json', '_locale', '_lsprof', '_md5', '_multibytecodec', '_opcode', '_operator', '_pickle', '_random', '_sha1', '_sha256', '_sha3', '_sha512', '_signal', '_sre', '_stat', '_statistics', '_string', '_struct', '_symtable', '_thread', '_tracemalloc', '_warnings', '_weakref', '_winapi', '_xxsubinterpreters', 'array', 'atexit', 'audioop', 'binascii', 'builtins', 'cmath', 'errno', 'faulthandler', 'gc', 'itertools', 'marshal', 'math', 'mmap', 'msvcrt', 'nt', 'parser', 'sys', 'time', 'winreg', 'xxsubtype', 'zlib')\n"
     ]
    }
   ],
   "source": [
    "import sys\n",
    "all_modules = sys.builtin_module_names\n",
    "print(len(all_modules),all_modules)"
   ]
  },
  {
   "cell_type": "code",
   "execution_count": null,
   "id": "19318622",
   "metadata": {},
   "outputs": [],
   "source": []
  },
  {
   "cell_type": "code",
   "execution_count": null,
   "id": "d499b90d",
   "metadata": {},
   "outputs": [],
   "source": []
  },
  {
   "cell_type": "code",
   "execution_count": null,
   "id": "6a3be087",
   "metadata": {},
   "outputs": [],
   "source": []
  }
 ],
 "metadata": {
  "kernelspec": {
   "display_name": "Python 3",
   "language": "python",
   "name": "python3"
  },
  "language_info": {
   "codemirror_mode": {
    "name": "ipython",
    "version": 3
   },
   "file_extension": ".py",
   "mimetype": "text/x-python",
   "name": "python",
   "nbconvert_exporter": "python",
   "pygments_lexer": "ipython3",
   "version": "3.8.2"
  }
 },
 "nbformat": 4,
 "nbformat_minor": 5
}
