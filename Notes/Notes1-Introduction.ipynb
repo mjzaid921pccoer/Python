{
 "cells": [
  {
   "cell_type": "markdown",
   "metadata": {},
   "source": [
    "# About Python \n",
    "![Img Alt\n",
    "Text](https://www.python.org/static/community_logos/python-logo.png)\n",
    "\n",
    "* interpreted nature\n",
    "\n",
    "* Python easy syntax was designed for readability\n",
    "        uses new lines to complete a command, (rather than semicolon / parenthesis)    \n",
    "        relies on indentation, using whitespace, to define scope (rather than curly-brackets)\n",
    "    \n",
    "    \n",
    "* Python can be treated in a procedural way, an object-oriented way or a functional way.\n",
    "\n",
    "* high-level data structures\n",
    "\n",
    "* ideal language for scripting and rapid application development in many areas on most platforms\n",
    "\n",
    "Important Links & References:\n",
    "\n",
    "https://docs.python.org/3/tutorial/\n",
    "\n",
    "https://docs.python.org/3/library/index.html#library-index\n",
    "\n",
    "https://docs.python.org/3/reference/index.html#reference-index\n",
    "\n",
    "* **Everything is an object in python Because DataTypes here are Classes and So Variables are the Instance of Class.**\n",
    "\n",
    "----"
   ]
  },
  {
   "cell_type": "markdown",
   "metadata": {},
   "source": [
    "# Python Basics\n",
    "\n",
    "### 1. Comments\n",
    "Single Line Comments\n",
    "`# hastag in code is single line comment`\n",
    "\n",
    "Multi Line Comment\n",
    "\n",
    "1. Prefered Method\n",
    "```code\n",
    "# line 1\n",
    "# line 2\n",
    "# line 3\n",
    "```\n",
    "or \n",
    "2. By using multiline string (interpreter will ignore this because no assignment to variable for string is made).\n",
    "```python\n",
    "\"\"\"\n",
    "This is multi line string Not assigned to any literal / variable , Hence interperter will ignore this.\n",
    "So Multi Line Comment.\n",
    "\"\"\"\n",
    "```\n",
    "\n",
    "----"
   ]
  },
  {
   "cell_type": "code",
   "execution_count": 1,
   "metadata": {},
   "outputs": [
    {
     "data": {
      "text/plain": [
       "'\\nI\\nam\\nunassigned \\nMultiLine\\nString\\nthat is MultiLine Comment\\n'"
      ]
     },
     "execution_count": 1,
     "metadata": {},
     "output_type": "execute_result"
    }
   ],
   "source": [
    "# I am Single Line Comment\n",
    "\n",
    "\n",
    "# I \n",
    "# am \n",
    "# Multi \n",
    "# Line \n",
    "# Comment\n",
    "\n",
    "\"\"\"\n",
    "I\n",
    "am\n",
    "unassigned \n",
    "MultiLine\n",
    "String\n",
    "that is MultiLine Comment\n",
    "\"\"\""
   ]
  },
  {
   "cell_type": "markdown",
   "metadata": {},
   "source": [
    "----\n",
    "# 2. Basic Input/Output (I/O) command\n"
   ]
  },
  {
   "cell_type": "markdown",
   "metadata": {},
   "source": [
    "### Output\n",
    "print() function\n",
    "\n",
    "   Syntax `print(object(s), sep=separator, end=end, file=file, flush=flush)`\n",
    "   Default values:\n",
    "   \n",
    "   `sep=''`, `end='\\n'`, `file=sys.stdout'`, `flush=False`(i.e. buffered)"
   ]
  },
  {
   "cell_type": "code",
   "execution_count": 2,
   "metadata": {},
   "outputs": [
    {
     "name": "stdout",
     "output_type": "stream",
     "text": [
      "Hello World\n"
     ]
    }
   ],
   "source": [
    "print(\"Hello World\")"
   ]
  },
  {
   "cell_type": "code",
   "execution_count": 3,
   "metadata": {},
   "outputs": [
    {
     "name": "stdout",
     "output_type": "stream",
     "text": [
      "Hello$World$to$Python-your's python interpreter"
     ]
    }
   ],
   "source": [
    "my_sep = '$'\n",
    "my_end = '-your\\'s python interpreter'\n",
    "print(\"Hello\",\"World\",\"to\",\"Python\", sep=my_sep, end=my_end)"
   ]
  },
  {
   "cell_type": "markdown",
   "metadata": {},
   "source": [
    "### Input\n",
    "input() function\n",
    "\n",
    "   Syntax `input(prompt)`\n"
   ]
  },
  {
   "cell_type": "code",
   "execution_count": 4,
   "metadata": {},
   "outputs": [
    {
     "name": "stdout",
     "output_type": "stream",
     "text": [
      "Enter Your Name :Ajay\n"
     ]
    }
   ],
   "source": [
    "my_name = input('Enter Your Name :')"
   ]
  },
  {
   "cell_type": "code",
   "execution_count": 5,
   "metadata": {},
   "outputs": [
    {
     "name": "stdout",
     "output_type": "stream",
     "text": [
      "Ajay\n",
      "<class 'str'>\n"
     ]
    }
   ],
   "source": [
    "print(my_name)\n",
    "print(type(my_name)) #check data type"
   ]
  },
  {
   "cell_type": "code",
   "execution_count": 6,
   "metadata": {},
   "outputs": [
    {
     "name": "stdout",
     "output_type": "stream",
     "text": [
      "what is your age:21\n"
     ]
    }
   ],
   "source": [
    "my_age = eval(input(\"what is your age:\"))"
   ]
  },
  {
   "cell_type": "code",
   "execution_count": 7,
   "metadata": {},
   "outputs": [
    {
     "name": "stdout",
     "output_type": "stream",
     "text": [
      "21 <class 'int'>\n"
     ]
    }
   ],
   "source": [
    "print(my_age,type(my_age))"
   ]
  },
  {
   "cell_type": "markdown",
   "metadata": {},
   "source": [
    "### Note:\n",
    "1. input() is used in python3+ while raw_input() was used in python2\n",
    "2. eval() function doesn't guarantee for fair evaluation of input accepted to be type of data.\n",
    "3. Type Casting function can be used for fair acceptance. example: int(), float(), str(), list(), tuple(), dict(), etc.\n",
    "\n",
    "----"
   ]
  }
 ],
 "metadata": {
  "kernelspec": {
   "display_name": "Python 3",
   "language": "python",
   "name": "python3"
  },
  "language_info": {
   "codemirror_mode": {
    "name": "ipython",
    "version": 3
   },
   "file_extension": ".py",
   "mimetype": "text/x-python",
   "name": "python",
   "nbconvert_exporter": "python",
   "pygments_lexer": "ipython3",
   "version": "3.8.2"
  }
 },
 "nbformat": 4,
 "nbformat_minor": 5
}
