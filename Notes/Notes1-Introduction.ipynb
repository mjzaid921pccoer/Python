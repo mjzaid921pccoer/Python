{
 "cells": [
  {
   "cell_type": "markdown",
   "id": "6ddca0d1",
   "metadata": {},
   "source": [
    "----\n",
    "----\n",
    "# Content\n",
    "1. About Python\n",
    "2. Basics\n",
    "    * Comments\n",
    "    * Input / Output \n",
    "    * Line Structure\n",
    "3. Jupyter Notebook Introduction\n",
    "    * Intro\n",
    "    * Installation\n",
    "    * Run\n",
    "    * Magic Commands\n",
    "----\n",
    "# ---------------------------------------------------------------------------------------------------------------"
   ]
  },
  {
   "cell_type": "markdown",
   "id": "2c45e752",
   "metadata": {},
   "source": [
    "\n",
    "# * About Python \n",
    "![Img Alt Text](https://www.python.org/static/community_logos/python-logo.png)\n",
    "### Creator : **[Guido Van Rossum](https://gvanrossum.github.io/)**\n",
    "### Released in : **1991**\n",
    "named 'python' after **BBC Comedy series - *Monty Python's Flying Circus*.**\n",
    "\n",
    "#### **Everything is an object in python Because DataTypes here are Classes and So Variables are the Instance of Class.**\n",
    "Python is \n",
    "* Open Source - free to use.\n",
    "* powerful **general purpose** interactive,\n",
    "* object oriented **high level**, \n",
    "* **interpreted**, \n",
    "* **portable** - runs on major platform,\n",
    "* **expandable**, \n",
    "* **embeddable** language, \n",
    "* **strongly typed**, \n",
    "* supports set of **huge library** - 3rd party library support.\n",
    "* interactive mode - testing debugging support.\n",
    "\n",
    "why people use ?\n",
    "* software quality\n",
    "* develoopers productivity\n",
    "* program portibility\n",
    "* support library\n",
    "* component integration\n",
    "* enjoyment\n",
    "\n",
    "downside ?\n",
    "\n",
    "* speed may not always be as fast as that of compiled language.\n",
    "speed being critical compiled extensions are available for number-crunching parts of an application.\n",
    "\n",
    "----\n",
    "\n",
    "* **interpreted nature**\n",
    "\n",
    "* Python **easy syntax** was designed for readability\n",
    "        uses new lines to complete a command, (rather than semicolon / parenthesis)    \n",
    "        relies on indentation, using whitespace, to define scope (rather than curly-brackets)\n",
    "    \n",
    "    \n",
    "* Python can be treated in a functional, procedural, an **object-oriented** and Event-driven model support.\n",
    "    1. Functional model - decompose a probem into set of functions\n",
    "    2. Procedural model - implementing one **statement** at a time.\n",
    "    3. OOP model - based on pillars of oop.\n",
    "    4. Event driven model - GUI elements based events (clicking button, etc) occurs & listner to handle them in asynchronous manner since no guaranteed the sequence events may encounter.\n",
    "\n",
    "* **dynamically** & **strongly typed**\n",
    "\n",
    "* high-level data structures\n",
    "\n",
    "* ideal language for **scripting** and rapid application development in many areas on most platforms\n",
    "\n",
    "* **automatic** garbage collection\n",
    "\n",
    "\n",
    "Applications :\n",
    "\n",
    "* Console Application (Programs) / (Scripting)\n",
    "* Scientific Application\n",
    "* Web Application\n",
    "* Desktop / Mobile Application\n",
    "* System Administration Application\n",
    "* Data Science\n",
    "* Games\n",
    "* Robotics Programming\n",
    "* Rapid Prototyping\n",
    "\n",
    "----\n",
    "* Data Analysis\n",
    "* Web Development\n",
    "* DevOps / System Administratiion / Automation Scripting \n",
    "* Machine Learning\n",
    "* Web Parsing , crawling & Scraping \n",
    "----\n",
    "**Pythonista**  -  someone who uses the python programming language to do his work.\n",
    "\n",
    "Indeed Job Website\n",
    "Python Job Role\n",
    "* Entry Level Software Developer\n",
    "    * writing, updating, maintaining programs\n",
    "    * testing programs\n",
    "    * debug code\n",
    "    * code documentation\n",
    "* Quality Assurance Engineer\n",
    "    * creating software test plan, test cases\n",
    "    * developing automation scripts using open source tools\n",
    "    * documenting & tracking software bug\n",
    "    * monitoring debugging process results\n",
    "* Juinor Python Developer\n",
    "    * reusable, testable, efficient python code developer\n",
    "    * know to integrate FrontEnd with BackEnd (Server Infrastructure)\n",
    "    * implementing website or application security & data protection\n",
    "    * integrating website with data storage solution\n",
    "* Python Full Stack Developer\n",
    "    * Developing FrontEnd Website Architecture\n",
    "    * Developing BackEnd Website Infrastructure\n",
    "    * Creating Server & Database\n",
    "    * Designing & Developing APIs\n",
    "    \n",
    "\n",
    "----\n",
    "\n",
    "Important Links & References:\n",
    "\n",
    "https://docs.python.org/3/tutorial/\n",
    "\n",
    "https://docs.python.org/3/library/index.html#library-index\n",
    "\n",
    "https://docs.python.org/3/reference/index.html#reference-index\n",
    "\n",
    "----"
   ]
  },
  {
   "cell_type": "markdown",
   "id": "cf1245ef",
   "metadata": {},
   "source": [
    "----\n",
    "\n",
    "Source Code - filename.py\n",
    "Byte Code - filename.pyc\n",
    "\n",
    "after running source code, byte code is run by interpreter - hence portability is achieved & we pay for slowdown since not being compiled down to machine level"
   ]
  },
  {
   "cell_type": "markdown",
   "id": "1ef76db8",
   "metadata": {},
   "source": [
    "# * Python Basics\n",
    "\n",
    "## > Comments\n",
    "Single Line Comments\n",
    "`# hastag in code is single line comment`\n",
    "\n",
    "Multi Line Comment\n",
    "\n",
    "1. Prefered Method\n",
    "```python\n",
    "# line 1\n",
    "# line 2\n",
    "# line 3\n",
    "```\n",
    "or \n",
    "2. By using multiline string (interpreter will ignore this because no assignment to variable for string is made).\n",
    "```python\n",
    "\"\"\"\n",
    "This is multi line string Not assigned to any literal / variable , Hence interperter will ignore this.\n",
    "So Multi Line Comment.\n",
    "\"\"\"\n",
    "```"
   ]
  },
  {
   "cell_type": "code",
   "execution_count": 1,
   "id": "1aaf26e4",
   "metadata": {},
   "outputs": [
    {
     "data": {
      "text/plain": [
       "'\\nI\\nam\\nunassigned \\nMultiLine\\nString\\nthat is MultiLine Comment\\n'"
      ]
     },
     "execution_count": 1,
     "metadata": {},
     "output_type": "execute_result"
    }
   ],
   "source": [
    "# I am Single Line Comment\n",
    "\n",
    "\n",
    "# I \n",
    "# am \n",
    "# Multi \n",
    "# Line \n",
    "# Comment\n",
    "\n",
    "\"\"\"\n",
    "I\n",
    "am\n",
    "unassigned \n",
    "MultiLine\n",
    "String\n",
    "that is MultiLine Comment\n",
    "\"\"\""
   ]
  },
  {
   "cell_type": "markdown",
   "id": "604f519f",
   "metadata": {},
   "source": [
    "### Note : why multiline comment is not prefered?"
   ]
  },
  {
   "cell_type": "code",
   "execution_count": 2,
   "id": "5ee5bef1",
   "metadata": {},
   "outputs": [
    {
     "data": {
      "text/plain": [
       "\"\\nmulti line comment (MLC): I am ignored by interpreter, because no assignment to variable,\\nStill what Interpreter does,\\n'Important symbol in Python - Underscore(_)'\\nit stores result of previous executed code or cell by Interpretor,\\nHence even if not assigned to any variable Default (MLC) can accessed by printing _ at any point.\\nSo never prefered by Developers.\\n\""
      ]
     },
     "execution_count": 2,
     "metadata": {},
     "output_type": "execute_result"
    }
   ],
   "source": [
    "# single line comment (SLC): I am Considered as real Comment\n",
    "\"\"\"\n",
    "multi line comment (MLC): I am ignored by interpreter, because no assignment to variable,\n",
    "Still what Interpreter does,\n",
    "'Important symbol in Python - Underscore(_)'\n",
    "it stores result of previous executed code or cell by Interpretor,\n",
    "Hence even if not assigned to any variable Default (MLC) can accessed by printing _ at any point.\n",
    "So never prefered by Developers.\n",
    "\"\"\""
   ]
  },
  {
   "cell_type": "code",
   "execution_count": 3,
   "id": "b6c8ac95",
   "metadata": {},
   "outputs": [
    {
     "name": "stdout",
     "output_type": "stream",
     "text": [
      "\n",
      "multi line comment (MLC): I am ignored by interpreter, because no assignment to variable,\n",
      "Still what Interpreter does,\n",
      "'Important symbol in Python - Underscore(_)'\n",
      "it stores result of previous executed code or cell by Interpretor,\n",
      "Hence even if not assigned to any variable Default (MLC) can accessed by printing _ at any point.\n",
      "So never prefered by Developers.\n",
      "\n"
     ]
    }
   ],
   "source": [
    "print(_)"
   ]
  },
  {
   "cell_type": "markdown",
   "id": "42840501",
   "metadata": {},
   "source": [
    "## > Basic Input/Output (I/O) command\n",
    "\n",
    "###  Output : ```print()``` function\n",
    "\n",
    "   Syntax `print(object(s), sep=separator, end=end, file=file, flush=flush)`\n",
    "   Default values:\n",
    "   \n",
    "   `sep=''`, `end='\\n'`, `file=sys.stdout'`, `flush=False`\n",
    "   (i.e. buffered)\n",
    "   \n",
    "   **returns object**"
   ]
  },
  {
   "cell_type": "code",
   "execution_count": 4,
   "id": "02487f7e",
   "metadata": {},
   "outputs": [
    {
     "name": "stdout",
     "output_type": "stream",
     "text": [
      "Hello World\n"
     ]
    }
   ],
   "source": [
    "print(\"Hello World\")"
   ]
  },
  {
   "cell_type": "code",
   "execution_count": 5,
   "id": "cec65c55",
   "metadata": {},
   "outputs": [
    {
     "name": "stdout",
     "output_type": "stream",
     "text": [
      "Hello$World$to$Python-your's python interpreter"
     ]
    }
   ],
   "source": [
    "my_sep = '$'\n",
    "my_end = '-your\\'s python interpreter'\n",
    "print(\"Hello\",\"World\",\"to\",\"Python\", sep=my_sep, end=my_end)"
   ]
  },
  {
   "cell_type": "markdown",
   "id": "b2a4f18b",
   "metadata": {},
   "source": [
    "### Input : ```input()``` function\n",
    "\n",
    "   Syntax `input(prompt)`\n",
    "   \n",
    "**returns str data by default.**\n"
   ]
  },
  {
   "cell_type": "code",
   "execution_count": 6,
   "id": "0e7cd695",
   "metadata": {},
   "outputs": [
    {
     "name": "stdout",
     "output_type": "stream",
     "text": [
      "Enter Your Name :Ajay\n"
     ]
    }
   ],
   "source": [
    "my_name = input('Enter Your Name :')"
   ]
  },
  {
   "cell_type": "code",
   "execution_count": 7,
   "id": "bfd217b7",
   "metadata": {},
   "outputs": [
    {
     "name": "stdout",
     "output_type": "stream",
     "text": [
      "Ajay\n",
      "<class 'str'>\n"
     ]
    }
   ],
   "source": [
    "print(my_name)\n",
    "print(type(my_name)) # type() function : check data type "
   ]
  },
  {
   "cell_type": "code",
   "execution_count": 8,
   "id": "4540477c",
   "metadata": {},
   "outputs": [
    {
     "name": "stdout",
     "output_type": "stream",
     "text": [
      "what is your age:22\n"
     ]
    }
   ],
   "source": [
    "# eval() function : evaluate which type of input accepted might be in which form\n",
    "my_age = eval(input(\"what is your age:\"))"
   ]
  },
  {
   "cell_type": "code",
   "execution_count": 9,
   "id": "dc2450e5",
   "metadata": {},
   "outputs": [
    {
     "name": "stdout",
     "output_type": "stream",
     "text": [
      "22 <class 'int'>\n"
     ]
    }
   ],
   "source": [
    "print(my_age,type(my_age))"
   ]
  },
  {
   "cell_type": "markdown",
   "id": "b862ce9e",
   "metadata": {},
   "source": [
    "### Note:\n",
    "1. ```input()``` is used in python3+ while ```raw_input()``` was used in python2\n",
    "2. ```eval()``` function doesn't guarantee for fair evaluation of input accepted to be type of data.\n",
    "3. Type Casting function can be used for fair acceptance. example: ```int()```, ```float()```, ```str()```, ```list()```, ```tuple()```, ```dict()```, etc.\n",
    "\n",
    "For built-in functions to see _doc-strings_\n",
    "what is _doc string_ ? \n",
    "Functions in python have this documentation of function in string can be view by many ways \n",
    "One such way in Jupyter Notebook is **Hold cursor on function name & then press `shift+Tab`** \n",
    "\n",
    "```prin|t()``` + `Shift+Tab`.\n",
    "\n",
    "\n",
    "----\n"
   ]
  },
  {
   "cell_type": "markdown",
   "id": "292db368",
   "metadata": {},
   "source": [
    "\n",
    "## >**Basic line structure in python**\n",
    "\n",
    "* we can add two or more physical line to one logical line using `\\` character. **(Prefered when character more than [72-99] range are present in physical line)**\n",
    "\n",
    "```python\n",
    ">>>message = \" I am Ajey, \" + \\\n",
    ">>>         \"just like you, learning about \" + \\\n",
    ">>>         \" line structure in python\"\n",
    ">>>print(message)\n",
    "I am Ajey, just like you, learning about  line structure in python\n",
    "```\n",
    "\n",
    "* we can add two or more logical line to one physical line using `;` character. **(Not prefered : Reability is more important than saving physical lines.)**\n",
    "\n",
    "```python\n",
    ">>>a = 5 ; b = 6 ;c = a + b\n",
    ">>>print(a) ; print(b) ; print(c)\n",
    "5\n",
    "6\n",
    "11\n",
    "```\n",
    "\n",
    "----\n",
    "\n",
    "\n",
    "\n",
    "## Indentation\n",
    "\n",
    "Tabbed code is considered Indented code\n",
    "\n",
    "All `Indented Code` is considered to belong is same `BLOCK of CODE`.\n",
    "\n",
    "Examples of this will be discussed or clearly understand in loops, conditional statement,..., functions, etc.\n",
    "\n",
    "Tab : 4 space\n",
    "\n",
    "\n",
    "----\n",
    "[Hanging indentation is a type-setting style where all the lines in a paragraph are indented except the first line. In the context of Python, the term is used to describe a style where the opening parenthesis of a parenthesized statement is the last non-whitespace character of the line, with subsequent lines being indented until the closing parenthesis.](https://www.python.org/dev/peps/pep-0008/#fn-hi)\n",
    "\n",
    "## [Reference for such topic in deep](https://www.python.org/dev/peps/pep-0008/)"
   ]
  },
  {
   "cell_type": "markdown",
   "id": "4c0cdd87",
   "metadata": {},
   "source": [
    "# * Jupyter Notebook Introduction\n",
    "The notebook extends the console-based approach to interactive computing in a qualitatively new direction, providing a web-based application suitable for capturing the whole computation process: developing, documenting, and executing code, as well as communicating the results. The Jupyter notebook combines two components:\n",
    "\n",
    "A web application: a browser-based tool for interactive authoring of documents which combine explanatory text, mathematics, computations and their rich media output.\n",
    "\n",
    "Notebook documents: a representation of all content visible in the web application, including inputs and outputs of the computations, explanatory text, mathematics, images, and rich media representations of objects.\n",
    "\n",
    "[Bryn Mawr College Computer Science Guide](https://jupyter.brynmawr.edu/services/public/dblank/Jupyter%20Notebook%20Users%20Manual.ipynb)\n",
    "\n",
    "## Installation\n",
    "```pip install jupyter```\n",
    "## Run \n",
    "* directory>```jupyter-notebook``` or   directory>```jupyter notebook```\n",
    "* Want to run only single ipynb file from jupyter\n",
    "```jupyter notebook my_notebook.ipynb```\n",
    "* Want to run jupyter on specific port number rather than default 8888\n",
    "```jupyter notebook --port 9999```\n",
    "* [Language support by Jupyter](https://github.com/jupyter/jupyter/wiki/Jupyter-kernels)\n",
    "\n",
    "Not only Language from above list can be run from jupyter, but also **jupyters magic command** helps to run many programming language which installed in machine by two basic commands.\n",
    "\n",
    "```%%writefile filename.extension``` \n",
    "\n",
    "&\n",
    "\n",
    "```\n",
    "%%shell\n",
    "[run command for specific file. ex : c++]\n",
    "g++ filename.cpp -o filename.exe\n",
    "./filename.exe\n",
    "```\n",
    "\n",
    "All this will be explored in further sessions.\n",
    "\n",
    "----"
   ]
  }
 ],
 "metadata": {
  "kernelspec": {
   "display_name": "Python 3",
   "language": "python",
   "name": "python3"
  },
  "language_info": {
   "codemirror_mode": {
    "name": "ipython",
    "version": 3
   },
   "file_extension": ".py",
   "mimetype": "text/x-python",
   "name": "python",
   "nbconvert_exporter": "python",
   "pygments_lexer": "ipython3",
   "version": "3.8.2"
  }
 },
 "nbformat": 4,
 "nbformat_minor": 5
}
