{
 "cells": [
  {
   "cell_type": "markdown",
   "metadata": {},
   "source": [
    "# Data Type : Tuple()\n",
    "\n",
    "() round bracket comma separated object are tuples\n",
    "\n",
    "similar to list but more differences creates this useful in many functionality.\n",
    "* Ordered Sequence of Items\n",
    "* Allows duplicate Items\n",
    "* Immutable - cannot be changed once assigned\n",
    "\n",
    "* Faster than List because of Immutability\n",
    "\n",
    "use tuples to present things that shouldn't be changed, \n",
    "such as **days of the week**, or **dates on a calendar**.\n",
    "\n",
    "when immutability is necessary. If in your program you are passing around an object and need to make sure it does not get changed, then a tuple becomes your solution. It provides a convenient source of data integrity.\n",
    "\n",
    "\n",
    "Faster in terms of memory space complexity than List because dynamically values of item"
   ]
  },
  {
   "cell_type": "code",
   "execution_count": 7,
   "metadata": {},
   "outputs": [],
   "source": [
    "week_days=('Mon','Tue','Wed','Thu','Fri')"
   ]
  },
  {
   "cell_type": "code",
   "execution_count": 8,
   "metadata": {},
   "outputs": [
    {
     "name": "stdout",
     "output_type": "stream",
     "text": [
      "Mon\n",
      "Tue\n",
      "Wed\n",
      "Thu\n",
      "Fri\n"
     ]
    }
   ],
   "source": [
    "for day in week_days:\n",
    "    print(day)"
   ]
  },
  {
   "cell_type": "code",
   "execution_count": 9,
   "metadata": {},
   "outputs": [
    {
     "name": "stdout",
     "output_type": "stream",
     "text": [
      "Mon\n",
      "Tue\n",
      "Wed\n",
      "Thu\n",
      "Fri\n"
     ]
    }
   ],
   "source": [
    "for i in range(len(week_days)):\n",
    "    print(week_days[i])"
   ]
  },
  {
   "cell_type": "markdown",
   "metadata": {},
   "source": [
    "## Merging Two Tuples"
   ]
  },
  {
   "cell_type": "code",
   "execution_count": 10,
   "metadata": {},
   "outputs": [
    {
     "name": "stdout",
     "output_type": "stream",
     "text": [
      "('Mon', 'Tue', 'Wed', 'Thu', 'Fri', 'Sat', 'Sun')\n"
     ]
    }
   ],
   "source": [
    "week_end = ('Sat','Sun')\n",
    "\n",
    "week = week_days + week_end\n",
    "\n",
    "print(week)"
   ]
  },
  {
   "cell_type": "markdown",
   "metadata": {},
   "source": [
    "### tuple with single object\n",
    "\n",
    "```python\n",
    ">>> name = (\"Arjun\")\n",
    ">>> isinstance(name,tuple)\n",
    "False\n",
    "\n",
    ">>> isinstance(name,str)\n",
    "True\n",
    "\n",
    "# So name example above is not a tuple\n",
    "\n",
    "# How to create a tuple with single object?\n",
    "\n",
    "#Method 1\n",
    "#type caste\n",
    ">>> name = tuple(\"Arjun\")\n",
    ">>> isinstance(name,tuple)\n",
    "True\n",
    "\n",
    "#Method 2\n",
    ">>> name = (\"Arjun\",)\n",
    ">>> isinstance(name,tuple)\n",
    "True\n",
    "\n",
    "```"
   ]
  },
  {
   "cell_type": "code",
   "execution_count": 14,
   "metadata": {},
   "outputs": [
    {
     "data": {
      "text/plain": [
       "True"
      ]
     },
     "execution_count": 14,
     "metadata": {},
     "output_type": "execute_result"
    }
   ],
   "source": [
    "isinstance((\"Arjun\",),tuple)"
   ]
  },
  {
   "cell_type": "markdown",
   "metadata": {},
   "source": [
    "## Tuple Build in methods\n",
    "1. ```tuple.index()```\n",
    "2. ```tuple.count()```"
   ]
  },
  {
   "cell_type": "markdown",
   "metadata": {},
   "source": [
    "## Two built-in **methods** that you can use on tuples\n",
    "\n",
    "\n",
    "```python\n",
    "tuple.index(Item)\n",
    "```\n",
    "\n",
    "return index of first occured Item from tuple\n",
    "\n",
    "\n",
    "```python\n",
    "tuple.count(Item)\n",
    "```\n",
    "\n",
    "returns count of Item i.e count of duplicate Items from tuple"
   ]
  },
  {
   "cell_type": "code",
   "execution_count": 17,
   "metadata": {},
   "outputs": [
    {
     "name": "stdout",
     "output_type": "stream",
     "text": [
      "0\n",
      "1\n",
      "7\n"
     ]
    }
   ],
   "source": [
    "name = (\"Arjun\", \"Bheem\",\"Arjun\",\"Nakul\",\"Raju\",\"Rajeev\",\"Arjun\",\"Yudhisthir\",\"Bheem\")\n",
    "print(name.index(\"Arjun\"))\n",
    "print(name.index(\"Bheem\"))\n",
    "print(name.index(\"Yudhisthir\"))"
   ]
  },
  {
   "cell_type": "code",
   "execution_count": 18,
   "metadata": {},
   "outputs": [
    {
     "name": "stdout",
     "output_type": "stream",
     "text": [
      "3\n",
      "2\n",
      "1\n"
     ]
    }
   ],
   "source": [
    "print(name.count(\"Arjun\"))\n",
    "print(name.count(\"Bheem\"))\n",
    "print(name.count(\"Yudhisthir\"))"
   ]
  },
  {
   "cell_type": "code",
   "execution_count": null,
   "metadata": {},
   "outputs": [],
   "source": []
  }
 ],
 "metadata": {
  "kernelspec": {
   "display_name": "Python 3",
   "language": "python",
   "name": "python3"
  },
  "language_info": {
   "codemirror_mode": {
    "name": "ipython",
    "version": 3
   },
   "file_extension": ".py",
   "mimetype": "text/x-python",
   "name": "python",
   "nbconvert_exporter": "python",
   "pygments_lexer": "ipython3",
   "version": "3.8.2"
  }
 },
 "nbformat": 4,
 "nbformat_minor": 4
}
