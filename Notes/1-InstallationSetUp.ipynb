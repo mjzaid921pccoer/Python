{
 "cells": [
  {
   "cell_type": "markdown",
   "id": "0580b75c",
   "metadata": {},
   "source": [
    "# 1. Python Configuration Set Up\n",
    "\n",
    "Go To python offical website [here](https://www.python.org/downloads/)\n",
    "\n",
    "Get installation setup as per OS\n",
    "Set Add to path / (Environment Variable path)\n",
    "\n",
    "check command\n",
    "\n",
    "`python --version`\n",
    "\n",
    "----"
   ]
  },
  {
   "cell_type": "markdown",
   "id": "82dd16e8",
   "metadata": {},
   "source": [
    "# 2. Pip Set Up (Python Package Manager)\n",
    "\n",
    "pip is already installed if you are using Python 2 >=2.7.9 or Python 3 >=3.4\n",
    "Refer https://pip.pypa.io/en/stable/installing/\n",
    "\n",
    "## Check version of pip\n",
    "`python -m pip --version` or `pip --version`\n",
    "\n",
    "### If pip is not present \n",
    "1. `python -m ensurepip --default-pip`\n",
    "\n",
    "or\n",
    "\n",
    "2. By following steps\n",
    "\n",
    "`curl https://bootstrap.pypa.io/get-pip.py -o get-pip.py`\n",
    "\n",
    "`python get-pip.py`\n",
    "\n",
    "## Verify pip\n",
    "`pip help`\n",
    "\n",
    "\n",
    "## Upgrading pip\n",
    "`python -m pip install --upgrade pip setuptools wheel`\n",
    "\n",
    "## Installing Specific version of pip\n",
    "`python -m pip install pip==18.1`\n",
    "\n",
    "## Installing Packages from text file\n",
    "`pip install -r filename.txt`\n",
    "\n",
    "## Storing List of Packages to text file\n",
    "`pip freeze > filename.txt`\n",
    "\n",
    "## Check Package list installed\n",
    "`pip list`\n",
    "\n",
    "----"
   ]
  },
  {
   "cell_type": "markdown",
   "id": "1d89bb13",
   "metadata": {},
   "source": [
    "# 3. Virtual Environment\n",
    "Can use any virtual environment from two mentioned below\n",
    "\n",
    "1. venv (Default package python3.3+)\n",
    "\n",
    "`python -m venv venv_name`\n",
    "\n",
    "2. virtualenv \n",
    "\n",
    "`python -m pip install --user virtualenv`\n",
    "\n",
    "`virtualenv venv_name`\n",
    "\n",
    "\n",
    "\n",
    "## Activating Virtual Environment\n",
    "For Windows : `venv_name\\Scripts\\activate`\n",
    "\n",
    "For Linux : `source venv_name/bin/activate`\n",
    "\n",
    "\n",
    "## Deactivating Virtual Environment\n",
    "`deactivate`\n",
    "\n",
    "----"
   ]
  },
  {
   "cell_type": "markdown",
   "id": "48ccb373",
   "metadata": {},
   "source": [
    "# 4. Installing Jupyter Package\n",
    "`python -m pip install jupyter`\n",
    "\n",
    "----"
   ]
  }
 ],
 "metadata": {
  "kernelspec": {
   "display_name": "Python 3",
   "language": "python",
   "name": "python3"
  },
  "language_info": {
   "codemirror_mode": {
    "name": "ipython",
    "version": 3
   },
   "file_extension": ".py",
   "mimetype": "text/x-python",
   "name": "python",
   "nbconvert_exporter": "python",
   "pygments_lexer": "ipython3",
   "version": "3.8.2"
  }
 },
 "nbformat": 4,
 "nbformat_minor": 5
}
