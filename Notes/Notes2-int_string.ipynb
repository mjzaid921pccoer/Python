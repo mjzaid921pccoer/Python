{
 "cells": [
  {
   "cell_type": "markdown",
   "metadata": {},
   "source": [
    "# Data Types & Variables\n",
    "\n",
    "## Built In Data Types\n",
    "\n",
    "* int, float, complex : (Numeric Type)\n",
    "* str : (String Type)\n",
    "* bool : (Boolean)\n",
    "* list, tuple, range : (sequence)\n",
    "* set, frozenset\n",
    "* bytes, bytearray, memoryview : (Binary Types)\n",
    "* None : (None Type)\n",
    "----\n",
    "## Keywords in Python\n",
    "```python\n",
    "help(\"keywords\")\n",
    "```"
   ]
  },
  {
   "cell_type": "code",
   "execution_count": 13,
   "metadata": {},
   "outputs": [
    {
     "name": "stdout",
     "output_type": "stream",
     "text": [
      "\n",
      "Here is a list of the Python keywords.  Enter any keyword to get more help.\n",
      "\n",
      "False               class               from                or\n",
      "None                continue            global              pass\n",
      "True                def                 if                  raise\n",
      "and                 del                 import              return\n",
      "as                  elif                in                  try\n",
      "assert              else                is                  while\n",
      "async               except              lambda              with\n",
      "await               finally             nonlocal            yield\n",
      "break               for                 not                 \n",
      "\n",
      "['False', 'None', 'True', 'and', 'as', 'assert', 'async', 'await', 'break', 'class', 'continue', 'def', 'del', 'elif', 'else', 'except', 'finally', 'for', 'from', 'global', 'if', 'import', 'in', 'is', 'lambda', 'nonlocal', 'not', 'or', 'pass', 'raise', 'return', 'try', 'while', 'with', 'yield'] \n",
      "Total Keywords in Python are : 35\n"
     ]
    }
   ],
   "source": [
    "help(\"keywords\")\n",
    "\n",
    "# or\n",
    "\n",
    "import keyword\n",
    "print(keyword.kwlist,\"\\nTotal Keywords in Python are :\",len(keyword.kwlist))"
   ]
  },
  {
   "cell_type": "markdown",
   "metadata": {},
   "source": [
    "----\n",
    "## Variables\n",
    "* A variable is created as soon as a value is assigned to it (initialized). No need to declare compulsory. \n",
    "* Variables can change its type as soon as data's type changed upon operations associated with variables.\n",
    "* Naming Conventions of Variables.\n",
    "    * Variable names are case-sensitive\n",
    "    * must only contain alpha-numeric characters and underscores\n",
    "    * must start with a letter or the underscore character\n",
    "    * cannot start with a number\n",
    "    * must not be keywords\n",
    "    * Different Conventions adopt for readablity\n",
    "        * PascalCase : (First Letter of Each Word should be Capital)\n",
    "        * camelCase : (First Letter of Each Word should be Capital Except 1st word)\n",
    "        * snake_case : (Each word is separated by underscore symbol)\n",
    "----\n",
    "## type() function\n",
    "    \n",
    "    type() accepts variable / data value as parameter and returns data type associated with it.\n",
    "```python\n",
    ">>>type(1)\n",
    "<class 'int'>\n",
    ">>>\n",
    ">>>type(1.0)\n",
    "<class 'float'>\n",
    ">>>\n",
    ">>>type('hi!')\n",
    "<class 'str'>\n",
    "```\n",
    "----\n",
    "## isinstance(,) function\n",
    "    isinstance() accepts 2 parameter : 1st data variable ,2nd to datatype class to check weather 1st parameter belong to same class or not, Returns True / False.\n",
    "```python\n",
    ">>>isinstance(1,int)\n",
    "True\n",
    ">>>isinstance(1,float)\n",
    "False\n",
    ">>>isinstance(1,str)\n",
    "False\n",
    ">>>\n",
    "\n",
    ">>>isinstance(1.0,int)\n",
    "False\n",
    ">>>isinstance(1.0,float)\n",
    "True\n",
    ">>>isinstance(1.0,str)\n",
    "False\n",
    "\n",
    ">>>\n",
    ">>>isinstance('hi',int)\n",
    "False\n",
    ">>>isinstance('hi',float)\n",
    "False\n",
    ">>>isinstance('hi',str)\n",
    "True\n",
    "```\n",
    "----\n",
    "## Variables & Multiple Values\n",
    "```python\n",
    "x, y, z = \"Orange\", \"Banana\", \"Cherry\"\n",
    "x = y = z = \"Orange\"\n",
    "global keyword - in scope , manipulate global value\n",
    "```\n",
    "\n",
    "## Dynamic Typing\n",
    "\n",
    "Python uses **dynamic typing**, meaning you can reassign variables to different data types. This makes Python very flexible in assigning data types; it differs from other languages that are *statically typed*.\n",
    "### Pros and Cons of Dynamic Typing\n",
    "#### Pros of Dynamic Typing\n",
    "* very easy to work with\n",
    "* faster development time\n",
    "\n",
    "#### Cons of Dynamic Typing\n",
    "* may result in unexpected bugs!\n",
    "* you need to be aware of `type()`\n",
    "\n",
    "#### summary NOTE : -\n",
    "    1. Names can not start with a number.\n",
    "    2. There can be no spaces in the name, use _ instead.\n",
    "    3. Can't use any of these symbols :'\",<>/?|\\()!@#$%^&*~-+\n",
    "    4. It's considered best practice (PEP8) that names are lowercase.\n",
    "    5. Avoid using the characters 'l' (lowercase letter el), 'O' (uppercase letter oh), \n",
    "       or 'I' (uppercase letter eye) as single character variable names.\n",
    "    6. Avoid using words that have special meaning in Python like \"list\" and \"str\"\n",
    "----"
   ]
  },
  {
   "cell_type": "markdown",
   "metadata": {},
   "source": [
    "## Numeric data type & variables\n"
   ]
  },
  {
   "cell_type": "code",
   "execution_count": 5,
   "metadata": {},
   "outputs": [
    {
     "name": "stdout",
     "output_type": "stream",
     "text": [
      "123456789 <class 'int'>\n",
      "12000 <class 'int'>\n",
      "-50 <class 'int'>\n",
      "0 <class 'int'>\n",
      "True\n"
     ]
    }
   ],
   "source": [
    "# INTEGER DATA TYPE\n",
    "number = 123456789\n",
    "num = 12_000     # _ is also used to separate digits say (12,000 as 12_000).\n",
    "neg_num = -50\n",
    "\n",
    "print(number,type(number))\n",
    "print(num,type(num))\n",
    "print(neg_num,type(neg_num))\n",
    "\n",
    "num1 = int()\n",
    "print(num1,type(num1))\n",
    "\n",
    "print(int==type(num1))"
   ]
  },
  {
   "cell_type": "code",
   "execution_count": 7,
   "metadata": {},
   "outputs": [
    {
     "name": "stdout",
     "output_type": "stream",
     "text": [
      "123456789.0 <class 'float'>\n",
      "36355.12 <class 'float'>\n",
      "-3.14 <class 'float'>\n",
      "0.0 <class 'float'>\n",
      "True\n"
     ]
    }
   ],
   "source": [
    "# FLOAT DATA TYPE\n",
    "fnumber = 123456789.0\n",
    "fnum = 36_355.12     \n",
    "fneg_num = -314e-2 # e or E represent exponent: to power 10, say (314*10^-2 = 3.14)\n",
    "\n",
    "print(fnumber,type(fnumber))\n",
    "print(fnum,type(fnum))\n",
    "print(fneg_num,type(fneg_num))\n",
    "\n",
    "fnum1 = float()\n",
    "print(fnum1,type(fnum1))\n",
    "\n",
    "print(float==type(fnum1))"
   ]
  },
  {
   "cell_type": "code",
   "execution_count": 9,
   "metadata": {},
   "outputs": [
    {
     "name": "stdout",
     "output_type": "stream",
     "text": [
      "(3+12j) <class 'complex'>\n",
      "(5+10j) <class 'complex'>\n",
      "5.0 <class 'float'>\n",
      "10.0 <class 'float'>\n",
      "True\n"
     ]
    }
   ],
   "source": [
    "# COMPLEX DATA TYPE\n",
    "\n",
    "cnumber = 3+12j\n",
    "\n",
    "print(cnumber,type(cnumber))\n",
    "\n",
    "realp=5\n",
    "imgp=10\n",
    "\n",
    "cnum1 = complex(realp,imgp)\n",
    "print(cnum1,type(cnum1))\n",
    "print(cnum1.real,type(cnum1.real))\n",
    "print(cnum1.imag,type(cnum1.imag))\n",
    "\n",
    "print(complex==type(cnum1))"
   ]
  },
  {
   "cell_type": "markdown",
   "metadata": {},
   "source": [
    "## Basic Arithmetic\n",
    "#### Addition\n",
    "```python\n",
    ">>>2+1\n",
    ">>>3\n",
    "```\n",
    "##### Subtraction\n",
    "```python\n",
    ">>>2-1\n",
    ">>>1\n",
    "```\n",
    "\n",
    "\n",
    "#### Multiplication\n",
    "```python\n",
    ">>>2*2\n",
    ">>>4\n",
    "```\n",
    "\n",
    "#### Division\n",
    "```python\n",
    ">>>3/2\n",
    ">>>1.5\n",
    "```\n",
    "\n",
    "#### Floor Division\n",
    "```python\n",
    ">>> # we are using \"floor\" division. The // operator (two forward slashes) truncates the decimal without rounding, and returns an integer result.\n",
    ">>>7//4\n",
    ">>>1\n",
    "```\n",
    "\n",
    "#### Modulo\n",
    "```python\n",
    ">>># reminder\n",
    ">>>7%4\n",
    ">>>3\n",
    "```\n",
    "#### Powers\n",
    "```python\n",
    ">>>2**3\n",
    ">>>8\n",
    ">>>\n",
    ">>>4**0.5\n",
    ">>>2.0\n",
    ">>>\n",
    ">>># Order of Operations followed in Python\n",
    ">>>2 + 10 * 10 + 3\n",
    ">>>105\n",
    ">>>\n",
    ">>># Can use parentheses to specify orders\n",
    ">>>(2+10) * (10+3)\n",
    ">>>156\n",
    "```\n",
    "\n",
    "# Reassignment operation\n",
    "There's actually a shortcut for this. Python lets you add, subtract, multiply and divide numbers with reassignment using `+=`, `-=`, `*=`, and `/=`."
   ]
  },
  {
   "cell_type": "code",
   "execution_count": 2,
   "metadata": {},
   "outputs": [
    {
     "name": "stdout",
     "output_type": "stream",
     "text": [
      "a=110, b=180, c=3000, d=100.0\n"
     ]
    }
   ],
   "source": [
    "a=100\n",
    "a+=10\n",
    "\n",
    "b=200\n",
    "b-=20\n",
    "\n",
    "c=300\n",
    "c*=10\n",
    "\n",
    "d=400\n",
    "d/=4\n",
    "\n",
    "print('a={}, b={}, c={}, d={}'.format(a,b,c,d))"
   ]
  },
  {
   "cell_type": "markdown",
   "metadata": {},
   "source": [
    "## Data Type : String \" \" or ' '  & variables\n",
    "\n",
    "* surrounded by either single quotation marks, or double quotation marks\n",
    "* **Multiline Strings**\n",
    "* surrounded by either three single quotes, or three double quotes\n",
    "* string are array bytes and can be accessed through slicing operation\n",
    "* **strings are immutable** - values cannot be changed (slicing can only access values cannot update/change : \n",
    "```python\n",
    "s='cut'\n",
    "s[0]='p' # gives error\n",
    "# cannot change as\n",
    "'put'\n",
    "``` \n",
    "hence immutable\n",
    "\n"
   ]
  },
  {
   "cell_type": "code",
   "execution_count": 24,
   "metadata": {},
   "outputs": [
    {
     "name": "stdout",
     "output_type": "stream",
     "text": [
      "Bruce Wyane \n",
      "length : 11\n",
      "\n",
      "Batman's secret identity is Bruce Wayne, a wealthy American industrialist.\n",
      "As a child, Bruce witnessed the murder of his parents, Dr. Thomas Wayne and Martha Wayne, which ultimately led him to craft the Batman persona and seek justice against criminals.\n",
      "He resides on the outskirts of Gotham City in his personal residence, Wayne Manor.\n",
      "Wayne averts suspicion by acting the part of a superficial playboy idly living off his family's fortune and the profits of Wayne Enterprises, his inherited conglomerate.\n",
      "He supports philanthropic causes through his nonprofit Wayne Foundation, but is more widely known as a celebrity socialite.\n",
      " \n",
      "length : 632\n"
     ]
    }
   ],
   "source": [
    "# Single line String\n",
    "my_name = \"Bruce Wyane\"\n",
    "\n",
    "# Multi line String\n",
    "about_me = \"\"\"\n",
    "Batman's secret identity is Bruce Wayne, a wealthy American industrialist.\n",
    "As a child, Bruce witnessed the murder of his parents, Dr. Thomas Wayne and Martha Wayne, which ultimately led him to craft the Batman persona and seek justice against criminals.\n",
    "He resides on the outskirts of Gotham City in his personal residence, Wayne Manor.\n",
    "Wayne averts suspicion by acting the part of a superficial playboy idly living off his family's fortune and the profits of Wayne Enterprises, his inherited conglomerate.\n",
    "He supports philanthropic causes through his nonprofit Wayne Foundation, but is more widely known as a celebrity socialite.\n",
    "\"\"\"\n",
    "\n",
    "# len() =  lenth of charaters present in string / iterator\n",
    "\n",
    "print(my_name,'\\nlength :',len(my_name))\n",
    "print(about_me,'\\nlength :',len(about_me))  "
   ]
  },
  {
   "cell_type": "code",
   "execution_count": 25,
   "metadata": {},
   "outputs": [
    {
     "name": "stdout",
     "output_type": "stream",
     "text": [
      "----------------------------------------------------------------------------------------------------\n",
      "B\n",
      "r\n",
      "u\n",
      "c\n",
      "e\n",
      " \n",
      "W\n",
      "y\n",
      "a\n",
      "n\n",
      "e\n",
      "----------------------------------------------------------------------------------------------------\n",
      "Batman's\n",
      "secret\n",
      "identity\n",
      "is\n",
      "Bruce\n",
      "Wayne,\n",
      "a\n",
      "wealthy\n",
      "American\n",
      "industrialist.\n",
      "As\n",
      "a\n",
      "child,\n",
      "Bruce\n",
      "witnessed\n",
      "the\n",
      "murder\n",
      "of\n",
      "his\n",
      "parents,\n",
      "Dr.\n",
      "Thomas\n",
      "Wayne\n",
      "and\n",
      "Martha\n",
      "Wayne,\n",
      "which\n",
      "ultimately\n",
      "led\n",
      "him\n",
      "to\n",
      "craft\n",
      "the\n",
      "Batman\n",
      "persona\n",
      "and\n",
      "seek\n",
      "justice\n",
      "against\n",
      "criminals.\n",
      "He\n",
      "resides\n",
      "on\n",
      "the\n",
      "outskirts\n",
      "of\n",
      "Gotham\n",
      "City\n",
      "in\n",
      "his\n",
      "personal\n",
      "residence,\n",
      "Wayne\n",
      "Manor.\n",
      "Wayne\n",
      "averts\n",
      "suspicion\n",
      "by\n",
      "acting\n",
      "the\n",
      "part\n",
      "of\n",
      "a\n",
      "superficial\n",
      "playboy\n",
      "idly\n",
      "living\n",
      "off\n",
      "his\n",
      "family's\n",
      "fortune\n",
      "and\n",
      "the\n",
      "profits\n",
      "of\n",
      "Wayne\n",
      "Enterprises,\n",
      "his\n",
      "inherited\n",
      "conglomerate.\n",
      "He\n",
      "supports\n",
      "philanthropic\n",
      "causes\n",
      "through\n",
      "his\n",
      "nonprofit\n",
      "Wayne\n",
      "Foundation,\n",
      "but\n",
      "is\n",
      "more\n",
      "widely\n",
      "known\n",
      "as\n",
      "a\n",
      "celebrity\n",
      "socialite.\n"
     ]
    }
   ],
   "source": [
    "# looping on string iterable\n",
    "print(\"-\"*100)\n",
    "\n",
    "for letters in my_name:\n",
    "    print(letters)\n",
    "\n",
    "print(\"-\"*100) # string1 * int_value returns string int times string1\n",
    "\n",
    "# split() fun accepts parameter where to split iterable & returns List of separated values as list elements\n",
    "# Split a string by blank space (this is the default)\n",
    "for word in about_me.split():\n",
    "    print(word) \n",
    "    \n",
    "# Split by a specific element (doesn't include the element that was split on)\n",
    "# Example: \n",
    "# about_me.split(\".\")\n",
    "# It splits everytime finds \".\" char in string about_me"
   ]
  },
  {
   "cell_type": "code",
   "execution_count": 59,
   "metadata": {},
   "outputs": [
    {
     "name": "stdout",
     "output_type": "stream",
     "text": [
      "First Name : Bruce\n",
      "1st 3 letters :Bru\n",
      "last 3 letters :uce\n",
      "ecurB\n",
      "ecurB\n"
     ]
    }
   ],
   "source": [
    "# Slicing Strings\n",
    "\n",
    "# accessing part of iterable by [] passing value is Slicing.\n",
    "# [start:stop:step]\n",
    "# 1st parameter remain blank means starting to \"stop-1\" index of string array.\n",
    "# 2nd parameter remain blank means \"start\" to last index of string array.\n",
    "# start = a,\n",
    "# end = b\n",
    "# means from a index to b-1 index in string array\n",
    "# step=1 means forward / step = -1 means reverse\n",
    "\n",
    "# Negative Slicing is also available\n",
    "#  0  1  2  3  4\n",
    "# -5 -4 -3 -2 -1\n",
    "# [B  r  u  c  e]\n",
    "\n",
    "my_name = \"Bruce\"\n",
    "print(\"First Name : \"+my_name[:5])\n",
    "\n",
    "print(\"1st 3 letters :\"+my_name[0:3])\n",
    "\n",
    "print(\"last 3 letters :\"+my_name[-3::1])\n",
    "# slice() function\n",
    "# slice(start,stop,end)\n",
    "\n",
    "\n",
    "#Reversing String\n",
    "reverse_slice=slice(-1,-(len(my_name)+1),-1)\n",
    "print(my_name[reverse_slice])\n",
    "# same as\n",
    "print(my_name[::-1])"
   ]
  },
  {
   "cell_type": "code",
   "execution_count": 70,
   "metadata": {},
   "outputs": [
    {
     "name": "stdout",
     "output_type": "stream",
     "text": [
      "last name : Wayne\n"
     ]
    }
   ],
   "source": [
    "# Strings are immutable\n",
    "\n",
    "# It's important to note that strings have an important property known as *immutability*. \n",
    "# This means that once a string is created, the elements within it can not be changed or replaced. For example:\n",
    "my_name = \"Bruce Wayne\"\n",
    "print(\"last name :\"+my_name[5:len(my_name)+1:1])\n",
    "\n",
    "# my_name[5:len(my_name)+1:1]=\"Baner\"\n",
    "# Error will occur as String object is immutable\n",
    "# An immutable object is an object whose state can never be modified after it is created.\n",
    "# remember \"Bruce Wayne\" is object we are talking about however `my_name` can be assigned with new object\n",
    "\n",
    "# TypeError                                 Traceback (most recent call last)\n",
    "# <ipython-input-26-976942677f11> in <module>()\n",
    "# ----> 2 my_name[5:len(my_name)+1:1]=\"Baner\"\n",
    "\n",
    "# TypeError: 'str' object does not support item assignment"
   ]
  },
  {
   "cell_type": "code",
   "execution_count": 7,
   "metadata": {},
   "outputs": [
    {
     "name": "stdout",
     "output_type": "stream",
     "text": [
      "AaBbCcDdEeFfGgHhIiJjKkLlMmNnOoPpQqRrSsTtUuVvWwXxYyZz\n",
      "Caps : ABCDEFGHIJKLMNOPQRSTUVWXYZ\n",
      "small reverse :zyxwvutsrqponmlkjihgfedcba\n"
     ]
    }
   ],
   "source": [
    "letters=\"AaBbCcDdEeFfGgHhIiJjKkLlMmNnOoPpQqRrSsTtUuVvWwXxYyZz\"\n",
    "\n",
    "# Grab everything, but go in steps size of 1\n",
    "print(letters[::1])\n",
    "\n",
    "# Grab everything, but go in step sizes of 2\n",
    "print(\"Caps : \"+letters[::2])\n",
    "\n",
    "# We can use this to print a string backwards by -2 steps\n",
    "print(\"small reverse :\"+letters[len(letters):0:-2])"
   ]
  },
  {
   "cell_type": "markdown",
   "metadata": {},
   "source": [
    "## Print Formatting\n",
    "\n",
    "We can use the ```.format()``` method to add formatted objects to printed string statements. \n",
    "\n",
    "The easiest way to show this is through an example:"
   ]
  },
  {
   "cell_type": "code",
   "execution_count": 8,
   "metadata": {},
   "outputs": [
    {
     "data": {
      "text/plain": [
       "'Hello Coder, Happy Learning Python Programming'"
      ]
     },
     "execution_count": 8,
     "metadata": {},
     "output_type": "execute_result"
    }
   ],
   "source": [
    "'Hello {}, Happy Learning {}'.format('Coder','Python Programming')"
   ]
  },
  {
   "cell_type": "markdown",
   "metadata": {},
   "source": [
    "### String functions\n",
    "* strip()\n",
    "* capitalise()\n",
    "* center()\n",
    "* count()\n",
    "* find()\n",
    "* replace()\n",
    "* split()\n",
    "* upper()\n",
    "* lower()\n",
    "* isupper()\n",
    "* islower()\n",
    "* isdigit()\n",
    "* isnumeric()\n",
    "* isaplha()\n",
    "* isalnum()\n",
    "\n",
    "\n",
    "* endswith()\n",
    "* expandtabs()\n",
    "\n",
    "* encode()\n",
    "* decode()\n"
   ]
  },
  {
   "cell_type": "code",
   "execution_count": 78,
   "metadata": {},
   "outputs": [
    {
     "name": "stdout",
     "output_type": "stream",
     "text": [
      "13\n",
      "----------------------------------------------------------------------------------------------------\n",
      "bruce banner \n",
      " 12\n",
      "----------------------------------------------------------------------------------------------------\n",
      "Bruce banner\n",
      "----------------------------------------------------------------------------------------------------\n",
      "____Bruce banner____\n",
      "----------------------------------------------------------------------------------------------------\n",
      "2\n"
     ]
    }
   ],
   "source": [
    "# strip function\n",
    "my_name = \" bruce banner\"\n",
    "print(len(my_name))\n",
    "\n",
    "print(\"-\"*100)\n",
    "\n",
    "#strip function removes 1st space from string if present\n",
    "my_name = my_name.strip()\n",
    "print(my_name,\"\\n\",len(my_name))\n",
    "\n",
    "print(\"-\"*100)\n",
    "\n",
    "#capitalize function returns string by 1st letter capital\n",
    "my_name = my_name.capitalize()\n",
    "print(my_name)\n",
    "\n",
    "print(\"-\"*100)\n",
    "\n",
    "# center function\n",
    "# str.center(width,fill)\n",
    "# width is length of str returned after operation,\n",
    "# fill is character which is used to adjust for centralizing str\n",
    "print(my_name.center(20, '_'))\n",
    "#since len(my_name) is 12 : center function returns 20 length str where my_name is centerlize adjusting 4 _ before & after.\n",
    "\n",
    "print(\"-\"*100)\n",
    "\n",
    "#count(substr,start,stop)\n",
    "# returns count occurence of certain substr in string from start to stop index\n",
    "print(my_name.count('n'))"
   ]
  },
  {
   "cell_type": "code",
   "execution_count": null,
   "metadata": {},
   "outputs": [],
   "source": []
  }
 ],
 "metadata": {
  "kernelspec": {
   "display_name": "Python 3",
   "language": "python",
   "name": "python3"
  },
  "language_info": {
   "codemirror_mode": {
    "name": "ipython",
    "version": 3
   },
   "file_extension": ".py",
   "mimetype": "text/x-python",
   "name": "python",
   "nbconvert_exporter": "python",
   "pygments_lexer": "ipython3",
   "version": "3.8.2"
  }
 },
 "nbformat": 4,
 "nbformat_minor": 5
}
