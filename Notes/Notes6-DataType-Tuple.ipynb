{
 "cells": [
  {
   "cell_type": "markdown",
   "metadata": {},
   "source": [
    "----\n",
    "----\n",
    "# Content\n",
    "Data Type Tuple\n",
    "* Basic\n",
    "    * Introduction\n",
    "    * Single Object Tuple\n",
    "    * \n",
    "* Advance\n",
    "    * \n",
    "\n",
    "----\n",
    "# ---------------------------------------------------------------------------------------------------------------"
   ]
  },
  {
   "cell_type": "markdown",
   "metadata": {},
   "source": [
    "# Data Type : Tuple ( object1 , ... ) - Basic\n",
    "# `<class 'tuple'>`\n",
    "\n",
    "() round bracket comma separated object are tuples\n",
    "\n",
    "similar to list but more differences creates this useful in many functionality.\n",
    "* **Ordered Sequence of Items**\n",
    "* **Allows duplicate Items**\n",
    "* **Immutable** - cannot be changed once assigned\n",
    "\n",
    "* **Faster** than List because of Immutability\n",
    "\n",
    "use tuples to present things that shouldn't be changed, \n",
    "such as **days of the week**, or **dates on a calendar**.\n",
    "\n",
    "when immutability is necessary. If in your program you are passing around an object and need to make sure it does not get changed, then a tuple becomes your solution. It provides a convenient source of data integrity.\n",
    "\n",
    "\n",
    "Faster in terms of memory space complexity than List because dynamically values of item in list"
   ]
  },
  {
   "cell_type": "code",
   "execution_count": 1,
   "metadata": {},
   "outputs": [],
   "source": [
    "week_days=('Mon','Tue','Wed','Thu','Fri')"
   ]
  },
  {
   "cell_type": "code",
   "execution_count": 2,
   "metadata": {},
   "outputs": [
    {
     "name": "stdout",
     "output_type": "stream",
     "text": [
      "Mon\n",
      "Tue\n",
      "Wed\n",
      "Thu\n",
      "Fri\n"
     ]
    }
   ],
   "source": [
    "for day in week_days:\n",
    "    print(day)"
   ]
  },
  {
   "cell_type": "code",
   "execution_count": 3,
   "metadata": {},
   "outputs": [
    {
     "name": "stdout",
     "output_type": "stream",
     "text": [
      "Mon\n",
      "Tue\n",
      "Wed\n",
      "Thu\n",
      "Fri\n"
     ]
    }
   ],
   "source": [
    "for i in range(len(week_days)):\n",
    "    print(week_days[i])"
   ]
  },
  {
   "cell_type": "markdown",
   "metadata": {},
   "source": [
    "**`enumerate()` function**"
   ]
  },
  {
   "cell_type": "code",
   "execution_count": 4,
   "metadata": {},
   "outputs": [
    {
     "name": "stdout",
     "output_type": "stream",
     "text": [
      "0\tMon\tMon\n",
      "1\tTue\tTue\n",
      "2\tWed\tWed\n",
      "3\tThu\tThu\n",
      "4\tFri\tFri\n"
     ]
    }
   ],
   "source": [
    "for i,day in enumerate(week_days):\n",
    "    print(i,week_days[i],day,sep='\\t')"
   ]
  },
  {
   "cell_type": "markdown",
   "metadata": {},
   "source": [
    "## Merging Two Tuples\n",
    "**`+` operator**"
   ]
  },
  {
   "cell_type": "code",
   "execution_count": 5,
   "metadata": {},
   "outputs": [
    {
     "name": "stdout",
     "output_type": "stream",
     "text": [
      "('Mon', 'Tue', 'Wed', 'Thu', 'Fri', 'Sat', 'Sun')\n"
     ]
    }
   ],
   "source": [
    "week_end = ('Sat','Sun')\n",
    "\n",
    "week = week_days + week_end\n",
    "\n",
    "print(week)"
   ]
  },
  {
   "cell_type": "markdown",
   "metadata": {},
   "source": [
    "### tuple with single object\n",
    "\n",
    "```python\n",
    ">>> name = (\"Arjun\")\n",
    ">>> isinstance(name,tuple)\n",
    "False\n",
    "\n",
    ">>> isinstance(name,str)\n",
    "True\n",
    "\n",
    "# So name example above is not a tuple\n",
    "\n",
    "# How to create a tuple with single object?\n",
    "\n",
    "#Method 1\n",
    "#type caste\n",
    ">>> name = tuple(\"Arjun\")\n",
    ">>> isinstance(name,tuple)\n",
    "True\n",
    "\n",
    "#Method 2\n",
    ">>> name = (\"Arjun\",)\n",
    ">>> isinstance(name,tuple)\n",
    "True\n",
    "\n",
    "```"
   ]
  },
  {
   "cell_type": "code",
   "execution_count": 6,
   "metadata": {},
   "outputs": [
    {
     "name": "stdout",
     "output_type": "stream",
     "text": [
      "True\n",
      "True\n"
     ]
    }
   ],
   "source": [
    "print(isinstance((\"Arjun\",),tuple))\n",
    "print(isinstance(tuple(\"Arjun\"),tuple))"
   ]
  },
  {
   "cell_type": "markdown",
   "metadata": {},
   "source": [
    "## Tuple Build in methods\n",
    "1. ```tuple.index()```\n",
    "2. ```tuple.count()```"
   ]
  },
  {
   "cell_type": "markdown",
   "metadata": {},
   "source": [
    "## Two built-in **methods** that you can use on tuples\n",
    "\n",
    "\n",
    "### * ```tuple.index(Item)``` method\n",
    "\n",
    "return index of first occured Item from tuple\n",
    "\n"
   ]
  },
  {
   "cell_type": "code",
   "execution_count": 7,
   "metadata": {},
   "outputs": [
    {
     "name": "stdout",
     "output_type": "stream",
     "text": [
      "0\n",
      "1\n",
      "7\n"
     ]
    }
   ],
   "source": [
    "name = (\"Arjun\", \"Bheem\",\"Arjun\",\"Nakul\",\"Raju\",\"Rajeev\",\"Arjun\",\"Yudhisthir\",\"Bheem\")\n",
    "print(name.index(\"Arjun\"))\n",
    "print(name.index(\"Bheem\"))\n",
    "print(name.index(\"Yudhisthir\"))"
   ]
  },
  {
   "cell_type": "markdown",
   "metadata": {},
   "source": [
    "### * ```tuple.count(Item)``` method\n",
    "\n",
    "returns count of Item i.e count of duplicate Items from tuple"
   ]
  },
  {
   "cell_type": "code",
   "execution_count": 8,
   "metadata": {},
   "outputs": [
    {
     "name": "stdout",
     "output_type": "stream",
     "text": [
      "3\n",
      "2\n",
      "1\n"
     ]
    }
   ],
   "source": [
    "print(name.count(\"Arjun\"))\n",
    "print(name.count(\"Bheem\"))\n",
    "print(name.count(\"Yudhisthir\"))"
   ]
  },
  {
   "cell_type": "code",
   "execution_count": null,
   "metadata": {},
   "outputs": [],
   "source": []
  }
 ],
 "metadata": {
  "kernelspec": {
   "display_name": "Python 3",
   "language": "python",
   "name": "python3"
  },
  "language_info": {
   "codemirror_mode": {
    "name": "ipython",
    "version": 3
   },
   "file_extension": ".py",
   "mimetype": "text/x-python",
   "name": "python",
   "nbconvert_exporter": "python",
   "pygments_lexer": "ipython3",
   "version": "3.8.2"
  }
 },
 "nbformat": 4,
 "nbformat_minor": 4
}
