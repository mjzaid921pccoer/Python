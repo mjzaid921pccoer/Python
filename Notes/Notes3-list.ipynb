{
 "cells": [
  {
   "cell_type": "markdown",
   "metadata": {},
   "source": [
    "# Data Type : List [ object1 , ... ] \n",
    "List square bracket [] object separated by commas\n",
    "* Ordered Sequence of Items\n",
    "* All Items in list do not need to be of same data type\n",
    "* Support Indexing Slicing\n",
    "* Can be Nested\n",
    "* **Mutable** - values inside list are changeable\n",
    "* Allows duplicate Items"
   ]
  },
  {
   "cell_type": "code",
   "execution_count": 64,
   "metadata": {},
   "outputs": [
    {
     "name": "stdout",
     "output_type": "stream",
     "text": [
      "Method 1\n",
      "sugar\n",
      "tea\n",
      "corn-flakes\n",
      "rice\n",
      "wheat\n",
      "\n",
      "Method 2\n",
      "sugar\n",
      "tea\n",
      "corn-flakes\n",
      "rice\n",
      "wheat\n"
     ]
    }
   ],
   "source": [
    "# can also relate like array in c++/java But it is much more than array\n",
    "grocery_list = ['sugar','tea','corn-flakes','rice','wheat']\n",
    "\n",
    "# list of strings , {list can hold different datatypes as list elements}\n",
    "\n",
    "#displaying list elements\n",
    "\n",
    "#Method 1 : using by for iterator \n",
    "print(\"Method 1\")\n",
    "for items in grocery_list:\n",
    "    print(items)\n",
    "    \n",
    "#Method 2 : using index\n",
    "print(\"\\nMethod 2\")\n",
    "for i in range(len(grocery_list)):\n",
    "    print(grocery_list[i])"
   ]
  },
  {
   "cell_type": "code",
   "execution_count": 65,
   "metadata": {},
   "outputs": [
    {
     "data": {
      "text/plain": [
       "['sugar', 'tea', 'corn-flakes', 'rice', 'wheat', 'salt']"
      ]
     },
     "execution_count": 65,
     "metadata": {},
     "output_type": "execute_result"
    }
   ],
   "source": [
    "# Concatination Two list + operator\n",
    "grocery_list+=['salt']\n",
    "grocery_list"
   ]
  },
  {
   "cell_type": "markdown",
   "metadata": {},
   "source": [
    "## List Build in methods\n",
    "\n",
    "1.  ```list.insert()```\n",
    "2.  ```list.append()```\n",
    "3.  ```list.extend()```\n",
    "4.  ```list.pop()```\n",
    "5.  ```list.remove()```\n",
    "6.  ```list.count()```\n",
    "7.  ```list.index()```\n",
    "8.  ```list.reverse()```\n",
    "9.  ```list.sort()```\n",
    "10. ```list.clear()```\n",
    "11. ```list.copy()```"
   ]
  },
  {
   "cell_type": "markdown",
   "metadata": {},
   "source": [
    "### ```list.insert(at_index, new_item)``` function\n",
    "* it adds new_item at the index passed as first argument & shift rest of the items to the list, its like inserting element at n position in a queue - link list."
   ]
  },
  {
   "cell_type": "code",
   "execution_count": 66,
   "metadata": {},
   "outputs": [
    {
     "data": {
      "text/plain": [
       "['sugar', 'tea', 'corn-flakes', 'noodles', 'rice', 'wheat', 'salt']"
      ]
     },
     "execution_count": 66,
     "metadata": {},
     "output_type": "execute_result"
    }
   ],
   "source": [
    "\n",
    "grocery_list.insert(3,'noodles')\n",
    "grocery_list"
   ]
  },
  {
   "cell_type": "markdown",
   "metadata": {},
   "source": [
    "### ```list.append()```  function\n",
    "\n",
    "list.append(new_element)\n",
    "* it adds new_element to the end of the list\n"
   ]
  },
  {
   "cell_type": "code",
   "execution_count": 67,
   "metadata": {},
   "outputs": [
    {
     "data": {
      "text/plain": [
       "['sugar', 'tea', 'corn-flakes', 'noodles', 'rice', 'wheat', 'salt', 'jam']"
      ]
     },
     "execution_count": 67,
     "metadata": {},
     "output_type": "execute_result"
    }
   ],
   "source": [
    "grocery_list.append('jam')\n",
    "grocery_list"
   ]
  },
  {
   "cell_type": "markdown",
   "metadata": {},
   "source": [
    "### ```list.extend()```  function\n",
    "\n",
    "list.extend(new_iterator)\n",
    "* merges iterator passed with list\n"
   ]
  },
  {
   "cell_type": "code",
   "execution_count": 68,
   "metadata": {},
   "outputs": [
    {
     "data": {
      "text/plain": [
       "['sugar',\n",
       " 'tea',\n",
       " 'corn-flakes',\n",
       " 'noodles',\n",
       " 'rice',\n",
       " 'wheat',\n",
       " 'salt',\n",
       " 'jam',\n",
       " 'bread',\n",
       " 'chips',\n",
       " 'detergent',\n",
       " 'shampoo',\n",
       " 'handwash',\n",
       " 'toothpaste']"
      ]
     },
     "execution_count": 68,
     "metadata": {},
     "output_type": "execute_result"
    }
   ],
   "source": [
    "more_grocery = ['bread','chips','detergent','shampoo','handwash','toothpaste']\n",
    "# grocery_list = grocery_list + more_grocery \n",
    "grocery_list.extend(more_grocery)\n",
    "grocery_list"
   ]
  },
  {
   "cell_type": "markdown",
   "metadata": {},
   "source": [
    "### ```list.pop()```  function\n",
    "\n",
    "list.pop(element_index)\n",
    "* it removes element from list index passed as argument/parameter\n",
    "* if no parameter passed to pop function then by default last element i.e at index -1 element is removed / returned from function\n",
    "\n",
    "\n",
    "IndexError: list index out of range\n",
    "\n",
    "if list do not have that index as size of list may be smaller"
   ]
  },
  {
   "cell_type": "code",
   "execution_count": 69,
   "metadata": {},
   "outputs": [
    {
     "name": "stdout",
     "output_type": "stream",
     "text": [
      "['sugar', 'tea', 'corn-flakes', 'noodles', 'rice', 'wheat', 'salt', 'jam', 'bread', 'chips', 'detergent', 'shampoo', 'handwash', 'toothpaste']\n",
      "toothpaste\n",
      "['sugar', 'tea', 'corn-flakes', 'noodles', 'rice', 'wheat', 'salt', 'jam', 'bread', 'chips', 'detergent', 'shampoo', 'handwash']\n"
     ]
    }
   ],
   "source": [
    "print(grocery_list)\n",
    "print(grocery_list.pop())\n",
    "print(grocery_list)"
   ]
  },
  {
   "cell_type": "code",
   "execution_count": 70,
   "metadata": {},
   "outputs": [
    {
     "name": "stdout",
     "output_type": "stream",
     "text": [
      "tea\n",
      "['sugar', 'corn-flakes', 'noodles', 'rice', 'wheat', 'salt', 'jam', 'bread', 'chips', 'detergent', 'shampoo', 'handwash']\n"
     ]
    }
   ],
   "source": [
    "print(grocery_list.pop(1))\n",
    "print(grocery_list)"
   ]
  },
  {
   "cell_type": "markdown",
   "metadata": {},
   "source": [
    "### ```list.remove(Item)```  function\n",
    "\n",
    "list.remove(item)\n",
    "\n",
    "* removes item from list\n"
   ]
  },
  {
   "cell_type": "code",
   "execution_count": 71,
   "metadata": {},
   "outputs": [
    {
     "name": "stdout",
     "output_type": "stream",
     "text": [
      "['sugar', 'corn-flakes', 'noodles', 'rice', 'wheat', 'salt', 'jam', 'bread', 'detergent', 'shampoo', 'handwash']\n"
     ]
    }
   ],
   "source": [
    "# \n",
    "item = 'chips'\n",
    "if item in grocery_list:\n",
    "    grocery_list.remove(item)\n",
    "print(grocery_list)"
   ]
  },
  {
   "cell_type": "markdown",
   "metadata": {},
   "source": [
    "### ```list.count(Item)``` function\n",
    "\n",
    "* returns count of Item i.e count of duplicate Items from list\n",
    "\n",
    "### ```list.index(Item)``` function\n",
    "\n",
    "* return index of first occured Item from list"
   ]
  },
  {
   "cell_type": "code",
   "execution_count": 81,
   "metadata": {},
   "outputs": [
    {
     "name": "stdout",
     "output_type": "stream",
     "text": [
      "3\n",
      "2\n",
      "1\n"
     ]
    }
   ],
   "source": [
    "name = [\"Arjun\", \"Bheem\",\"Arjun\",\"Nakul\",\"Raju\",\"Rajeev\",\"Arjun\",\"Yudhisthir\",\"Bheem\"]\n",
    "\n",
    "print(name.count(\"Arjun\"))\n",
    "print(name.count(\"Bheem\"))\n",
    "print(name.count(\"Yudhisthir\"))"
   ]
  },
  {
   "cell_type": "code",
   "execution_count": 82,
   "metadata": {},
   "outputs": [
    {
     "name": "stdout",
     "output_type": "stream",
     "text": [
      "0\n",
      "1\n",
      "7\n"
     ]
    }
   ],
   "source": [
    "print(name.index(\"Arjun\"))\n",
    "print(name.index(\"Bheem\"))\n",
    "print(name.index(\"Yudhisthir\"))"
   ]
  },
  {
   "cell_type": "markdown",
   "metadata": {},
   "source": [
    "### ```list.reverse()``` function\n",
    "\n",
    "it updates list in reverse order\n",
    "\n",
    "### ```list.sort()``` function\n",
    "reverse = True | False,\n",
    "it updates list in sorted order"
   ]
  },
  {
   "cell_type": "code",
   "execution_count": 72,
   "metadata": {},
   "outputs": [
    {
     "name": "stdout",
     "output_type": "stream",
     "text": [
      "['a', 'b', 'c', 'd', 'e', 'f', 'g', 'h', 'i', 'j', 'k', 'l', 'm', 'n', 'o', 'p', 'q', 'r', 's', 't', 'u', 'v', 'w', 'x', 'y', 'z']\n",
      "['z', 'y', 'x', 'w', 'v', 'u', 't', 's', 'r', 'q', 'p', 'o', 'n', 'm', 'l', 'k', 'j', 'i', 'h', 'g', 'f', 'e', 'd', 'c', 'b', 'a']\n",
      "['a', 'b', 'c', 'd', 'e', 'f', 'g', 'h', 'i', 'j', 'k', 'l', 'm', 'n', 'o', 'p', 'q', 'r', 's', 't', 'u', 'v', 'w', 'x', 'y', 'z']\n"
     ]
    }
   ],
   "source": [
    "# reversed grocery list\n",
    "alphabets = ['a','b','c','d','e','f','g','h','i','j','k','l','m','n','o','p','q','r','s','t','u','v','w','x','y','z']\n",
    "print(alphabets)\n",
    "\n",
    "\n",
    "alphabets.reverse()\n",
    "print(alphabets)\n",
    "\n",
    "alphabets.sort()\n",
    "print(alphabets)"
   ]
  },
  {
   "cell_type": "code",
   "execution_count": 73,
   "metadata": {},
   "outputs": [
    {
     "name": "stdout",
     "output_type": "stream",
     "text": [
      "['sugar', 'corn-flakes', 'noodles', 'rice', 'wheat', 'salt', 'jam', 'bread', 'detergent', 'shampoo', 'handwash']\n",
      "['bread', 'corn-flakes', 'detergent', 'handwash', 'jam', 'noodles', 'rice', 'salt', 'shampoo', 'sugar', 'wheat']\n"
     ]
    }
   ],
   "source": [
    "print(grocery_list)\n",
    "grocery_list.sort()\n",
    "print(grocery_list)"
   ]
  },
  {
   "cell_type": "code",
   "execution_count": 74,
   "metadata": {},
   "outputs": [
    {
     "name": "stdout",
     "output_type": "stream",
     "text": [
      "['wheat', 'sugar', 'shampoo', 'salt', 'rice', 'noodles', 'jam', 'handwash', 'detergent', 'corn-flakes', 'bread']\n",
      "['milk powder', 'bread', 'corn-flakes', 'detergent', 'handwash', 'jam', 'noodles', 'rice', 'salt', 'shampoo', 'sugar', 'wheat']\n",
      "['wheat', 'sugar', 'shampoo', 'salt', 'rice', 'noodles', 'milk powder', 'jam', 'handwash', 'detergent', 'corn-flakes', 'bread']\n"
     ]
    }
   ],
   "source": [
    "grocery_list.sort(reverse = True)\n",
    "print(grocery_list)\n",
    "\n",
    "grocery_list.append('milk powder')\n",
    "\n",
    "grocery_list.reverse()\n",
    "print(grocery_list)\n",
    "\n",
    "grocery_list.sort(reverse = True)\n",
    "print(grocery_list)"
   ]
  },
  {
   "cell_type": "code",
   "execution_count": 51,
   "metadata": {},
   "outputs": [
    {
     "name": "stdout",
     "output_type": "stream",
     "text": [
      "[502, 784, 101, 100, 82, 65, 50, 965, 23]\n"
     ]
    }
   ],
   "source": [
    "# Customised Sort fun by key = fun\n",
    "\n",
    "def close_to_500(n):    \n",
    "  return abs(n - 500)\n",
    "\n",
    "numbers = [101, 502, 100, 965, 50, 65, 784, 82, 23]\n",
    "numbers.sort(key = close_to_500)\n",
    "print(numbers)"
   ]
  },
  {
   "cell_type": "markdown",
   "metadata": {},
   "source": [
    "### ```list.clear()``` function\n",
    "* it clears content of list removing all content."
   ]
  },
  {
   "cell_type": "code",
   "execution_count": 34,
   "metadata": {},
   "outputs": [
    {
     "name": "stdout",
     "output_type": "stream",
     "text": [
      "['bread', 'corn-flakes', 'detergent', 'handwash', 'jam', 'noodles', 'rice', 'salt', 'shampoo', 'sugar', 'wheat']\n",
      "[]\n"
     ]
    }
   ],
   "source": [
    "print(grocery_list)\n",
    "grocery_list.clear()\n",
    "print(grocery_list)"
   ]
  },
  {
   "cell_type": "markdown",
   "metadata": {},
   "source": [
    "## Nested List\n",
    "\n",
    "list inside list"
   ]
  },
  {
   "cell_type": "code",
   "execution_count": 52,
   "metadata": {},
   "outputs": [
    {
     "data": {
      "text/plain": [
       "[['Engineering Mathematics 1',\n",
       "  'Engineering Chemistry',\n",
       "  'Engineering Graphics 1',\n",
       "  'Basic Electronics Engineering',\n",
       "  'Basic Civil and Environmental Engineering',\n",
       "  'Fundamentals of Programming Languages 1'],\n",
       " ['Engineering Mathematics 2',\n",
       "  'Engineering Physics',\n",
       "  'Basic Mechanical Engineering',\n",
       "  'Engineering Mechanics',\n",
       "  'Basic Electrical Engineering',\n",
       "  'Fundamentals of Programming Languages 2',\n",
       "  'Engineering Graphics 2'],\n",
       " ['Discrete Mathematics',\n",
       "  'Digital Electronics and Logic Design',\n",
       "  'Data Structures and Algorithms',\n",
       "  'Computer Organization and Architecture',\n",
       "  'Object Oriented Programming'],\n",
       " ['Engineering Mathematics 3',\n",
       "  'Computer Graphics',\n",
       "  'Advanced Data Structures',\n",
       "  'Microprocessor',\n",
       "  'Principles of Programming Languages'],\n",
       " ['Theory of Computation',\n",
       "  'Database Management Systems',\n",
       "  'Software Engineering and Project Management',\n",
       "  'Information Systems and Engineering Economics',\n",
       "  'Computer Networks',\n",
       "  'Skill Development Lab'],\n",
       " ['Design and Analysis of Algorithms',\n",
       "  'Systems Programming and Operating System',\n",
       "  'Embedded Systems and Internet of Things',\n",
       "  'Software Modeling and Design',\n",
       "  'Web Technology',\n",
       "  'Seminar and Technical Communication'],\n",
       " ['High Performance Computing',\n",
       "  'Artificial Intelligence and Robotics',\n",
       "  'Data Analytics',\n",
       "  'Elective 1 - Data Mining and Warehousing',\n",
       "  'Elective 2 - Software Testing and Quality Assurance',\n",
       "  'Project Work Stage 1'],\n",
       " ['Machine Learning',\n",
       "  'Information and Cyber Security',\n",
       "  'Elective 3 - Compilers',\n",
       "  'Elective 4 - Business Intelligence',\n",
       "  'Project WorkStage 2']]"
      ]
     },
     "execution_count": 52,
     "metadata": {},
     "output_type": "execute_result"
    }
   ],
   "source": [
    "sem1 = ['Engineering Mathematics 1','Engineering Chemistry',\n",
    "        'Engineering Graphics 1','Basic Electronics Engineering',\n",
    "        'Basic Civil and Environmental Engineering','Fundamentals of Programming Languages 1'\n",
    "       ]\n",
    "\n",
    "sem2 = ['Engineering Mathematics 2','Engineering Physics',\n",
    "        'Basic Mechanical Engineering','Engineering Mechanics',\n",
    "        'Basic Electrical Engineering','Fundamentals of Programming Languages 2',\n",
    "        'Engineering Graphics 2'\n",
    "       ]\n",
    "\n",
    "sem3 = ['Discrete Mathematics','Digital Electronics and Logic Design',\n",
    "        'Data Structures and Algorithms','Computer Organization and Architecture',\n",
    "        'Object Oriented Programming'\n",
    "       ]\n",
    "\n",
    "sem4 = ['Engineering Mathematics 3','Computer Graphics',\n",
    "        'Advanced Data Structures','Microprocessor',\n",
    "        'Principles of Programming Languages'\n",
    "       ]\n",
    "\n",
    "sem5 = ['Theory of Computation','Database Management Systems',\n",
    "        'Software Engineering and Project Management','Information Systems and Engineering Economics',\n",
    "        'Computer Networks','Skill Development Lab'\n",
    "       ]\n",
    "\n",
    "sem6 = ['Design and Analysis of Algorithms','Systems Programming and Operating System',\n",
    "        'Embedded Systems and Internet of Things','Software Modeling and Design',\n",
    "        'Web Technology','Seminar and Technical Communication'\n",
    "       ]\n",
    "\n",
    "sem7 = ['High Performance Computing','Artificial Intelligence and Robotics',\n",
    "        'Data Analytics','Elective 1 - Data Mining and Warehousing',\n",
    "        'Elective 2 - Software Testing and Quality Assurance','Project Work Stage 1'\n",
    "       ]\n",
    "\n",
    "sem8 = ['Machine Learning','Information and Cyber Security',\n",
    "        'Elective 3 - Compilers','Elective 4 - Business Intelligence',\n",
    "        'Project WorkStage 2'\n",
    "       ] \n",
    "\n",
    "sppu_be_comp_subjects = [ sem1, sem2, \n",
    "                         sem3, sem4, \n",
    "                         sem5, sem6, \n",
    "                         sem7, sem8\n",
    "                        ]\n",
    "sppu_be_comp_subjects"
   ]
  },
  {
   "cell_type": "code",
   "execution_count": 53,
   "metadata": {},
   "outputs": [
    {
     "name": "stdout",
     "output_type": "stream",
     "text": [
      "['Engineering Mathematics 1', 'Engineering Chemistry', 'Engineering Graphics 1', 'Basic Electronics Engineering', 'Basic Civil and Environmental Engineering', 'Fundamentals of Programming Languages 1']\n",
      "['Engineering Mathematics 2', 'Engineering Physics', 'Basic Mechanical Engineering', 'Engineering Mechanics', 'Basic Electrical Engineering', 'Fundamentals of Programming Languages 2', 'Engineering Graphics 2']\n",
      "['Discrete Mathematics', 'Digital Electronics and Logic Design', 'Data Structures and Algorithms', 'Computer Organization and Architecture', 'Object Oriented Programming']\n",
      "['Engineering Mathematics 3', 'Computer Graphics', 'Advanced Data Structures', 'Microprocessor', 'Principles of Programming Languages']\n",
      "['Theory of Computation', 'Database Management Systems', 'Software Engineering and Project Management', 'Information Systems and Engineering Economics', 'Computer Networks', 'Skill Development Lab']\n",
      "['Design and Analysis of Algorithms', 'Systems Programming and Operating System', 'Embedded Systems and Internet of Things', 'Software Modeling and Design', 'Web Technology', 'Seminar and Technical Communication']\n",
      "['High Performance Computing', 'Artificial Intelligence and Robotics', 'Data Analytics', 'Elective 1 - Data Mining and Warehousing', 'Elective 2 - Software Testing and Quality Assurance', 'Project Work Stage 1']\n",
      "['Machine Learning', 'Information and Cyber Security', 'Elective 3 - Compilers', 'Elective 4 - Business Intelligence', 'Project WorkStage 2']\n"
     ]
    }
   ],
   "source": [
    "for semister in sppu_be_comp_subjects:\n",
    "    print(semister)"
   ]
  },
  {
   "cell_type": "code",
   "execution_count": 58,
   "metadata": {},
   "outputs": [
    {
     "name": "stdout",
     "output_type": "stream",
     "text": [
      "Engineering Mathematics 1\n",
      "Engineering Chemistry\n",
      "Engineering Graphics 1\n",
      "Basic Electronics Engineering\n",
      "Basic Civil and Environmental Engineering\n",
      "Fundamentals of Programming Languages 1\n",
      "Engineering Mathematics 2\n",
      "Engineering Physics\n",
      "Basic Mechanical Engineering\n",
      "Engineering Mechanics\n",
      "Basic Electrical Engineering\n",
      "Fundamentals of Programming Languages 2\n",
      "Engineering Graphics 2\n",
      "Discrete Mathematics\n",
      "Digital Electronics and Logic Design\n",
      "Data Structures and Algorithms\n",
      "Computer Organization and Architecture\n",
      "Object Oriented Programming\n",
      "Engineering Mathematics 3\n",
      "Computer Graphics\n",
      "Advanced Data Structures\n",
      "Microprocessor\n",
      "Principles of Programming Languages\n",
      "Theory of Computation\n",
      "Database Management Systems\n",
      "Software Engineering and Project Management\n",
      "Information Systems and Engineering Economics\n",
      "Computer Networks\n",
      "Skill Development Lab\n",
      "Design and Analysis of Algorithms\n",
      "Systems Programming and Operating System\n",
      "Embedded Systems and Internet of Things\n",
      "Software Modeling and Design\n",
      "Web Technology\n",
      "Seminar and Technical Communication\n",
      "High Performance Computing\n",
      "Artificial Intelligence and Robotics\n",
      "Data Analytics\n",
      "Elective 1 - Data Mining and Warehousing\n",
      "Elective 2 - Software Testing and Quality Assurance\n",
      "Project Work Stage 1\n",
      "Machine Learning\n",
      "Information and Cyber Security\n",
      "Elective 3 - Compilers\n",
      "Elective 4 - Business Intelligence\n",
      "Project WorkStage 2\n"
     ]
    }
   ],
   "source": [
    "all_subject = []\n",
    "\n",
    "for semister in sppu_be_comp_subjects:\n",
    "    for subjects in semister:\n",
    "        print(subjects)\n",
    "        all_subject.append(subjects)"
   ]
  },
  {
   "cell_type": "code",
   "execution_count": 61,
   "metadata": {},
   "outputs": [
    {
     "name": "stdout",
     "output_type": "stream",
     "text": [
      "Advanced Data Structures\n",
      "Artificial Intelligence and Robotics\n",
      "Basic Civil and Environmental Engineering\n",
      "Basic Electrical Engineering\n",
      "Basic Electronics Engineering\n",
      "Basic Mechanical Engineering\n",
      "Computer Graphics\n",
      "Computer Networks\n",
      "Computer Organization and Architecture\n",
      "Data Analytics\n",
      "Data Structures and Algorithms\n",
      "Database Management Systems\n",
      "Design and Analysis of Algorithms\n",
      "Digital Electronics and Logic Design\n",
      "Discrete Mathematics\n",
      "Elective 1 - Data Mining and Warehousing\n",
      "Elective 2 - Software Testing and Quality Assurance\n",
      "Elective 3 - Compilers\n",
      "Elective 4 - Business Intelligence\n",
      "Embedded Systems and Internet of Things\n",
      "Engineering Chemistry\n",
      "Engineering Graphics 1\n",
      "Engineering Graphics 2\n",
      "Engineering Mathematics 1\n",
      "Engineering Mathematics 2\n",
      "Engineering Mathematics 3\n",
      "Engineering Mechanics\n",
      "Engineering Physics\n",
      "Fundamentals of Programming Languages 1\n",
      "Fundamentals of Programming Languages 2\n",
      "High Performance Computing\n",
      "Information and Cyber Security\n",
      "Information Systems and Engineering Economics\n",
      "Machine Learning\n",
      "Microprocessor\n",
      "Object Oriented Programming\n",
      "Principles of Programming Languages\n",
      "Project Work Stage 1\n",
      "Project WorkStage 2\n",
      "Seminar and Technical Communication\n",
      "Skill Development Lab\n",
      "Software Engineering and Project Management\n",
      "Software Modeling and Design\n",
      "Systems Programming and Operating System\n",
      "Theory of Computation\n",
      "Web Technology\n"
     ]
    }
   ],
   "source": [
    "all_subject.sort(key=str.lower)\n",
    "for sub in all_subject:\n",
    "    print(sub)"
   ]
  },
  {
   "cell_type": "code",
   "execution_count": 38,
   "metadata": {},
   "outputs": [
    {
     "name": "stdout",
     "output_type": "stream",
     "text": [
      "1\n",
      "2\n",
      "3\n",
      "4\n",
      "5\n",
      "6\n",
      "7\n",
      "8\n",
      "9\n"
     ]
    }
   ],
   "source": [
    "# Let's make three lists\n",
    "lst_1=[1,2,3]\n",
    "lst_2=[4,5,6]\n",
    "lst_3=[7,8,9]\n",
    "\n",
    "# Make a list of lists to form a matrix\n",
    "matrix = [lst_1,lst_2,lst_3]\n",
    "\n",
    "for i in range(len(matrix)):\n",
    "    for j in range(len(matrix[i])):\n",
    "        print(matrix[i][j])"
   ]
  },
  {
   "cell_type": "code",
   "execution_count": 25,
   "metadata": {},
   "outputs": [
    {
     "name": "stdout",
     "output_type": "stream",
     "text": [
      "1\n",
      "2\n",
      "3\n",
      "4\n",
      "5\n",
      "6\n",
      "7\n",
      "8\n",
      "9\n"
     ]
    }
   ],
   "source": [
    "for rows in matrix:\n",
    "    for val in rows:\n",
    "        print(val)"
   ]
  },
  {
   "cell_type": "markdown",
   "metadata": {},
   "source": [
    "### ```list.copy()``` function\n",
    "\n",
    "* this functions copy entire object values to new object\n",
    "if we use ```list2 = list1``` then list2 is just pointing to same object list1 as any modification seen in list1 will reflect to list2. list2 refers same memory object of list1\n",
    "\n",
    "hence ```copy()``` function is needed to clone object \n",
    "\n",
    "### ```list()``` also helps to copy object to other variable  "
   ]
  },
  {
   "cell_type": "code",
   "execution_count": 80,
   "metadata": {},
   "outputs": [
    {
     "name": "stdout",
     "output_type": "stream",
     "text": [
      "# ---------------( assignment operator : doesn't work )---------------------------------------------------------\n",
      "daily_todo_list ['Coding', 'Project', 'Exercise']\n",
      "today_todo_list ['Coding', 'Project', 'Exercise']\n",
      "# ---------------( list.copy() method )---------------------------------------------------------------------------\n",
      "daily_todo_list ['Coding', 'Assignments', 'Project', 'Exercise']\n",
      "today_todo_list ['Coding', 'Project', 'Exercise']\n",
      "# ---------------( list() - constructor )-------------------------------------------\n",
      "daily_todo_list ['Coding', 'Assignments', 'Project', 'Exercise']\n",
      "today_todo_list ['Coding', 'Project', 'Exercise']\n"
     ]
    }
   ],
   "source": [
    "print(\"# ---------------( assignment operator : doesn't work )---------------------------------------------------------\")\n",
    "daily_todo_list = [ \"Coding\", \"Assignments\", \"Project\", \"Exercise\"]\n",
    "\n",
    "today_todo_list = daily_todo_list\n",
    "\n",
    "today_todo_list.remove(\"Assignments\")\n",
    "\n",
    "print(\"daily_todo_list\",daily_todo_list)\n",
    "print(\"today_todo_list\",today_todo_list)\n",
    "\n",
    "print(\"# ---------------( list.copy() method )---------------------------------------------------------------------------\")\n",
    "\n",
    "daily_todo_list = [ \"Coding\", \"Assignments\", \"Project\", \"Exercise\"]\n",
    "\n",
    "today_todo_list = daily_todo_list.copy()\n",
    "\n",
    "today_todo_list.remove(\"Assignments\")\n",
    "\n",
    "print(\"daily_todo_list\",daily_todo_list)\n",
    "print(\"today_todo_list\",today_todo_list)\n",
    "\n",
    "print(\"# ---------------( list() - constructor )-------------------------------------------\")\n",
    "\n",
    "daily_todo_list = [ \"Coding\", \"Assignments\", \"Project\", \"Exercise\"]\n",
    "\n",
    "today_todo_list = list(daily_todo_list)\n",
    "\n",
    "today_todo_list.remove(\"Assignments\")\n",
    "\n",
    "print(\"daily_todo_list\",daily_todo_list)\n",
    "print(\"today_todo_list\",today_todo_list)\n"
   ]
  },
  {
   "cell_type": "markdown",
   "metadata": {},
   "source": [
    "## List Comprehension\n",
    "\n",
    "It is faster than for loops but this advantage is noticeable only if loop iterates only very simple expressions.\n",
    "\n",
    "### only for \n",
    "```[ f(x) for x in sequence ]```\n",
    "\n",
    "### if only condition for list comprehension\n",
    "```[ f(x) for x in sequence if condition ]```\n",
    "\n",
    "### if else condition for list comprehension\n",
    "```[ f(x) if condition else g(x) for x in sequence ]```\n",
    "\n",
    "**Note:-**\n",
    "\n",
    "when iterations are performed over even moderately computationally expensive functions, it does not make much sense to worry about what to use list comprehension or for-loop – the run time would be almost the same"
   ]
  },
  {
   "cell_type": "code",
   "execution_count": 38,
   "metadata": {},
   "outputs": [
    {
     "name": "stdout",
     "output_type": "stream",
     "text": [
      "numbers [0, 1, 2, 3, 4, 5, 6, 7, 8, 9]\n",
      "even [0, 2, 4, 6, 8]\n",
      "odd [1, 3, 5, 7, 9]\n",
      "task 1 [0, 2, 10, 6, 20, 10, 30, 14, 40, 18]\n"
     ]
    }
   ],
   "source": [
    "# generating list iterator in single line \n",
    "n=10\n",
    "numbers = [i for i in range(n)]\n",
    "print(\"numbers\",numbers)\n",
    "\n",
    "even = [i for i in range(n) if i%2==0]\n",
    "print(\"even\",even)\n",
    "\n",
    "odd = [i for i in range(n) if i%2!=0]\n",
    "print(\"odd\",odd)\n",
    "\n",
    "# if even multiply by 5 , if odd multiply by 2\n",
    "print(\"task 1\",[i*5 if i%2==0 else i*2 for i in range(n)])"
   ]
  },
  {
   "cell_type": "markdown",
   "metadata": {},
   "source": [
    "### if else if else condition for list comprehension\n",
    "```[ expression1 if condition1 else expression2 if condition2 else expression3 if condition3 else ElseExp for i in sequence ]```"
   ]
  },
  {
   "cell_type": "code",
   "execution_count": 41,
   "metadata": {},
   "outputs": [
    {
     "name": "stdout",
     "output_type": "stream",
     "text": [
      "task 2 [0, 1, 10, 9, 20, 50, 30, 7, 40, 81]\n"
     ]
    }
   ],
   "source": [
    "#task 2\n",
    "# all even number -> even * 5\n",
    "# all odd 3's multiple squared\n",
    "# all odd 5's multiple -> number * 10\n",
    "# rest as it is\n",
    "\n",
    "\n",
    "#Even\n",
    "condition1 = lambda x : x%2==0\n",
    "def expression1(x):\n",
    "   return x*5 \n",
    "\n",
    "#3 multiples\n",
    "condition2 = lambda x : x%3==0\n",
    "def expression2(x):\n",
    "   return x*x \n",
    "\n",
    "#5 multiple\n",
    "condition3 = lambda x : x%5==0\n",
    "def expression3(x):\n",
    "   return x*10 \n",
    "\n",
    "print(\"task 2\",[expression1(i) if condition1(i) else expression2(i) if condition2(i) else expression3(i) if condition3(i) else i for i in range(n)])\n",
    "modified_numbers = [0 if number % 2 == 0 else 1 if number % 3 == 0 else number for number in numbers]"
   ]
  },
  {
   "cell_type": "code",
   "execution_count": null,
   "metadata": {},
   "outputs": [],
   "source": []
  }
 ],
 "metadata": {
  "kernelspec": {
   "display_name": "Python 3",
   "language": "python",
   "name": "python3"
  },
  "language_info": {
   "codemirror_mode": {
    "name": "ipython",
    "version": 3
   },
   "file_extension": ".py",
   "mimetype": "text/x-python",
   "name": "python",
   "nbconvert_exporter": "python",
   "pygments_lexer": "ipython3",
   "version": "3.8.2"
  }
 },
 "nbformat": 4,
 "nbformat_minor": 4
}
