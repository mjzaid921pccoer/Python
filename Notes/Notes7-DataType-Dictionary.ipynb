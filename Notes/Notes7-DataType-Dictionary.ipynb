{
 "cells": [
  {
   "cell_type": "markdown",
   "metadata": {},
   "source": [
    "----\n",
    "----\n",
    "# Content\n",
    "Data Type Dictionary\n",
    "* Basic\n",
    "    * Introduction\n",
    "    * Add, Update, Nesting\n",
    "    * Built-in methods\n",
    "\n",
    "----\n",
    "# ---------------------------------------------------------------------------------------------------------------"
   ]
  },
  {
   "cell_type": "markdown",
   "metadata": {},
   "source": [
    "# Data Type : Dictionaries { 'key' : 'value', ... } - Basic\n",
    "# `<class 'dict'>`\n",
    "* Dictionary {'key':'value'} separated by commas\n",
    "* **ordered mapping key-value pair**\n",
    "* dictionaries **can hold any object**\n",
    "* they contain keys mapped to values\n",
    "* **do not Allows duplicate object** since mapped with one to one key with value\n",
    "* object i.e **value rettrieved by keyname**\n",
    "* **Mutable**\n",
    "\n",
    "*mappings* in Python\n",
    "\n",
    "what are mappings? Mappings are a collection of objects that are stored by a *key*, unlike a sequence that stored objects by their relative position. This is an important distinction, since mappings won't retain order since they have objects defined by a key.\n",
    "\n",
    "A Python dictionary consists of a key and then an associated value. That value can be almost any Python object.\n",
    "\n",
    "### Declaration "
   ]
  },
  {
   "cell_type": "code",
   "execution_count": 1,
   "metadata": {},
   "outputs": [
    {
     "name": "stdout",
     "output_type": "stream",
     "text": [
      "<class 'dict'> \n",
      " <class 'dict'>\n"
     ]
    }
   ],
   "source": [
    "# Declaration / Initialization of Dictionary variables\n",
    "my_dict1 = {}\n",
    "my_dict = dict()\n",
    "print(type(my_dict1),\"\\n\",type(my_dict))\n",
    "\n",
    "# empty dictionary"
   ]
  },
  {
   "cell_type": "markdown",
   "metadata": {},
   "source": [
    "### Defining, Adding keys \n"
   ]
  },
  {
   "cell_type": "code",
   "execution_count": 2,
   "metadata": {},
   "outputs": [
    {
     "name": "stdout",
     "output_type": "stream",
     "text": [
      "# definig dictionary with key values\n",
      "{'National Emergency Number': 112, 'Police': 100, 'Fire': 101, 'Ambulance': 102}\n",
      "# adding more keys value to existing dictionary\n",
      "{'National Emergency Number': 112, 'Police': 100, 'Fire': 101, 'Ambulance': 102, 'Disaster Management Services': 108, 'Women Helpline': 1091}\n"
     ]
    }
   ],
   "source": [
    "print('# definig dictionary with key values')\n",
    "emergency_contact = { 'National Emergency Number':112, 'Police':100, 'Fire':101, 'Ambulance':102 }\n",
    "print(emergency_contact)\n",
    "\n",
    "print('# adding more keys value to existing dictionary')\n",
    "\n",
    "emergency_contact['Disaster Management Services']=108\n",
    "emergency_contact['Women Helpline']=1091\n",
    "print(emergency_contact)"
   ]
  },
  {
   "cell_type": "markdown",
   "metadata": {},
   "source": [
    "### Updating "
   ]
  },
  {
   "cell_type": "code",
   "execution_count": 3,
   "metadata": {},
   "outputs": [
    {
     "name": "stdout",
     "output_type": "stream",
     "text": [
      "# Updating dictionary value\n",
      "{'mom': 9517384620, 'dad': 9153726480, 'friend1': 8426915723}\n"
     ]
    }
   ],
   "source": [
    "contact = { 'mom' : 95173_84620, 'dad' : 91537_26480, 'friend1' : 84269_517320}\n",
    "# recall '_' used for understanding digits separation but whole number is interpreted as integer only by python.\n",
    "print('# Updating dictionary value')\n",
    "contact['friend1'] = 84269_15723\n",
    "print(contact)"
   ]
  },
  {
   "cell_type": "markdown",
   "metadata": {},
   "source": [
    "## Nested Dictionary"
   ]
  },
  {
   "cell_type": "code",
   "execution_count": 4,
   "metadata": {},
   "outputs": [
    {
     "name": "stdout",
     "output_type": "stream",
     "text": [
      "# Adding nested dictionary to existing dictionary\n",
      "{'mom': 9517384620, 'dad': 9153726480, 'friend1': 8426915723, 'emergency contacts': {'National Emergency Number': 112, 'Police': 100, 'Fire': 101, 'Ambulance': 102, 'Disaster Management Services': 108, 'Women Helpline': 1091}}\n"
     ]
    }
   ],
   "source": [
    "print('# Adding nested dictionary to existing dictionary')\n",
    "contact['emergency contacts'] = emergency_contact\n",
    "print(contact)"
   ]
  },
  {
   "cell_type": "markdown",
   "metadata": {},
   "source": [
    "### Accessing values"
   ]
  },
  {
   "cell_type": "code",
   "execution_count": 5,
   "metadata": {},
   "outputs": [
    {
     "name": "stdout",
     "output_type": "stream",
     "text": [
      "# Accessing values using keys\n",
      "9517384620 9153726480\n"
     ]
    }
   ],
   "source": [
    "print('# Accessing values using keys')\n",
    "\n",
    "print(contact['mom'],contact['dad'])"
   ]
  },
  {
   "cell_type": "code",
   "execution_count": 6,
   "metadata": {},
   "outputs": [
    {
     "name": "stdout",
     "output_type": "stream",
     "text": [
      "# accessing nested dictinory by nested keys\n",
      "{'National Emergency Number': 112, 'Police': 100, 'Fire': 101, 'Ambulance': 102, 'Disaster Management Services': 108, 'Women Helpline': 1091}\n",
      "100 102\n"
     ]
    }
   ],
   "source": [
    "print('# accessing nested dictinory by nested keys')\n",
    "\n",
    "print(contact['emergency contacts'])\n",
    "print(contact['emergency contacts']['Police'],contact['emergency contacts']['Ambulance'])"
   ]
  },
  {
   "cell_type": "markdown",
   "metadata": {},
   "source": [
    "# dictionary Build-in Methods \n",
    "\n",
    "1. ```dict.keys()```\n",
    "2. ```dict.values()```\n",
    "3. ```dict.items()```\n",
    "\n",
    "4. ```dict.get()```\n",
    "5. ```dict.update()```\n",
    "6. ```dict.pop()```\n",
    "7. ```dict.popitem()```\n",
    "8. ```dict.copy()```\n",
    "9. ```dict.clear()```\n",
    "\n",
    "\n",
    "10. **```'dict'.fromkeys()```**\n",
    "\n",
    "11. ```dict.setdefault()```"
   ]
  },
  {
   "cell_type": "markdown",
   "metadata": {},
   "source": [
    "### * ```dict.keys()``` method\n",
    "* returns 'dict_keys' class object as all keys present in dictionary."
   ]
  },
  {
   "cell_type": "code",
   "execution_count": 7,
   "metadata": {},
   "outputs": [
    {
     "name": "stdout",
     "output_type": "stream",
     "text": [
      "<class 'dict_keys'>\n",
      "dict_keys(['mom', 'dad', 'friend1', 'emergency contacts']) \n",
      "\n",
      "mom 9517384620\n",
      "dad 9153726480\n",
      "friend1 8426915723\n",
      "emergency contacts {'National Emergency Number': 112, 'Police': 100, 'Fire': 101, 'Ambulance': 102, 'Disaster Management Services': 108, 'Women Helpline': 1091}\n"
     ]
    }
   ],
   "source": [
    "contact_keys = contact.keys()\n",
    "print(type(contact_keys))\n",
    "# This is 'dict_keys' which is iterable, \n",
    "# If needed one can type cast it to list\n",
    "# contact_keys = list(contact.keys())\n",
    "\n",
    "print(contact_keys,'\\n')\n",
    "\n",
    "for k in contact_keys:\n",
    "    print(k,contact[k])"
   ]
  },
  {
   "cell_type": "markdown",
   "metadata": {},
   "source": [
    "### * ```dict.values()``` method\n",
    "* returns object of class 'dict_values' as all values present in dictionary mapped with keys."
   ]
  },
  {
   "cell_type": "code",
   "execution_count": 8,
   "metadata": {},
   "outputs": [
    {
     "name": "stdout",
     "output_type": "stream",
     "text": [
      "<class 'dict_values'>\n",
      "dict_values([9517384620, 9153726480, 8426915723, {'National Emergency Number': 112, 'Police': 100, 'Fire': 101, 'Ambulance': 102, 'Disaster Management Services': 108, 'Women Helpline': 1091}])\n"
     ]
    }
   ],
   "source": [
    "contact_value = contact.values()\n",
    "print(type(contact_value))\n",
    "# This is 'dict_values' which is iterable, \n",
    "# If needed one can type cast it to list\n",
    "# contact_value = list(contact.values())\n",
    "\n",
    "print(contact_value)"
   ]
  },
  {
   "cell_type": "markdown",
   "metadata": {},
   "source": [
    "### * ```dict.items()``` method\n",
    "* returns object of class 'dict_items' as key value pairs."
   ]
  },
  {
   "cell_type": "code",
   "execution_count": 9,
   "metadata": {},
   "outputs": [
    {
     "name": "stdout",
     "output_type": "stream",
     "text": [
      "<class 'dict_items'>\n",
      "mom 9517384620\n",
      "dad 9153726480\n",
      "friend1 8426915723\n",
      "emergency contacts {'National Emergency Number': 112, 'Police': 100, 'Fire': 101, 'Ambulance': 102, 'Disaster Management Services': 108, 'Women Helpline': 1091}\n"
     ]
    }
   ],
   "source": [
    "print(type(contact.items()))\n",
    "# This is 'dict_items' which is iterable, \n",
    "# If needed one can type cast it to other object\n",
    "# contact_item = list(contact.itemss())\n",
    "\n",
    "for key, value in contact.items():\n",
    "    print(key,value)"
   ]
  },
  {
   "cell_type": "markdown",
   "metadata": {},
   "source": [
    "### * ```dict.get(key)``` method\n",
    "* returns value associated with key passed as parameter"
   ]
  },
  {
   "cell_type": "code",
   "execution_count": 10,
   "metadata": {},
   "outputs": [
    {
     "data": {
      "text/plain": [
       "9517384620"
      ]
     },
     "execution_count": 10,
     "metadata": {},
     "output_type": "execute_result"
    }
   ],
   "source": [
    "contact.get('mom')"
   ]
  },
  {
   "cell_type": "code",
   "execution_count": 11,
   "metadata": {},
   "outputs": [
    {
     "data": {
      "text/plain": [
       "100"
      ]
     },
     "execution_count": 11,
     "metadata": {},
     "output_type": "execute_result"
    }
   ],
   "source": [
    "# .get() function for nested dictionary\n",
    "contact.get('emergency contacts').get('Police')"
   ]
  },
  {
   "cell_type": "markdown",
   "metadata": {},
   "source": [
    "### * ```dict.update({key:value})```  method\n",
    "* updates current dictionary mapped key to new value passed\n",
    "* it adds key : value to dictionary if they doesn't exist in current dictionary"
   ]
  },
  {
   "cell_type": "code",
   "execution_count": 12,
   "metadata": {},
   "outputs": [
    {
     "name": "stdout",
     "output_type": "stream",
     "text": [
      "contact {'mom': 9517384620, 'dad': 9153726480, 'friend1': 8426915723, 'emergency contacts': {'National Emergency Number': 112, 'Police': 100, 'Fire': 101, 'Ambulance': 102, 'Disaster Management Services': 108, 'Women Helpline': 1091}} \n",
      "\n",
      "\n",
      "contact {'mom': 9517384620, 'dad': 9153726480, 'friend1': 8429651273, 'emergency contacts': {'National Emergency Number': 112, 'Police': 100, 'Fire': 101, 'Ambulance': 102, 'Disaster Management Services': 108, 'Women Helpline': 1091}}\n"
     ]
    }
   ],
   "source": [
    "print(\"contact\",contact,'\\n\\n')\n",
    "\n",
    "contact.update({'friend1':84296_51273})\n",
    "print(\"contact\",contact)"
   ]
  },
  {
   "cell_type": "code",
   "execution_count": 13,
   "metadata": {},
   "outputs": [
    {
     "name": "stdout",
     "output_type": "stream",
     "text": [
      "contact {'mom': 9517384620, 'dad': 9153726480, 'friend1': 8429651273, 'emergency contacts': {'National Emergency Number': 112, 'Police': 100, 'Fire': 101, 'Ambulance': 102, 'Disaster Management Services': 108, 'Women Helpline': 1091}} \n",
      "\n",
      "\n",
      "contact {'mom': 9517384620, 'dad': 9153726480, 'friend1': 8429651273, 'emergency contacts': {'National Emergency Number': 112, 'Police': 100, 'Fire': 101, 'Ambulance': 102, 'Disaster Management Services': 108, 'Women Helpline': 1091}, 'friend2': 8485296310}\n"
     ]
    }
   ],
   "source": [
    "print(\"contact\",contact,'\\n\\n')\n",
    "\n",
    "# friend 2 doesn't exist earlier\n",
    "contact.update({'friend2':84852_96310})\n",
    "print(\"contact\",contact)"
   ]
  },
  {
   "cell_type": "markdown",
   "metadata": {},
   "source": [
    "### * ```dict.pop(key)``` method\n",
    "* removes the key & value associated with it from dictionary."
   ]
  },
  {
   "cell_type": "code",
   "execution_count": 14,
   "metadata": {},
   "outputs": [
    {
     "name": "stdout",
     "output_type": "stream",
     "text": [
      "contact {'mom': 9517384620, 'dad': 9153726480, 'friend1': 8429651273, 'emergency contacts': {'National Emergency Number': 112, 'Police': 100, 'Fire': 101, 'Ambulance': 102, 'Disaster Management Services': 108, 'Women Helpline': 1091}, 'friend2': 8485296310} \n",
      "\n",
      "\n",
      "contact {'mom': 9517384620, 'dad': 9153726480, 'friend1': 8429651273, 'emergency contacts': {'National Emergency Number': 112, 'Police': 100, 'Fire': 101, 'Ambulance': 102, 'Disaster Management Services': 108, 'Women Helpline': 1091}}\n"
     ]
    }
   ],
   "source": [
    "print(\"contact\",contact,'\\n\\n')\n",
    "\n",
    "# friend 2 doesn't exist earlier\n",
    "contact.pop('friend2')\n",
    "print(\"contact\",contact)"
   ]
  },
  {
   "cell_type": "markdown",
   "metadata": {},
   "source": [
    "### * ```dict.popitem()``` method\n",
    "* removes last inserted key value from dictionary."
   ]
  },
  {
   "cell_type": "code",
   "execution_count": 15,
   "metadata": {},
   "outputs": [
    {
     "name": "stdout",
     "output_type": "stream",
     "text": [
      "contact {'mom': 9517384620, 'dad': 9153726480, 'friend1': 8429651273, 'emergency contacts': {'National Emergency Number': 112, 'Police': 100, 'Fire': 101, 'Ambulance': 102, 'Disaster Management Services': 108, 'Women Helpline': 1091}} \n",
      "\n",
      "\n",
      "contact {'mom': 9517384620, 'dad': 9153726480, 'friend1': 8429651273}\n"
     ]
    }
   ],
   "source": [
    "print(\"contact\",contact,'\\n\\n')\n",
    "\n",
    "contact.popitem()\n",
    "print(\"contact\",contact)\n",
    "# in this case Emergency contact was last item inserted"
   ]
  },
  {
   "cell_type": "markdown",
   "metadata": {},
   "source": [
    "### * ```dict.copy()``` method"
   ]
  },
  {
   "cell_type": "code",
   "execution_count": 16,
   "metadata": {},
   "outputs": [
    {
     "name": "stdout",
     "output_type": "stream",
     "text": [
      "{'mom': 9517384620, 'dad': 9153726480, 'friend1': 8429651273}\n"
     ]
    }
   ],
   "source": [
    "contact_backup = contact.copy()\n",
    "\n",
    "print(contact_backup)"
   ]
  },
  {
   "cell_type": "markdown",
   "metadata": {},
   "source": [
    "### * ```dict.clear()``` method\n",
    "* clears all items from collection : dictionary"
   ]
  },
  {
   "cell_type": "code",
   "execution_count": 17,
   "metadata": {},
   "outputs": [
    {
     "name": "stdout",
     "output_type": "stream",
     "text": [
      "contact {'mom': 9517384620, 'dad': 9153726480, 'friend1': 8429651273} \n",
      "\n",
      "\n",
      "contact {}\n"
     ]
    }
   ],
   "source": [
    "print(\"contact\",contact,'\\n\\n')\n",
    "\n",
    "contact.clear()\n",
    "print(\"contact\",contact)"
   ]
  },
  {
   "cell_type": "markdown",
   "metadata": {},
   "source": [
    "----\n",
    "### * ```'dict'.fromkeys(keys_collection, default_value)``` method\n",
    "* adds keys to dictionary and set same default_value to all keys from collection.\n",
    "\n",
    "If 2nd parameter is not passed it links all key to None value."
   ]
  },
  {
   "cell_type": "code",
   "execution_count": 18,
   "metadata": {},
   "outputs": [
    {
     "name": "stdout",
     "output_type": "stream",
     "text": [
      "contact {'family-group': {}, 'friends-group': {}, 'work-group': {}}\n"
     ]
    }
   ],
   "source": [
    "key_group = ('family-group','friends-group','work-group')\n",
    "default_nesting = {}\n",
    "\n",
    "contact=dict.fromkeys(key_group,default_nesting)\n",
    "print(\"contact\",contact)"
   ]
  },
  {
   "cell_type": "markdown",
   "metadata": {},
   "source": [
    "### * ```dict.setdefault(key,value)``` method\n",
    "* sets default value to key passed to function.  Note : if key do not exist.\n",
    "* if key exist returns value associated with it."
   ]
  },
  {
   "cell_type": "code",
   "execution_count": 19,
   "metadata": {},
   "outputs": [
    {
     "name": "stdout",
     "output_type": "stream",
     "text": [
      "emergency_contact {'National Emergency Number': 112, 'Police': 100, 'Fire': 101, 'Ambulance': 102, 'Disaster Management Services': 108, 'Women Helpline': 1091} \n",
      "\n",
      "contact {'family-group': {}, 'friends-group': {}, 'work-group': {}} \n",
      "\n",
      "\n",
      "contact {'family-group': {}, 'friends-group': {}, 'work-group': {}, 'emergency-group': {'National Emergency Number': 112, 'Police': 100, 'Fire': 101, 'Ambulance': 102, 'Disaster Management Services': 108, 'Women Helpline': 1091}}\n"
     ]
    }
   ],
   "source": [
    "print(\"emergency_contact\",emergency_contact,'\\n')\n",
    "print(\"contact\",contact,'\\n\\n')\n",
    "\n",
    "contact.setdefault('emergency-group',emergency_contact)\n",
    "print(\"contact\",contact)"
   ]
  },
  {
   "cell_type": "code",
   "execution_count": null,
   "metadata": {},
   "outputs": [],
   "source": []
  }
 ],
 "metadata": {
  "kernelspec": {
   "display_name": "Python 3",
   "language": "python",
   "name": "python3"
  },
  "language_info": {
   "codemirror_mode": {
    "name": "ipython",
    "version": 3
   },
   "file_extension": ".py",
   "mimetype": "text/x-python",
   "name": "python",
   "nbconvert_exporter": "python",
   "pygments_lexer": "ipython3",
   "version": "3.8.2"
  }
 },
 "nbformat": 4,
 "nbformat_minor": 4
}
