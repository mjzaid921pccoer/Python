{
 "cells": [
  {
   "cell_type": "markdown",
   "id": "14c053f8",
   "metadata": {},
   "source": [
    "----\n",
    "----\n",
    "# Content\n",
    "Data Type Numeric\n",
    "* Basic\n",
    "    * integer\n",
    "    * float\n",
    "    * complex\n",
    "* Advance\n",
    "    * Hexadecimal\n",
    "    * Octal\n",
    "    * Binary\n",
    "    * Math Library / Module\n",
    "\n",
    "----\n",
    "# ---------------------------------------------------------------------------------------------------------------"
   ]
  },
  {
   "cell_type": "markdown",
   "id": "12ff8c9a",
   "metadata": {},
   "source": [
    "# Data Type Numeric - Basic\n",
    "# `<class 'int'>`\n"
   ]
  },
  {
   "cell_type": "code",
   "execution_count": 1,
   "id": "711cf48b",
   "metadata": {},
   "outputs": [
    {
     "name": "stdout",
     "output_type": "stream",
     "text": [
      "123456789 <class 'int'>\n",
      "12000 <class 'int'>\n",
      "-50 <class 'int'>\n",
      "0 <class 'int'>\n",
      "True\n"
     ]
    }
   ],
   "source": [
    "# INTEGER DATA TYPE\n",
    "number = 123456789\n",
    "print(number,type(number))\n",
    "\n",
    "\n",
    "num = 12_000     # _ is also used to separate digits say (12,000 as 12_000).\n",
    "print(num,type(num))\n",
    "\n",
    "\n",
    "neg_num = -50\n",
    "print(neg_num,type(neg_num))\n",
    "\n",
    "\n",
    "num1 = int()\n",
    "print(num1,type(num1))\n",
    "\n",
    "print(int==type(num1))"
   ]
  },
  {
   "cell_type": "markdown",
   "id": "fd31c644",
   "metadata": {},
   "source": [
    "# `<class 'float'>`\n",
    "* `is_integer()` returns True if float instance is finite with integral value\n",
    "* `float.as_integer_ratio()` returns tuple (numberator,denominator)"
   ]
  },
  {
   "cell_type": "code",
   "execution_count": 2,
   "id": "74605880",
   "metadata": {},
   "outputs": [
    {
     "name": "stdout",
     "output_type": "stream",
     "text": [
      "123456789.0 <class 'float'>\n",
      "36355.12 <class 'float'>\n",
      "-3.14 <class 'float'>\n",
      "0.0 <class 'float'>\n",
      "True\n"
     ]
    }
   ],
   "source": [
    "# FLOAT DATA TYPE\n",
    "fnumber = 123456789.0\n",
    "fnum = 36_355.12     \n",
    "fneg_num = -314e-2 # e or E represent exponent: to power 10, say (314*10^-2 = 3.14)\n",
    "\n",
    "print(fnumber,type(fnumber))\n",
    "print(fnum,type(fnum))\n",
    "print(fneg_num,type(fneg_num))\n",
    "\n",
    "fnum1 = float()\n",
    "print(fnum1,type(fnum1))\n",
    "\n",
    "print(float==type(fnum1))"
   ]
  },
  {
   "cell_type": "code",
   "execution_count": 3,
   "id": "c4de7c27",
   "metadata": {},
   "outputs": [
    {
     "name": "stdout",
     "output_type": "stream",
     "text": [
      "is_integer :  True\n",
      "as_integer_ratio :  (1, 4)\n"
     ]
    }
   ],
   "source": [
    "rate = 60.0\n",
    "print(\"is_integer : \",rate.is_integer())\n",
    "\n",
    "quater = 0.25\n",
    "print(\"as_integer_ratio : \",quater.as_integer_ratio())"
   ]
  },
  {
   "cell_type": "markdown",
   "id": "c30baf20",
   "metadata": {},
   "source": [
    "# `<class 'complex'>`\n",
    "\n",
    "* `complex.real` method\n",
    "* `complex.imag` method\n",
    "* `complex.conjugate` method"
   ]
  },
  {
   "cell_type": "code",
   "execution_count": 4,
   "id": "3e7d06c1",
   "metadata": {},
   "outputs": [
    {
     "name": "stdout",
     "output_type": "stream",
     "text": [
      "(3+12j) <class 'complex'>\n",
      "(5+10j) <class 'complex'>\n",
      "5.0 <class 'float'>\n",
      "10.0 <class 'float'>\n",
      "True\n",
      "(5+10j) <class 'complex'>\n",
      "(5-10j)\n"
     ]
    }
   ],
   "source": [
    "# COMPLEX DATA TYPE\n",
    "\n",
    "cnumber = 3+12j\n",
    "\n",
    "print(cnumber,type(cnumber))\n",
    "\n",
    "realp=5\n",
    "imgp=10\n",
    "\n",
    "cnum1 = complex(realp,imgp)\n",
    "print(cnum1,type(cnum1))\n",
    "print(cnum1.real,type(cnum1.real))\n",
    "print(cnum1.imag,type(cnum1.imag))\n",
    "\n",
    "print(complex==type(cnum1))\n",
    "\n",
    "complexinstr = complex('5+10j')\n",
    "print(complexinstr,type(complexinstr))\n",
    "\n",
    "print(cnum1.conjugate())"
   ]
  },
  {
   "cell_type": "markdown",
   "id": "1447e6c9",
   "metadata": {},
   "source": [
    "## Basic Arithmetic\n",
    "#### Addition `+`\n",
    "```python\n",
    ">>>2+1\n",
    ">>>3\n",
    "```\n",
    "##### Subtraction `-` \n",
    "```python\n",
    ">>>2-1\n",
    ">>>1\n",
    "```\n",
    "#### Multiplication `*`\n",
    "```python\n",
    ">>>2*2\n",
    ">>>4\n",
    "```\n",
    "#### Division `/`\n",
    "```python\n",
    ">>>3/2\n",
    ">>>1.5\n",
    "```\n",
    "#### Floor Division `//`\n",
    "```python\n",
    ">>> # we are using \"floor\" division. The // operator (two forward slashes) truncates the decimal without rounding, and returns an integer result.\n",
    ">>>7//4\n",
    ">>>1\n",
    "```\n",
    "#### Modulo `%`\n",
    "```python\n",
    ">>># reminder\n",
    ">>>7%4\n",
    ">>>3\n",
    "```\n",
    "#### Powers `**`\n",
    "```python\n",
    ">>>2**3\n",
    ">>>8\n",
    ">>>\n",
    ">>>4**0.5\n",
    ">>>2.0\n",
    ">>>\n",
    ">>># Order of Operations followed in Python\n",
    ">>>2 + 10 * 10 + 3\n",
    ">>>105\n",
    ">>>\n",
    ">>># Can use parentheses to specify orders\n",
    ">>>(2+10) * (10+3)\n",
    ">>>156\n",
    "```"
   ]
  },
  {
   "cell_type": "code",
   "execution_count": 5,
   "id": "ceab30e4",
   "metadata": {},
   "outputs": [
    {
     "name": "stdout",
     "output_type": "stream",
     "text": [
      "999999 11\n",
      "sum of 999999 and 11 is 1000010\n",
      "difference of 999999 and 11 is 999988\n",
      "product of 999999 and 11 is 10999989\n",
      "quotient of 999999 and 11 is 90909.0\n",
      "floor quotient of 999999 and 11 is 90909\n",
      "reminder of 999999 / 11 is 0\n",
      "negated 999999 is -999999\n",
      "unchanged 999999 is 999999\n",
      "absolute value or magnitude of 999999 is 999999\n",
      "divmod(999999,11) - the pair (999999 // 11, 999999 % 11) is (90909, 0)\n",
      "999999 to the power 11 is 999989000054999835000329999538000461999670000164999945000010999999\n",
      "pow(999999,11) - 999999 to the power 11 is 999989000054999835000329999538000461999670000164999945000010999999\n"
     ]
    }
   ],
   "source": [
    "x = 9_99_999\n",
    "y = 11\n",
    "print(x,y)\n",
    "\n",
    "print(\"sum of {} and {} is {}\".format(x, y, x + y))\n",
    "\n",
    "print(\"difference of {} and {} is {}\".format(x, y, x - y))\n",
    "\n",
    "print(\"product of {} and {} is {}\".format(x, y, x * y))\n",
    "\n",
    "print(\"quotient of {} and {} is {}\".format(x, y, x / y))\n",
    "\n",
    "print(\"floor quotient of {} and {} is {}\".format(x, y, x // y))\n",
    "\n",
    "print(\"reminder of {} / {} is {}\".format(x, y, x % y))\n",
    "\n",
    "print(\"negated {} is {}\".format(x, -x))\n",
    "\n",
    "print(\"unchanged {} is {}\".format(x, +x))\n",
    "\n",
    "print(\"absolute value or magnitude of {} is {}\".format(x, abs(x)))\n",
    "\n",
    "print(f\"divmod({x},{y}) - the pair ({x} // {y}, {x} % {y}) is {divmod(x,y)}\")\n",
    "\n",
    "print(\"{} to the power {} is {}\".format(x, y, x ** y))\n",
    "\n",
    "print(f\"pow({x},{y}) - {x} to the power {y} is {pow(x,y)}\")\n",
    "\n"
   ]
  },
  {
   "cell_type": "code",
   "execution_count": 6,
   "id": "7695e5cd",
   "metadata": {},
   "outputs": [
    {
     "name": "stdout",
     "output_type": "stream",
     "text": [
      "99.9 1.1\n",
      "sum of 99.9 and 1.1 is 101.0\n",
      "difference of 99.9 and 1.1 is 98.80000000000001\n",
      "product of 99.9 and 1.1 is 109.89000000000001\n",
      "quotient of 99.9 and 1.1 is 90.81818181818181\n",
      "floor quotient of 99.9 and 1.1 is 90.0\n",
      "reminder of 99.9 / 1.1 is 0.8999999999999977\n",
      "negated 99.9 is -99.9\n",
      "unchanged 99.9 is 99.9\n",
      "absolute value or magnitude of 99.9 is 99.9\n",
      "divmod(99.9,1.1) - the pair (99.9 // 1.1, 99.9 % 1.1) is (90.0, 0.8999999999999977)\n",
      "99.9 to the power 1.1 is 158.3149897144696\n",
      "pow(99.9,1.1) - 99.9 to the power 1.1 is 158.3149897144696\n"
     ]
    }
   ],
   "source": [
    "x = 99.9\n",
    "y = 1.1\n",
    "print(x,y)\n",
    "\n",
    "print(\"sum of {} and {} is {}\".format(x, y, x + y))\n",
    "\n",
    "print(\"difference of {} and {} is {}\".format(x, y, x - y))\n",
    "\n",
    "print(\"product of {} and {} is {}\".format(x, y, x * y))\n",
    "\n",
    "print(\"quotient of {} and {} is {}\".format(x, y, x / y))\n",
    "\n",
    "print(\"floor quotient of {} and {} is {}\".format(x, y, x // y))\n",
    "\n",
    "print(\"reminder of {} / {} is {}\".format(x, y, x % y))\n",
    "\n",
    "print(\"negated {} is {}\".format(x, -x))\n",
    "\n",
    "print(\"unchanged {} is {}\".format(x, +x))\n",
    "\n",
    "print(\"absolute value or magnitude of {} is {}\".format(x, abs(x)))\n",
    "\n",
    "print(f\"divmod({x},{y}) - the pair ({x} // {y}, {x} % {y}) is {divmod(x,y)}\")\n",
    "\n",
    "print(\"{} to the power {} is {}\".format(x, y, x ** y))\n",
    "\n",
    "print(f\"pow({x},{y}) - {x} to the power {y} is {pow(x,y)}\")\n",
    "\n"
   ]
  },
  {
   "cell_type": "code",
   "execution_count": 7,
   "id": "db90dde5",
   "metadata": {},
   "outputs": [
    {
     "name": "stdout",
     "output_type": "stream",
     "text": [
      "Assignment Operation\n",
      "a=110, b=180, c=3000, d=100.0\n"
     ]
    }
   ],
   "source": [
    "print(\"Assignment Operation\")\n",
    "\n",
    "a=100\n",
    "a+=10\n",
    "\n",
    "b=200\n",
    "b-=20\n",
    "\n",
    "c=300\n",
    "c*=10\n",
    "\n",
    "d=400\n",
    "d/=4\n",
    "\n",
    "print('a={}, b={}, c={}, d={}'.format(a,b,c,d))"
   ]
  },
  {
   "cell_type": "markdown",
   "id": "b415cd39",
   "metadata": {},
   "source": [
    "### [Floating Point Arithmetic: Issues and Limitations](https://docs.python.org/3/tutorial/floatingpoint.html)\n",
    "\n",
    "----\n",
    "\n",
    "# ---------------------------------------------------------------------------------------------------------------\n",
    "# Advance Numeric\n",
    "\n",
    "## `bin()` binary function - `0b...` 0b or 0B represent binary system base = 2\n",
    "## `oct()` octal function - `0o...` 0o or 0O represent binary system base = 8\n",
    "## `hex()` hexa function - `0x...` 0x  or 0X represent binary system base = 16\n",
    "\n",
    "### `int('str',base=value)` function uses.\n"
   ]
  },
  {
   "cell_type": "code",
   "execution_count": 8,
   "id": "988e686f",
   "metadata": {},
   "outputs": [],
   "source": [
    "d_number = 79\n",
    "b_number = 0b1001111\n",
    "o_number = 0o117\n",
    "h_number = 0x4f"
   ]
  },
  {
   "cell_type": "code",
   "execution_count": 9,
   "id": "297b6bdb",
   "metadata": {},
   "outputs": [
    {
     "name": "stdout",
     "output_type": "stream",
     "text": [
      "0b1001111 <class 'str'>\n",
      "79\n"
     ]
    }
   ],
   "source": [
    "binary = bin(d_number)\n",
    "print(binary,type(binary))\n",
    "print(int(binary,2))"
   ]
  },
  {
   "cell_type": "code",
   "execution_count": 10,
   "id": "de35d400",
   "metadata": {},
   "outputs": [
    {
     "name": "stdout",
     "output_type": "stream",
     "text": [
      "0o117 <class 'str'>\n",
      "79\n"
     ]
    }
   ],
   "source": [
    "octal = oct(d_number)\n",
    "print(octal,type(octal))\n",
    "print(int(octal,8))"
   ]
  },
  {
   "cell_type": "code",
   "execution_count": 11,
   "id": "85ac00f8",
   "metadata": {},
   "outputs": [
    {
     "name": "stdout",
     "output_type": "stream",
     "text": [
      "0x4f <class 'str'>\n",
      "79\n"
     ]
    }
   ],
   "source": [
    "hexa = hex(d_number)\n",
    "print(hexa,type(hexa))\n",
    "print(int(hexa,16))"
   ]
  },
  {
   "cell_type": "code",
   "execution_count": 12,
   "id": "a4c1533e",
   "metadata": {},
   "outputs": [
    {
     "name": "stdout",
     "output_type": "stream",
     "text": [
      "Enter Integer : 72\n",
      "number 72 <class 'int'>\n",
      "72 <class 'int'>\n",
      "binary 1001000 <class 'str'>\n",
      "octal 110 <class 'str'>\n",
      "hexadecimal 48 <class 'str'>\n",
      "\n",
      "\n",
      "binary to decimal\n",
      "1001000 -> 72\n",
      "\n",
      "\n",
      "octal to decimal\n",
      "110 -> 72\n",
      "\n",
      "\n",
      "hexadecimal to decimal\n",
      "48 -> 72\n"
     ]
    }
   ],
   "source": [
    "number = eval(input(\"Enter Integer : \"))\n",
    "\n",
    "# all returns string conversion just to remove 0ns :\n",
    "integer_to_binary = lambda integer : \"{0:b}\".format(integer)\n",
    "integer_to_octal = lambda integer : \"{0:o}\".format(integer)\n",
    "integer_to_hexadecimal = lambda integer : \"{0:x}\".format(integer)\n",
    "integer_to_decimal = lambda integer : \"{0:0}\".format(integer)\n",
    "\n",
    "\n",
    "if(type(number)==int):\n",
    "    b_num = integer_to_binary(number)\n",
    "    o_num = integer_to_octal(number)\n",
    "    h_num = integer_to_hexadecimal(number)\n",
    "    d_num = integer_to_decimal(number)    \n",
    "\n",
    "    print(\"number\",number,type(number))\n",
    "    \n",
    "    print(d_num,type(int(d_num,10)))\n",
    "\n",
    "    print(\"binary\",b_num,type(b_num))\n",
    "    print(\"octal\",o_num,type(o_num))\n",
    "    print(\"hexadecimal\",h_num,type(h_num))\n",
    "\n",
    "    print(\"\\n\\nbinary to decimal\")\n",
    "    print(b_num,\"->\",int(b_num,2))\n",
    "\n",
    "    print(\"\\n\\noctal to decimal\")\n",
    "    print(o_num,\"->\",int(o_num,8))\n",
    "\n",
    "    print(\"\\n\\nhexadecimal to decimal\")\n",
    "    print(h_num,\"->\",int(h_num,16))\n"
   ]
  },
  {
   "cell_type": "code",
   "execution_count": 13,
   "id": "d6fee284",
   "metadata": {},
   "outputs": [],
   "source": [
    "def toInteger(num):\n",
    "    if(type(num)==int):\n",
    "        return num\n",
    "    elif(type(num)==str):\n",
    "        if 'b' in num or 'B' in num:\n",
    "            return int(num,2)\n",
    "        elif 'o' in num or 'O' in num:\n",
    "            return int(num,8)\n",
    "        elif 'x' in num or 'X' in num:\n",
    "            return int(num,16)\n",
    "        else:\n",
    "            return None\n",
    "    else:\n",
    "        return None"
   ]
  },
  {
   "cell_type": "code",
   "execution_count": 14,
   "id": "d535149b",
   "metadata": {},
   "outputs": [
    {
     "data": {
      "text/plain": [
       "79"
      ]
     },
     "execution_count": 14,
     "metadata": {},
     "output_type": "execute_result"
    }
   ],
   "source": [
    "toInteger(bin(79))\n",
    "toInteger(oct(79))\n",
    "toInteger(hex(79))\n",
    "toInteger(79)"
   ]
  },
  {
   "cell_type": "markdown",
   "id": "b8d28ff2",
   "metadata": {},
   "source": [
    "### `round(num,upto)` function\n",
    "round a number to a given precision in decimal digits (default 0 digits). \n",
    "It does not convert integers to floats."
   ]
  },
  {
   "cell_type": "code",
   "execution_count": 15,
   "id": "e1536410",
   "metadata": {},
   "outputs": [
    {
     "data": {
      "text/plain": [
       "3.14"
      ]
     },
     "execution_count": 15,
     "metadata": {},
     "output_type": "execute_result"
    }
   ],
   "source": [
    "round(3.1415926535,2)"
   ]
  },
  {
   "cell_type": "markdown",
   "id": "a09b5829",
   "metadata": {},
   "source": [
    "## Math Module \n",
    "\n",
    "```python \n",
    "import math\n",
    "```\n",
    "### * `math.floor(x)` method\n",
    "### `math.factorial(x)` method\n",
    "### * `math.ceil(x)` method\n",
    "    Return the ceiling of x, the smallest integer greater than or equal to x.\n",
    "### * `math.perm(n, k=None)` method\n",
    "### * `math.comb(n, k)` method\n",
    "    Return combination( nCk )\n",
    "### * `math.fsum(iterable)` method\n",
    "### * `math.gcd(*integers)` method\n",
    "### * `math.lcm(*integers)` method\n",
    "\n",
    "### * `math.isfinite(x)` method\n",
    "### * `math.isinf(x)` method\n",
    "### * `math.isnan(x)` method\n",
    "\n",
    "### * `math.sqrt(x)` method\n",
    "### * `math.isqrt(n)` method\n",
    "\n",
    "### * `math.log(x[, base])` method\n",
    "### * `math.log1p(x)` method\n",
    "### * `math.log2(x)` method\n",
    "### * `math.log10(x)` method\n",
    "\n",
    "### * `math.asin(x)` method\n",
    "### * `math.sin(x)` method\n",
    "### * `math.cos(x)` method\n",
    "### * `math.tan(x)` method\n",
    "### * `math.atan(x)` method\n",
    "### * `math.atan2(y, x)` method\n",
    "\n",
    "### * `math.dist(p, q)` method\n",
    "\n",
    "### * `math.degrees(x)` method\n",
    "### * `math.radians(x)` method\n",
    "\n",
    "[math docs](https://docs.python.org/3/library/math.html)"
   ]
  },
  {
   "cell_type": "code",
   "execution_count": 16,
   "id": "81750589",
   "metadata": {},
   "outputs": [
    {
     "name": "stdout",
     "output_type": "stream",
     "text": [
      "2.3333333333333335\n",
      "2\n",
      "3\n"
     ]
    }
   ],
   "source": [
    "import math\n",
    "\n",
    "a=7\n",
    "b=3\n",
    "\n",
    "c = a / b\n",
    "\n",
    "print(c)\n",
    "print(math.floor(c))\n",
    "print(math.ceil(c))"
   ]
  },
  {
   "cell_type": "code",
   "execution_count": null,
   "id": "6982b3a6",
   "metadata": {},
   "outputs": [],
   "source": []
  }
 ],
 "metadata": {
  "kernelspec": {
   "display_name": "Python 3",
   "language": "python",
   "name": "python3"
  },
  "language_info": {
   "codemirror_mode": {
    "name": "ipython",
    "version": 3
   },
   "file_extension": ".py",
   "mimetype": "text/x-python",
   "name": "python",
   "nbconvert_exporter": "python",
   "pygments_lexer": "ipython3",
   "version": "3.8.2"
  }
 },
 "nbformat": 4,
 "nbformat_minor": 5
}
