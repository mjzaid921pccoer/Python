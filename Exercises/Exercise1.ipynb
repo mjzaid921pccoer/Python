{
 "cells": [
  {
   "cell_type": "code",
   "execution_count": 11,
   "id": "03a537b6",
   "metadata": {},
   "outputs": [],
   "source": [
    "\n",
    "def printExecutionTime(func,*args):\n",
    "    import time\n",
    "    start_time = time.time()\n",
    "    returns = func(*args)\n",
    "    print(returns)\n",
    "    print(\"Execution Time : {}\".format(time.time()-start_time))"
   ]
  },
  {
   "cell_type": "markdown",
   "id": "ff8225cd",
   "metadata": {},
   "source": [
    "## Swapping\n",
    "* Using Temp variable.\n",
    "* Without using Temp variable.\n",
    "* **Pythonic way of swapping.**"
   ]
  },
  {
   "cell_type": "code",
   "execution_count": 12,
   "id": "5bbea411",
   "metadata": {},
   "outputs": [
    {
     "name": "stdout",
     "output_type": "stream",
     "text": [
      "(10, 5)\n",
      "Execution Time : 0.0\n"
     ]
    }
   ],
   "source": [
    "#Using Temp Variable\n",
    "# In Python \"_\" underscore is used if we need to handle through variable temporary in use.\n",
    "def tempswap(a,b):\n",
    "    _=a\n",
    "    a=b\n",
    "    b=_\n",
    "    return a,b\n",
    "\n",
    "# tempswap(5,10)\n",
    "printExecutionTime(tempswap,5,10)"
   ]
  },
  {
   "cell_type": "code",
   "execution_count": 13,
   "id": "4b2a065c",
   "metadata": {},
   "outputs": [
    {
     "name": "stdout",
     "output_type": "stream",
     "text": [
      "(10, 5)\n",
      "Execution Time : 0.0\n"
     ]
    }
   ],
   "source": [
    "#without using temp\n",
    "def swap(a,b):\n",
    "    a=a+b;\n",
    "    b=a-b;\n",
    "    a=a-b;\n",
    "    return a,b\n",
    "\n",
    "# swap(5,10)\n",
    "printExecutionTime(swap,5,10)"
   ]
  },
  {
   "cell_type": "code",
   "execution_count": 14,
   "id": "ee2516b0",
   "metadata": {},
   "outputs": [
    {
     "name": "stdout",
     "output_type": "stream",
     "text": [
      "(10, 5)\n",
      "Execution Time : 0.0\n"
     ]
    }
   ],
   "source": [
    "def pyswap(a,b):\n",
    "    b,a = a,b\n",
    "    return a,b\n",
    "\n",
    "# pyswap(5,10)\n",
    "printExecutionTime(pyswap,5,10)"
   ]
  },
  {
   "cell_type": "markdown",
   "id": "ae5da00f",
   "metadata": {},
   "source": [
    "## Reversing Number"
   ]
  },
  {
   "cell_type": "code",
   "execution_count": 21,
   "id": "b03337f3",
   "metadata": {},
   "outputs": [
    {
     "name": "stdout",
     "output_type": "stream",
     "text": [
      "(987654321, '0987654321')\n",
      "Execution Time : 0.000997781753540039\n"
     ]
    }
   ],
   "source": [
    "#Pythonic Way\n",
    "def reverseNumber(num):\n",
    "    reverseNumstring = str(num)[::-1]    \n",
    "    return int(reverseNumstring),reverseNumstring\n",
    "\n",
    "# print(reverseNumber(1234567890)[1])\n",
    "printExecutionTime(reverseNumber,1234567890)"
   ]
  },
  {
   "cell_type": "markdown",
   "id": "57492460",
   "metadata": {},
   "source": [
    "## Prime Number"
   ]
  },
  {
   "cell_type": "code",
   "execution_count": 35,
   "id": "26d36a55",
   "metadata": {},
   "outputs": [
    {
     "name": "stdout",
     "output_type": "stream",
     "text": [
      "[2, 3, 5, 7, 11, 13, 17, 19, 23, 29, 31, 37, 41, 43, 47, 53, 59, 61, 67, 71, 73, 79, 83, 89, 97]\n",
      "Execution Time : 0.0009644031524658203\n"
     ]
    }
   ],
   "source": [
    "def isPrimeNumber(number):\n",
    "    if number>1:\n",
    "        res = True\n",
    "        for i in range(2,number):\n",
    "            if(number%i==0):\n",
    "                res=False\n",
    "                break\n",
    "        return res\n",
    "    else:\n",
    "        return False\n",
    "\n",
    "def allPrimeNumber(limit):\n",
    "    return [i for i in range(0,limit+1) if isPrimeNumber(i)]\n",
    "\n",
    "# print(allPrimeNumber(100))\n",
    "printExecutionTime(allPrimeNumber,100)"
   ]
  },
  {
   "cell_type": "markdown",
   "id": "474d367f",
   "metadata": {},
   "source": [
    "## Factorial"
   ]
  },
  {
   "cell_type": "code",
   "execution_count": 76,
   "id": "2ac35d53",
   "metadata": {},
   "outputs": [
    {
     "name": "stdout",
     "output_type": "stream",
     "text": [
      "5040\n",
      "Execution Time : 0.0\n"
     ]
    }
   ],
   "source": [
    "# method 1\n",
    "def factorialOf(num):\n",
    "    if(num<0):\n",
    "        return None\n",
    "    else:\n",
    "        fact = 1\n",
    "        for i in range(1,num+1):\n",
    "            fact = fact * i\n",
    "        return fact\n",
    "\n",
    "printExecutionTime(factorialOf,7)"
   ]
  },
  {
   "cell_type": "code",
   "execution_count": 80,
   "id": "6cb2a200",
   "metadata": {},
   "outputs": [
    {
     "name": "stdout",
     "output_type": "stream",
     "text": [
      "5040\n",
      "Execution Time : 0.0\n"
     ]
    }
   ],
   "source": [
    "# method 2 : recursion\n",
    "def factOf(num):\n",
    "    if num<0:\n",
    "        return None\n",
    "    elif(num==0):\n",
    "        return 1\n",
    "    else:\n",
    "        return num*factOf(num-1)\n",
    "    \n",
    "printExecutionTime(factOf,7)"
   ]
  },
  {
   "cell_type": "code",
   "execution_count": 92,
   "id": "dd776086",
   "metadata": {},
   "outputs": [
    {
     "name": "stdout",
     "output_type": "stream",
     "text": [
      "5040\n",
      "Execution Time : 0.0\n"
     ]
    }
   ],
   "source": [
    "import time\n",
    "\n",
    "# By python package\n",
    "import math\n",
    "start=time.time()\n",
    "\n",
    "print(math.factorial(7))\n",
    "\n",
    "print(\"Execution Time : {}\".format(time.time()-start))"
   ]
  },
  {
   "cell_type": "markdown",
   "id": "6b680b56",
   "metadata": {},
   "source": [
    "## Fibonacci Series"
   ]
  },
  {
   "cell_type": "code",
   "execution_count": 117,
   "id": "bd79b178",
   "metadata": {},
   "outputs": [
    {
     "name": "stdout",
     "output_type": "stream",
     "text": [
      "[0, 1, 1, 2, 3, 5, 8, 13, 21, 34]\n",
      "Execution Time : 0.0\n"
     ]
    }
   ],
   "source": [
    "def fibonacci_series(n):\n",
    "    fibonacci = [0,1]\n",
    "    a, b = 0, 1\n",
    "    if(n>1):\n",
    "        c = a + b\n",
    "        #while(c<=n): # if want elements till n\n",
    "        while(len(fibonacci)<n):\n",
    "            fibonacci.append(c)\n",
    "            a, b = b, c\n",
    "            c= a + b\n",
    "        return fibonacci\n",
    "    elif(n < 0):\n",
    "        return None\n",
    "    else:\n",
    "        return fibonacci[:n+1]\n",
    "        \n",
    "printExecutionTime(fibonacci_series,10)"
   ]
  },
  {
   "cell_type": "code",
   "execution_count": 115,
   "id": "b4f3f611",
   "metadata": {},
   "outputs": [
    {
     "name": "stdout",
     "output_type": "stream",
     "text": [
      "[0, 1, 1, 2, 3, 5, 8, 13, 21, 34]\n",
      "Execution Time : 0.0009992122650146484\n"
     ]
    }
   ],
   "source": [
    "# Recursion\n",
    "def fibo_series(n):\n",
    "    \"\"\"returns list of fibonacci series number till n terms\"\"\"\n",
    "        \n",
    "    def fibo_recursive(e):\n",
    "        \"\"\"fibonacci_recursive : returns e th term from series\"\"\"\n",
    "        if e == 0 :\n",
    "            return 0\n",
    "        elif e == 1: \n",
    "            return 1\n",
    "        else:\n",
    "            return fibo_recursive(e-2) + fib_recursive(e-1)\n",
    "    \n",
    "    return [fibo_recursive(i) for i in range(0,n)]\n",
    "    \n",
    "    \n",
    "# fibo_series(10)     \n",
    "printExecutionTime(fibo_series,10)\n"
   ]
  },
  {
   "cell_type": "markdown",
   "id": "7bb6d3dd",
   "metadata": {},
   "source": [
    "## Armstrong \n",
    "A number **abcd...** with **n** digits is said to be armstrong if \n",
    "\n",
    "**abcd... = a^n + b^n + c^n + d^n + ...**"
   ]
  },
  {
   "cell_type": "code",
   "execution_count": 121,
   "id": "eeccb52c",
   "metadata": {},
   "outputs": [
    {
     "name": "stdout",
     "output_type": "stream",
     "text": [
      "True\n",
      "[0, 1, 2, 3, 4, 5, 6, 7, 8, 9, 153, 370, 371, 407, 1634, 8208, 9474]\n",
      "Execution Time : 0.03191542625427246\n"
     ]
    }
   ],
   "source": [
    "def isArmStrong(number : int) -> bool:\n",
    "    order = len(str(number))\n",
    "    res = 0\n",
    "    for digit in str(number):\n",
    "        res = res + int(digit)**order\n",
    "    return res==number\n",
    "\n",
    "print(isArmStrong(371))\n",
    "\n",
    "def ArmstrongSeries(n):\n",
    "    return [i for i in range(0,n) if isArmStrong(i)]\n",
    "\n",
    "# print(ArmstrongSeries(999))\n",
    "printExecutionTime(ArmstrongSeries,9999)\n"
   ]
  },
  {
   "cell_type": "code",
   "execution_count": null,
   "id": "bc787c6d",
   "metadata": {},
   "outputs": [],
   "source": []
  }
 ],
 "metadata": {
  "kernelspec": {
   "display_name": "Python 3",
   "language": "python",
   "name": "python3"
  },
  "language_info": {
   "codemirror_mode": {
    "name": "ipython",
    "version": 3
   },
   "file_extension": ".py",
   "mimetype": "text/x-python",
   "name": "python",
   "nbconvert_exporter": "python",
   "pygments_lexer": "ipython3",
   "version": "3.8.2"
  }
 },
 "nbformat": 4,
 "nbformat_minor": 5
}
