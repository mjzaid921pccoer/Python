{
 "cells": [
  {
   "cell_type": "markdown",
   "id": "b50a4643",
   "metadata": {},
   "source": [
    "# Sortings\n",
    "\n",
    "* **.sort()** uses a sorting algorithm known as **TIM SORT**\n",
    "* TIM SORT is a sorting algorithm based on Insertion & Merge Sort.\n",
    "\n",
    "* sorted() function\n",
    "\n",
    "## Sorting Algorithms\n",
    "* Bubble Sort\n",
    "* Insertion Sort\n",
    "* Selection Sort\n",
    "* Shell Sort\n",
    "* Quick Sort\n",
    "* Merge Sort\n",
    "\n",
    "\n",
    "* Heap Sort\n",
    "* Bucket Sort\n",
    "* Radix Sort\n"
   ]
  },
  {
   "cell_type": "markdown",
   "id": "ca2b2ce7",
   "metadata": {},
   "source": [
    "## Bubble Sort"
   ]
  },
  {
   "cell_type": "code",
   "execution_count": 2,
   "id": "49f2fb8d",
   "metadata": {},
   "outputs": [
    {
     "data": {
      "text/plain": [
       "[0, 0, 1, 2, 3, 5, 5, 7, 8, 9, 34, 88, 99, 515]"
      ]
     },
     "execution_count": 2,
     "metadata": {},
     "output_type": "execute_result"
    }
   ],
   "source": [
    "def bubbleSort(arr):\n",
    "    for i in range(len(arr)-1):\n",
    "        for j in range(len(arr)-i-1):\n",
    "            if arr[j] > arr[j + 1] :\n",
    "                arr[j] , arr[j + 1] = arr[j + 1] , arr[j]\n",
    "    return arr\n",
    "\n",
    "bubbleSort([7,1,5,0,9,8,3,2,0,5,99,88,515,34])        "
   ]
  },
  {
   "cell_type": "markdown",
   "id": "9121df1f",
   "metadata": {},
   "source": [
    "## Insertion Sort"
   ]
  },
  {
   "cell_type": "code",
   "execution_count": 2,
   "id": "58fd253d",
   "metadata": {},
   "outputs": [
    {
     "data": {
      "text/plain": [
       "[0, 0, 1, 2, 3, 5, 5, 7, 8, 9, 34, 88, 99, 515]"
      ]
     },
     "execution_count": 2,
     "metadata": {},
     "output_type": "execute_result"
    }
   ],
   "source": [
    "def insertionSort(arr):\n",
    "    for i in range(1,len(arr)):\n",
    "        key = arr[i]\n",
    "        j = i - 1        \n",
    "        while(j>=0 and key<arr[j]):\n",
    "            arr[j + 1] = arr[j]\n",
    "            j = j -1\n",
    "        arr[j + 1] = key\n",
    "    return arr\n",
    "        \n",
    "insertionSort([7,1,5,0,9,8,3,2,0,5,99,88,515,34])"
   ]
  },
  {
   "cell_type": "markdown",
   "id": "752dddc7",
   "metadata": {},
   "source": [
    "## Selection Sort"
   ]
  },
  {
   "cell_type": "code",
   "execution_count": 4,
   "id": "5e9c7aae",
   "metadata": {},
   "outputs": [
    {
     "data": {
      "text/plain": [
       "[0, 0, 1, 2, 3, 5, 5, 7, 8, 9, 34, 88, 99, 515]"
      ]
     },
     "execution_count": 4,
     "metadata": {},
     "output_type": "execute_result"
    }
   ],
   "source": [
    "def selectionSort(arr):\n",
    "    for i in range(len(arr)):\n",
    "        min_i = i\n",
    "        for j in range(i+1,len(arr)):\n",
    "            if(arr[min_i] > arr[j]):\n",
    "                min_i = j\n",
    "        arr[i] , arr[min_i] = arr[min_i], arr[i]\n",
    "    return arr\n",
    "\n",
    "selectionSort([7,1,5,0,9,8,3,2,0,5,99,88,515,34])"
   ]
  },
  {
   "cell_type": "markdown",
   "id": "92002eac",
   "metadata": {},
   "source": [
    "## Shell Sort"
   ]
  },
  {
   "cell_type": "code",
   "execution_count": 12,
   "id": "665b5aee",
   "metadata": {},
   "outputs": [
    {
     "data": {
      "text/plain": [
       "[0, 0, 1, 2, 3, 5, 5, 7, 8, 9, 34, 88, 99, 515]"
      ]
     },
     "execution_count": 12,
     "metadata": {},
     "output_type": "execute_result"
    }
   ],
   "source": [
    "def shellSort(arr):\n",
    "    gap = int(len(arr)/2)\n",
    "    while gap > 0:\n",
    "        i = gap\n",
    "        while i < len(arr):\n",
    "            temp = arr[i]\n",
    "            j=i\n",
    "            while (j>=gap and arr[j-gap]>temp):\n",
    "                arr[j] = arr[j-gap]\n",
    "                j = j - gap\n",
    "            arr[j] = temp\n",
    "            i = i + 1\n",
    "        gap = int(gap / 2)\n",
    "    return arr\n",
    "            \n",
    "shellSort([7,1,5,0,9,8,3,2,0,5,99,88,515,34])"
   ]
  },
  {
   "cell_type": "markdown",
   "id": "7c32eaf7",
   "metadata": {},
   "source": [
    "## Quick Sort"
   ]
  },
  {
   "cell_type": "code",
   "execution_count": 29,
   "id": "331df952",
   "metadata": {},
   "outputs": [
    {
     "data": {
      "text/plain": [
       "[0, 0, 1, 2, 3, 5, 5, 7, 8, 9, 34, 88, 99, 515]"
      ]
     },
     "execution_count": 29,
     "metadata": {},
     "output_type": "execute_result"
    }
   ],
   "source": [
    "\n",
    "def quickSort(arr):\n",
    "    \n",
    "    def partition(start, end, arr):\n",
    "        pivot_index = start\n",
    "        pivot = arr[pivot_index]\n",
    "\n",
    "        while start < end:\n",
    "            while start < len(arr) and arr[start] <= pivot:\n",
    "                start = start + 1\n",
    "            while arr[end] > pivot:\n",
    "                end = end - 1\n",
    "            if(start < end):\n",
    "                arr[start], arr[end] = arr[end], arr[start]\n",
    "        arr[end], arr[pivot_index] = arr[pivot_index], arr[end]\n",
    "        return end\n",
    "\n",
    "    def qS(start, end, arr):\n",
    "        if (start < end):\n",
    "            p = partition(start, end, arr)\n",
    "            qS(start, p - 1, arr)\n",
    "            qS(p + 1, end, arr)\n",
    "        \n",
    "    qS(0,len(arr)-1,arr)\n",
    "    return arr\n",
    "\n",
    "quickSort([7,1,5,0,9,8,3,2,0,5,99,88,515,34])"
   ]
  },
  {
   "cell_type": "markdown",
   "id": "caec5422",
   "metadata": {},
   "source": [
    "## Merge Sort"
   ]
  },
  {
   "cell_type": "code",
   "execution_count": 30,
   "id": "ea0fc16d",
   "metadata": {},
   "outputs": [
    {
     "data": {
      "text/plain": [
       "[0, 0, 1, 2, 3, 5, 5, 7, 8, 9, 34, 88, 99, 515]"
      ]
     },
     "execution_count": 30,
     "metadata": {},
     "output_type": "execute_result"
    }
   ],
   "source": [
    "def mergeSort(arr):\n",
    "    if len(arr) > 1:\n",
    "        mid = len(arr)//2\n",
    "        L = arr[:mid]\n",
    "        R = arr[mid:]\n",
    "        mergeSort(L)\n",
    "        mergeSort(R)\n",
    " \n",
    "        i = j = k = 0\n",
    "        while i < len(L) and j < len(R):\n",
    "            if L[i] < R[j]:\n",
    "                arr[k] = L[i]\n",
    "                i += 1\n",
    "            else:\n",
    "                arr[k] = R[j]\n",
    "                j += 1\n",
    "            k += 1\n",
    "            \n",
    "        while i < len(L):\n",
    "            arr[k] = L[i]\n",
    "            i += 1\n",
    "            k += 1\n",
    " \n",
    "        while j < len(R):\n",
    "            arr[k] = R[j]\n",
    "            j += 1\n",
    "            k += 1\n",
    "    return arr\n",
    "\n",
    "mergeSort([7,1,5,0,9,8,3,2,0,5,99,88,515,34])"
   ]
  },
  {
   "cell_type": "markdown",
   "id": "30d615af",
   "metadata": {},
   "source": [
    "# Searching"
   ]
  },
  {
   "cell_type": "markdown",
   "id": "ad6d29e7",
   "metadata": {},
   "source": [
    "## Linear Search"
   ]
  },
  {
   "cell_type": "code",
   "execution_count": 41,
   "id": "d4515453",
   "metadata": {},
   "outputs": [
    {
     "data": {
      "text/plain": [
       "2"
      ]
     },
     "execution_count": 41,
     "metadata": {},
     "output_type": "execute_result"
    }
   ],
   "source": [
    "def linearSearch(arr,item):\n",
    "    for i in range(len(arr)):\n",
    "        if item == arr[i]:\n",
    "            return i\n",
    "    return -1\n",
    "\n",
    "linearSearch([7,1,5,0,9,8,3,2,0,5,99,88,515,34],5)"
   ]
  },
  {
   "cell_type": "markdown",
   "id": "b7daafbf",
   "metadata": {},
   "source": [
    "## Binary Search"
   ]
  },
  {
   "cell_type": "code",
   "execution_count": 4,
   "id": "92d68a65",
   "metadata": {},
   "outputs": [
    {
     "name": "stdout",
     "output_type": "stream",
     "text": [
      "[0, 0, 1, 2, 3, 5, 5, 7, 8, 9, 34, 88, 99, 515]\n"
     ]
    },
    {
     "data": {
      "text/plain": [
       "6"
      ]
     },
     "execution_count": 4,
     "metadata": {},
     "output_type": "execute_result"
    }
   ],
   "source": [
    "def binarySearch(arr,item):\n",
    "    def bs(arr,l,r,item):\n",
    "        if r >= l: \n",
    "            mid = int(l + r / 2)\n",
    "            if arr[mid] == item:\n",
    "                return mid\n",
    "            elif arr[mid] > item:\n",
    "                return bs(arr, l, mid-1, item)\n",
    "            else:\n",
    "                return bs(arr, mid + 1, r, item)\n",
    "        else:\n",
    "            return -1\n",
    "    return bs(arr,0,len(arr)-1,item)\n",
    "\n",
    "arr = bubbleSort([7,1,5,0,9,8,3,2,0,5,99,88,515,34])\n",
    "print(arr)\n",
    "binarySearch(arr,5)"
   ]
  },
  {
   "cell_type": "code",
   "execution_count": null,
   "id": "8018ce18",
   "metadata": {},
   "outputs": [],
   "source": []
  }
 ],
 "metadata": {
  "kernelspec": {
   "display_name": "Python 3",
   "language": "python",
   "name": "python3"
  },
  "language_info": {
   "codemirror_mode": {
    "name": "ipython",
    "version": 3
   },
   "file_extension": ".py",
   "mimetype": "text/x-python",
   "name": "python",
   "nbconvert_exporter": "python",
   "pygments_lexer": "ipython3",
   "version": "3.8.2"
  }
 },
 "nbformat": 4,
 "nbformat_minor": 5
}
